{
 "cells": [
  {
   "cell_type": "code",
   "execution_count": 8,
   "id": "fa1645bf",
   "metadata": {
    "colab": {
     "base_uri": "https://localhost:8080/",
     "height": 106
    },
    "id": "fa1645bf",
    "outputId": "a5adab91-b3e7-4253-c540-f9198002c92a"
   },
   "outputs": [
    {
     "name": "stdout",
     "output_type": "stream",
     "text": [
      "Step 1: Go to the park.\n",
      "Step 2: Look for a tree with a red mark.\n"
     ]
    }
   ],
   "source": [
    "# Original code (fix it!)\n",
    "if True:\n",
    "  print(\"Step 1: Go to the park.\")\n",
    "  print(\"Step 2: Look for a tree with a red mark.\")"
   ]
  },
  {
   "cell_type": "code",
   "execution_count": 16,
   "id": "07675d9b-d3d9-441c-ae5a-ac6bf46299c2",
   "metadata": {},
   "outputs": [
    {
     "name": "stdout",
     "output_type": "stream",
     "text": [
      "Pasta Recipe\n",
      "1. Boil water in a large pot.\n",
      "2. Add a pinch of salt to the boiling water.\n",
      "3. Add pasta and cook for 8-10 minutes, stirring occasionally.\n",
      "4. Drain the pasta using a colander.\n",
      "5. Heat sauce in a separate pan.\n",
      "6. Mix the pasta with the sauce\n",
      "7. Serve hot and enjoy your meal!\n"
     ]
    }
   ],
   "source": [
    "print(\"Pasta Recipe\\n1. Boil water in a large pot.\\n2. Add a pinch of salt to the boiling water.\\n3. Add pasta and cook for 8-10 minutes, stirring occasionally.\\n4. Drain the pasta using a colander.\\n5. Heat sauce in a separate pan.\\n6. Mix the pasta with the sauce\\n7. Serve hot and enjoy your meal!\")\n"
   ]
  },
  {
   "cell_type": "code",
   "execution_count": 25,
   "id": "d3017edf-eb5c-421c-9ec9-e33d712b9627",
   "metadata": {},
   "outputs": [
    {
     "name": "stdin",
     "output_type": "stream",
     "text": [
      "Name:  Faiz\n",
      "Age:  32\n",
      "Height:  123\n",
      "Weight:  32\n"
     ]
    },
    {
     "name": "stdout",
     "output_type": "stream",
     "text": [
      "Name: Faiz\n",
      "Age: 32\n",
      "Height: 123.0 cm\n",
      "Weight: 32.0 kg\n"
     ]
    }
   ],
   "source": [
    "name = input(\"Name: \")\n",
    "age = int( input(\"Age: \"))\n",
    "h = float( input(\"Height: \"))\n",
    "w = float( input(\"Weight: \"))\n",
    "\n",
    "print(\"\\n\\nName: \" + name + \n",
    "      \"\\nAge: \" + str(age) + \n",
    "      \"\\nHeight: \" + str(h) + \" cm\" + \n",
    "      \"\\nWeight: \" + str(w) + \" kg\")"
   ]
  },
  {
   "cell_type": "code",
   "execution_count": 32,
   "id": "EMUDi1r_Uk0I",
   "metadata": {
    "id": "EMUDi1r_Uk0I"
   },
   "outputs": [
    {
     "name": "stdin",
     "output_type": "stream",
     "text": [
      "Enter your weight(kg): 34\n",
      "How long you exersice(minute):  34\n"
     ]
    },
    {
     "name": "stdout",
     "output_type": "stream",
     "text": [
      "\n",
      "💧 Daily Water Intake Recommendation 💧\n",
      "Base Water Intake: 1020.0 mL\n",
      "Extra from Exercise: 408.0 mL\n",
      "Total Water: 1428.0 mL\n",
      "Which is about: 1.43 liters\n"
     ]
    }
   ],
   "source": [
    "# write down what are the steps that you will take to handle this task\n",
    "# Step 1: Print out the instructions.\n",
    "# Step 2: Ask user to input weight and exercise duration.\n",
    "# Step 3: Calculation base water intake.\n",
    "# Step 4: Calculate extra water intake.\n",
    "# Step 5: Add base water intake and extra water intake.\n",
    "# Step 6: Convert mL to liters.\n",
    "# Step 7: Display output.\n",
    "waterIntake = 0.03\n",
    "extraWater = 12\n",
    "\n",
    "weight = float(input(\"Enter your weight(kg):\"))\n",
    "minute = float(input(\"How long you exersice(minute): \"))\n",
    "\n",
    "baseWater = 30*weight\n",
    "exercise = 12*minute\n",
    "total = baseWater + exercise\n",
    "\n",
    "print(\"\\n💧 Daily Water Intake Recommendation 💧\")\n",
    "print(\"Base Water Intake: \" + str(baseWater) + \" mL\")\n",
    "print(\"Extra from Exercise: \" + str(exercise) + \" mL\")\n",
    "print(\"Total Water: \" + str(total) + \" mL\")\n",
    "print(\"Which is about: \" + str(round(total/1000, 2)) + \" liters\")\n"
   ]
  },
  {
   "cell_type": "markdown",
   "id": "bd2d1136-d7e3-4af7-83c1-09a43bab5673",
   "metadata": {},
   "source": [
    "Reflection: What would happen if the base_water and exercise_water calculations were performed in the print statement instead of being assigned to variables beforehand?"
   ]
  }
 ],
 "metadata": {
  "colab": {
   "provenance": []
  },
  "kernelspec": {
   "display_name": "Python 3 (ipykernel)",
   "language": "python",
   "name": "python3"
  },
  "language_info": {
   "codemirror_mode": {
    "name": "ipython",
    "version": 3
   },
   "file_extension": ".py",
   "mimetype": "text/x-python",
   "name": "python",
   "nbconvert_exporter": "python",
   "pygments_lexer": "ipython3",
   "version": "3.13.5"
  }
 },
 "nbformat": 4,
 "nbformat_minor": 5
}
