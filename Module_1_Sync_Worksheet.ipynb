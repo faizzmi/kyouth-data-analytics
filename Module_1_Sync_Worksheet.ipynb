{
 "cells": [
  {
   "cell_type": "markdown",
   "id": "a9084bae",
   "metadata": {
    "id": "a9084bae"
   },
   "source": [
    "# Guided Practice Module 1: The Power of Python"
   ]
  },
  {
   "cell_type": "markdown",
   "id": "7d84932f",
   "metadata": {
    "id": "7d84932f"
   },
   "source": [
    "## 🎯Your Mission:\n",
    "\n",
    "Now that you have learned some basic coding from the first few exercises, you will apply them in some of the following basic coding exercises."
   ]
  },
  {
   "cell_type": "markdown",
   "id": "wxNkwLr6ODPM",
   "metadata": {
    "id": "wxNkwLr6ODPM"
   },
   "source": [
    "By working through this problem, you will apply the following learning objectives from Lessons 1A - 1C:\n",
    "- Write and execute Python code using basic syntax\n",
    "- Print output using the print() function to display messages and results in your programs.\n",
    "- Declare variables and accept user input using the input() function to store and process user-provided data.\n",
    "- Apply #AlgoThinking and #Iterate while coding"
   ]
  },
  {
   "cell_type": "markdown",
   "id": "90a01950",
   "metadata": {
    "id": "90a01950"
   },
   "source": [
    "### 1️⃣ Debugging Wrong Python Syntax (#iterate)\n",
    "\n",
    "Task: You are organizing a treasure hunt and need to write clear instructions for players. Unfortunately, the formatting got messed up. Fix the code to make it readable!"
   ]
  },
  {
   "cell_type": "code",
   "execution_count": 8,
   "id": "fa1645bf",
   "metadata": {
    "colab": {
     "base_uri": "https://localhost:8080/",
     "height": 106
    },
    "id": "fa1645bf",
    "outputId": "a5adab91-b3e7-4253-c540-f9198002c92a"
   },
   "outputs": [
    {
     "name": "stdout",
     "output_type": "stream",
     "text": [
      "Step 1: Go to the park.\n",
      "Step 2: Look for a tree with a red mark.\n"
     ]
    }
   ],
   "source": [
    "# Original code (fix it!)\n",
    "if True:\n",
    "  print(\"Step 1: Go to the park.\")\n",
    "  print(\"Step 2: Look for a tree with a red mark.\")"
   ]
  },
  {
   "cell_type": "markdown",
   "id": "a8146d6a",
   "metadata": {
    "id": "a8146d6a"
   },
   "source": [
    "**Reflection:** What were the different types of syntax errors that you have found?"
   ]
  },
  {
   "cell_type": "markdown",
   "id": "24d8d3bd",
   "metadata": {
    "id": "24d8d3bd"
   },
   "source": [
    "###2️⃣ Print Basic Python Outputs\n",
    "\n",
    "Task: Try to print out a recipe to cook pasta. Make sure each step is printed on a separate line."
   ]
  },
  {
   "cell_type": "code",
   "execution_count": 16,
   "id": "07675d9b-d3d9-441c-ae5a-ac6bf46299c2",
   "metadata": {},
   "outputs": [
    {
     "name": "stdout",
     "output_type": "stream",
     "text": [
      "Pasta Recipe\n",
      "1. Boil water in a large pot.\n",
      "2. Add a pinch of salt to the boiling water.\n",
      "3. Add pasta and cook for 8-10 minutes, stirring occasionally.\n",
      "4. Drain the pasta using a colander.\n",
      "5. Heat sauce in a separate pan.\n",
      "6. Mix the pasta with the sauce\n",
      "7. Serve hot and enjoy your meal!\n"
     ]
    }
   ],
   "source": [
    "print(\"Pasta Recipe\\n1. Boil water in a large pot.\\n2. Add a pinch of salt to the boiling water.\\n3. Add pasta and cook for 8-10 minutes, stirring occasionally.\\n4. Drain the pasta using a colander.\\n5. Heat sauce in a separate pan.\\n6. Mix the pasta with the sauce\\n7. Serve hot and enjoy your meal!\")\n"
   ]
  },
  {
   "cell_type": "markdown",
   "id": "a6c3fe5b",
   "metadata": {
    "id": "a6c3fe5b"
   },
   "source": [
    "### 3️⃣ Variables and Data Types\n",
    "Task: You’re setting up a profile for a new social media app.\n",
    "1. Define the following **variables** with your details: name, age, height, weight\n",
    "2. Display each information similar to the format below:\n",
    "\n",
    "![Untitled.png](data:image/png;base64,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)"
   ]
  },
  {
   "cell_type": "code",
   "execution_count": 25,
   "id": "d3017edf-eb5c-421c-9ec9-e33d712b9627",
   "metadata": {},
   "outputs": [
    {
     "name": "stdin",
     "output_type": "stream",
     "text": [
      "Name:  Faiz\n",
      "Age:  32\n",
      "Height:  123\n",
      "Weight:  32\n"
     ]
    },
    {
     "name": "stdout",
     "output_type": "stream",
     "text": [
      "Name: Faiz\n",
      "Age: 32\n",
      "Height: 123.0 cm\n",
      "Weight: 32.0 kg\n"
     ]
    }
   ],
   "source": [
    "name = input(\"Name: \")\n",
    "age = int( input(\"Age: \"))\n",
    "h = float( input(\"Height: \"))\n",
    "w = float( input(\"Weight: \"))\n",
    "\n",
    "print(\"\\n\\nName: \" + name + \n",
    "      \"\\nAge: \" + str(age) + \n",
    "      \"\\nHeight: \" + str(h) + \" cm\" + \n",
    "      \"\\nWeight: \" + str(w) + \" kg\")"
   ]
  },
  {
   "cell_type": "markdown",
   "id": "7f401e40",
   "metadata": {
    "id": "7f401e40"
   },
   "source": [
    "Reflection:\n",
    "- What is the data type of each variable?\n",
    "- Try putting 165cm in the height variable. Why doesn't it work? How can you successfully define the variable as 165cm?"
   ]
  },
  {
   "cell_type": "markdown",
   "id": "850abc18",
   "metadata": {
    "id": "850abc18"
   },
   "source": [
    "### 4️⃣ Applying it all together\n",
    "\n",
    "Task:\n",
    "You’re creating a learning app for junior coders. Write a program to teach them how to calculate their daily water intake based on weight and activity level. Use both single-line and multi-line comments to clearly explain the steps of the program.\n",
    "\n",
    "Calculations:\n",
    "- Base water intake = 30mL per kg of weight\n",
    "- Extra water requirement for exercise = 12mL per minute of exercise"
   ]
  },
  {
   "cell_type": "markdown",
   "id": "Y4vYj8giUppR",
   "metadata": {
    "id": "Y4vYj8giUppR"
   },
   "source": [
    "**💭Apply #AlgoThinking**\n",
    "\n",
    "Before you start coding, let's start by listing down what are the steps you will be taking to handle this task."
   ]
  },
  {
   "cell_type": "code",
   "execution_count": 32,
   "id": "EMUDi1r_Uk0I",
   "metadata": {
    "id": "EMUDi1r_Uk0I"
   },
   "outputs": [
    {
     "name": "stdin",
     "output_type": "stream",
     "text": [
      "Enter your weight(kg): 34\n",
      "How long you exersice(minute):  34\n"
     ]
    },
    {
     "name": "stdout",
     "output_type": "stream",
     "text": [
      "\n",
      "💧 Daily Water Intake Recommendation 💧\n",
      "Base Water Intake: 1020.0 mL\n",
      "Extra from Exercise: 408.0 mL\n",
      "Total Water: 1428.0 mL\n",
      "Which is about: 1.43 liters\n"
     ]
    }
   ],
   "source": [
    "# write down what are the steps that you will take to handle this task\n",
    "# Step 1: Print out the instructions.\n",
    "# Step 2: Ask user to input weight and exercise duration.\n",
    "# Step 3: Calculation base water intake.\n",
    "# Step 4: Calculate extra water intake.\n",
    "# Step 5: Add base water intake and extra water intake.\n",
    "# Step 6: Convert mL to liters.\n",
    "# Step 7: Display output.\n",
    "waterIntake = 0.03\n",
    "extraWater = 12\n",
    "\n",
    "weight = float(input(\"Enter your weight(kg):\"))\n",
    "minute = float(input(\"How long you exersice(minute): \"))\n",
    "\n",
    "baseWater = 30*weight\n",
    "exercise = 12*minute\n",
    "total = baseWater + exercise\n",
    "\n",
    "print(\"\\n💧 Daily Water Intake Recommendation 💧\")\n",
    "print(\"Base Water Intake: \" + str(baseWater) + \" mL\")\n",
    "print(\"Extra from Exercise: \" + str(exercise) + \" mL\")\n",
    "print(\"Total Water: \" + str(total) + \" mL\")\n",
    "print(\"Which is about: \" + str(round(total/1000, 2)) + \" liters\")\n"
   ]
  },
  {
   "cell_type": "markdown",
   "id": "bd2d1136-d7e3-4af7-83c1-09a43bab5673",
   "metadata": {},
   "source": [
    "Reflection: What would happen if the base_water and exercise_water calculations were performed in the print statement instead of being assigned to variables beforehand?"
   ]
  }
 ],
 "metadata": {
  "colab": {
   "provenance": []
  },
  "kernelspec": {
   "display_name": "Python 3 (ipykernel)",
   "language": "python",
   "name": "python3"
  },
  "language_info": {
   "codemirror_mode": {
    "name": "ipython",
    "version": 3
   },
   "file_extension": ".py",
   "mimetype": "text/x-python",
   "name": "python",
   "nbconvert_exporter": "python",
   "pygments_lexer": "ipython3",
   "version": "3.13.5"
  }
 },
 "nbformat": 4,
 "nbformat_minor": 5
}
