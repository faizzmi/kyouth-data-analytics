{
 "cells": [
  {
   "cell_type": "markdown",
   "id": "eab82f43",
   "metadata": {
    "id": "eab82f43"
   },
   "source": [
    "# Lesson 3C: Data Manipulation"
   ]
  },
  {
   "cell_type": "markdown",
   "id": "6973d847",
   "metadata": {
    "id": "6973d847"
   },
   "source": [
    "## 🎯Learning Objectives:\n",
    "1. Create new calculated columns for data analysis.\n",
    "2. Encode categorical data into numerical data using label encoding.\n",
    "3. Convert dates into datetime format and extract data into new columns."
   ]
  },
  {
   "cell_type": "markdown",
   "id": "1da8feb5",
   "metadata": {
    "id": "1da8feb5"
   },
   "source": [
    "\n",
    "## ▶️ Getting Started\n",
    "We will get started by loading pandas and the restaurant_transaction_clean.csv file."
   ]
  },
  {
   "cell_type": "code",
   "id": "cfcb3ea7",
   "metadata": {
    "colab": {
     "base_uri": "https://localhost:8080/",
     "height": 484
    },
    "executionInfo": {
     "elapsed": 68,
     "status": "ok",
     "timestamp": 1744361260553,
     "user": {
      "displayName": "Tan Wei Jie",
      "userId": "13153057253066753068"
     },
     "user_tz": -480
    },
    "id": "cfcb3ea7",
    "outputId": "5c551939-338d-430f-857c-30c9daf2fe27",
    "ExecuteTime": {
     "end_time": "2025-09-15T04:21:26.824180Z",
     "start_time": "2025-09-15T04:21:26.717633Z"
    }
   },
   "source": [
    "import pandas as pd\n",
    "\n",
    "# Load the dataset\n",
    "file_path = \"Cleaned_Restaurant_Transactions_Dataset.csv\"\n",
    "df = pd.read_csv(file_path)\n",
    "\n",
    "# Display basic info\n",
    "df.info()\n",
    "\n",
    "# Display the first few rows\n",
    "df.head()\n"
   ],
   "outputs": [
    {
     "name": "stdout",
     "output_type": "stream",
     "text": [
      "<class 'pandas.core.frame.DataFrame'>\n",
      "RangeIndex: 989 entries, 0 to 988\n",
      "Data columns (total 9 columns):\n",
      " #   Column          Non-Null Count  Dtype  \n",
      "---  ------          --------------  -----  \n",
      " 0   Customer_ID     989 non-null    int64  \n",
      " 1   Food_Item       989 non-null    object \n",
      " 2   Category        989 non-null    object \n",
      " 3   Date_of_Visit   989 non-null    object \n",
      " 4   Time            989 non-null    object \n",
      " 5   Weather         989 non-null    object \n",
      " 6   Price           989 non-null    float64\n",
      " 7   Weekend         989 non-null    object \n",
      " 8   Public_Holiday  989 non-null    object \n",
      "dtypes: float64(1), int64(1), object(7)\n",
      "memory usage: 69.7+ KB\n"
     ]
    },
    {
     "data": {
      "text/plain": [
       "   Customer_ID  Food_Item Category Date_of_Visit   Time  Weather    Price  \\\n",
       "0         1075   Smoothie     Cold    24/03/2023  12:30    Sunny  14.8800   \n",
       "1         1030       Soup      Hot    19/03/2023  14:30  Raining   6.7176   \n",
       "2         1055  Ice Cream     Cold    24/03/2023  10:30    Sunny  14.2700   \n",
       "3         1058  Ice Cream     Cold    05/03/2023  22:00    Sunny  14.6880   \n",
       "4         1084   Smoothie     Cold    29/03/2023  16:30    Sunny   8.8440   \n",
       "\n",
       "  Weekend Public_Holiday  \n",
       "0      No             No  \n",
       "1     Yes             No  \n",
       "2      No             No  \n",
       "3     Yes             No  \n",
       "4      No            Yes  "
      ],
      "text/html": [
       "<div>\n",
       "<style scoped>\n",
       "    .dataframe tbody tr th:only-of-type {\n",
       "        vertical-align: middle;\n",
       "    }\n",
       "\n",
       "    .dataframe tbody tr th {\n",
       "        vertical-align: top;\n",
       "    }\n",
       "\n",
       "    .dataframe thead th {\n",
       "        text-align: right;\n",
       "    }\n",
       "</style>\n",
       "<table border=\"1\" class=\"dataframe\">\n",
       "  <thead>\n",
       "    <tr style=\"text-align: right;\">\n",
       "      <th></th>\n",
       "      <th>Customer_ID</th>\n",
       "      <th>Food_Item</th>\n",
       "      <th>Category</th>\n",
       "      <th>Date_of_Visit</th>\n",
       "      <th>Time</th>\n",
       "      <th>Weather</th>\n",
       "      <th>Price</th>\n",
       "      <th>Weekend</th>\n",
       "      <th>Public_Holiday</th>\n",
       "    </tr>\n",
       "  </thead>\n",
       "  <tbody>\n",
       "    <tr>\n",
       "      <th>0</th>\n",
       "      <td>1075</td>\n",
       "      <td>Smoothie</td>\n",
       "      <td>Cold</td>\n",
       "      <td>24/03/2023</td>\n",
       "      <td>12:30</td>\n",
       "      <td>Sunny</td>\n",
       "      <td>14.8800</td>\n",
       "      <td>No</td>\n",
       "      <td>No</td>\n",
       "    </tr>\n",
       "    <tr>\n",
       "      <th>1</th>\n",
       "      <td>1030</td>\n",
       "      <td>Soup</td>\n",
       "      <td>Hot</td>\n",
       "      <td>19/03/2023</td>\n",
       "      <td>14:30</td>\n",
       "      <td>Raining</td>\n",
       "      <td>6.7176</td>\n",
       "      <td>Yes</td>\n",
       "      <td>No</td>\n",
       "    </tr>\n",
       "    <tr>\n",
       "      <th>2</th>\n",
       "      <td>1055</td>\n",
       "      <td>Ice Cream</td>\n",
       "      <td>Cold</td>\n",
       "      <td>24/03/2023</td>\n",
       "      <td>10:30</td>\n",
       "      <td>Sunny</td>\n",
       "      <td>14.2700</td>\n",
       "      <td>No</td>\n",
       "      <td>No</td>\n",
       "    </tr>\n",
       "    <tr>\n",
       "      <th>3</th>\n",
       "      <td>1058</td>\n",
       "      <td>Ice Cream</td>\n",
       "      <td>Cold</td>\n",
       "      <td>05/03/2023</td>\n",
       "      <td>22:00</td>\n",
       "      <td>Sunny</td>\n",
       "      <td>14.6880</td>\n",
       "      <td>Yes</td>\n",
       "      <td>No</td>\n",
       "    </tr>\n",
       "    <tr>\n",
       "      <th>4</th>\n",
       "      <td>1084</td>\n",
       "      <td>Smoothie</td>\n",
       "      <td>Cold</td>\n",
       "      <td>29/03/2023</td>\n",
       "      <td>16:30</td>\n",
       "      <td>Sunny</td>\n",
       "      <td>8.8440</td>\n",
       "      <td>No</td>\n",
       "      <td>Yes</td>\n",
       "    </tr>\n",
       "  </tbody>\n",
       "</table>\n",
       "</div>"
      ]
     },
     "execution_count": 3,
     "metadata": {},
     "output_type": "execute_result"
    }
   ],
   "execution_count": 3
  },
  {
   "cell_type": "markdown",
   "id": "a42aae0a",
   "metadata": {
    "id": "a42aae0a"
   },
   "source": [
    "## 1️⃣ Creating a new calculated column\n",
    "When preparing data, sometimes you might need to create new custom calculated columns. Pandas make it really easy to create new columns with df['COLUMN NAME'].\n",
    "\n",
    "In the example below, we will create a new column called Discounted Price by applying a 10% discount to all prices."
   ]
  },
  {
   "cell_type": "code",
   "id": "0772d5f3",
   "metadata": {
    "colab": {
     "base_uri": "https://localhost:8080/",
     "height": 206
    },
    "executionInfo": {
     "elapsed": 43,
     "status": "ok",
     "timestamp": 1744361263940,
     "user": {
      "displayName": "Tan Wei Jie",
      "userId": "13153057253066753068"
     },
     "user_tz": -480
    },
    "id": "0772d5f3",
    "outputId": "c37ade14-53ad-4446-ac79-2cea499a00ec",
    "ExecuteTime": {
     "end_time": "2025-09-15T04:43:12.664955Z",
     "start_time": "2025-09-15T04:43:12.601865Z"
    }
   },
   "source": [
    "# Apply 10% discount and create a new column 'Final_Price'\n",
    "df['Discounted_Price'] = (df['Price'] * 0.90).round(2)\n",
    "\n",
    "# Display the updated DataFrame\n",
    "df.head()\n"
   ],
   "outputs": [
    {
     "data": {
      "text/plain": [
       "   Customer_ID  Food_Item Category Date_of_Visit   Time  Weather    Price  \\\n",
       "0         1075   Smoothie     Cold    2023-03-24  12:30    Sunny  14.8800   \n",
       "1         1030       Soup      Hot    2023-03-19  14:30  Raining   6.7176   \n",
       "2         1055  Ice Cream     Cold    2023-03-24  10:30    Sunny  14.2700   \n",
       "3         1058  Ice Cream     Cold    2023-03-05  22:00    Sunny  14.6880   \n",
       "4         1084   Smoothie     Cold    2023-03-29  16:30    Sunny   8.8440   \n",
       "\n",
       "  Weekend Public_Holiday  Year  Month  Day Day_of_Week  Discounted_Price  \n",
       "0      No             No  2023      3   24      Friday             13.39  \n",
       "1     Yes             No  2023      3   19      Sunday              6.05  \n",
       "2      No             No  2023      3   24      Friday             12.84  \n",
       "3     Yes             No  2023      3    5      Sunday             13.22  \n",
       "4      No            Yes  2023      3   29   Wednesday              7.96  "
      ],
      "text/html": [
       "<div>\n",
       "<style scoped>\n",
       "    .dataframe tbody tr th:only-of-type {\n",
       "        vertical-align: middle;\n",
       "    }\n",
       "\n",
       "    .dataframe tbody tr th {\n",
       "        vertical-align: top;\n",
       "    }\n",
       "\n",
       "    .dataframe thead th {\n",
       "        text-align: right;\n",
       "    }\n",
       "</style>\n",
       "<table border=\"1\" class=\"dataframe\">\n",
       "  <thead>\n",
       "    <tr style=\"text-align: right;\">\n",
       "      <th></th>\n",
       "      <th>Customer_ID</th>\n",
       "      <th>Food_Item</th>\n",
       "      <th>Category</th>\n",
       "      <th>Date_of_Visit</th>\n",
       "      <th>Time</th>\n",
       "      <th>Weather</th>\n",
       "      <th>Price</th>\n",
       "      <th>Weekend</th>\n",
       "      <th>Public_Holiday</th>\n",
       "      <th>Year</th>\n",
       "      <th>Month</th>\n",
       "      <th>Day</th>\n",
       "      <th>Day_of_Week</th>\n",
       "      <th>Discounted_Price</th>\n",
       "    </tr>\n",
       "  </thead>\n",
       "  <tbody>\n",
       "    <tr>\n",
       "      <th>0</th>\n",
       "      <td>1075</td>\n",
       "      <td>Smoothie</td>\n",
       "      <td>Cold</td>\n",
       "      <td>2023-03-24</td>\n",
       "      <td>12:30</td>\n",
       "      <td>Sunny</td>\n",
       "      <td>14.8800</td>\n",
       "      <td>No</td>\n",
       "      <td>No</td>\n",
       "      <td>2023</td>\n",
       "      <td>3</td>\n",
       "      <td>24</td>\n",
       "      <td>Friday</td>\n",
       "      <td>13.39</td>\n",
       "    </tr>\n",
       "    <tr>\n",
       "      <th>1</th>\n",
       "      <td>1030</td>\n",
       "      <td>Soup</td>\n",
       "      <td>Hot</td>\n",
       "      <td>2023-03-19</td>\n",
       "      <td>14:30</td>\n",
       "      <td>Raining</td>\n",
       "      <td>6.7176</td>\n",
       "      <td>Yes</td>\n",
       "      <td>No</td>\n",
       "      <td>2023</td>\n",
       "      <td>3</td>\n",
       "      <td>19</td>\n",
       "      <td>Sunday</td>\n",
       "      <td>6.05</td>\n",
       "    </tr>\n",
       "    <tr>\n",
       "      <th>2</th>\n",
       "      <td>1055</td>\n",
       "      <td>Ice Cream</td>\n",
       "      <td>Cold</td>\n",
       "      <td>2023-03-24</td>\n",
       "      <td>10:30</td>\n",
       "      <td>Sunny</td>\n",
       "      <td>14.2700</td>\n",
       "      <td>No</td>\n",
       "      <td>No</td>\n",
       "      <td>2023</td>\n",
       "      <td>3</td>\n",
       "      <td>24</td>\n",
       "      <td>Friday</td>\n",
       "      <td>12.84</td>\n",
       "    </tr>\n",
       "    <tr>\n",
       "      <th>3</th>\n",
       "      <td>1058</td>\n",
       "      <td>Ice Cream</td>\n",
       "      <td>Cold</td>\n",
       "      <td>2023-03-05</td>\n",
       "      <td>22:00</td>\n",
       "      <td>Sunny</td>\n",
       "      <td>14.6880</td>\n",
       "      <td>Yes</td>\n",
       "      <td>No</td>\n",
       "      <td>2023</td>\n",
       "      <td>3</td>\n",
       "      <td>5</td>\n",
       "      <td>Sunday</td>\n",
       "      <td>13.22</td>\n",
       "    </tr>\n",
       "    <tr>\n",
       "      <th>4</th>\n",
       "      <td>1084</td>\n",
       "      <td>Smoothie</td>\n",
       "      <td>Cold</td>\n",
       "      <td>2023-03-29</td>\n",
       "      <td>16:30</td>\n",
       "      <td>Sunny</td>\n",
       "      <td>8.8440</td>\n",
       "      <td>No</td>\n",
       "      <td>Yes</td>\n",
       "      <td>2023</td>\n",
       "      <td>3</td>\n",
       "      <td>29</td>\n",
       "      <td>Wednesday</td>\n",
       "      <td>7.96</td>\n",
       "    </tr>\n",
       "  </tbody>\n",
       "</table>\n",
       "</div>"
      ]
     },
     "execution_count": 8,
     "metadata": {},
     "output_type": "execute_result"
    }
   ],
   "execution_count": 8
  },
  {
   "cell_type": "markdown",
   "id": "5ee86fa2",
   "metadata": {
    "id": "5ee86fa2"
   },
   "source": [
    "## 2️⃣: Encoding Categorical Data into Numerical Data  \n",
    "\n",
    "Sometimes, we might turn categorical data into numerical data through label encoding. This helps to prepare data, particularly for machine learning purposes.\n",
    "\n",
    "In the example below, we are converting 'Cold' into 0 and 'Hot' into 1.  \n"
   ]
  },
  {
   "cell_type": "code",
   "id": "2393562a",
   "metadata": {
    "colab": {
     "base_uri": "https://localhost:8080/",
     "height": 206
    },
    "executionInfo": {
     "elapsed": 58,
     "status": "ok",
     "timestamp": 1744361299022,
     "user": {
      "displayName": "Tan Wei Jie",
      "userId": "13153057253066753068"
     },
     "user_tz": -480
    },
    "id": "2393562a",
    "outputId": "fe0f05bb-b7c1-448f-b985-fe86b9d1c462",
    "ExecuteTime": {
     "end_time": "2025-09-15T04:43:45.837408Z",
     "start_time": "2025-09-15T04:43:45.797115Z"
    }
   },
   "source": [
    "# Define your custom mapping for categories\n",
    "category_mapping = {\n",
    "    'Cold': 0,\n",
    "    'Hot': 1\n",
    "}\n",
    "\n",
    "# Apply the mapping\n",
    "df['Category_Encoded'] = df['Category'].map(category_mapping)\n",
    "\n",
    "# Display the result\n",
    "df.head()\n"
   ],
   "outputs": [
    {
     "data": {
      "text/plain": [
       "   Customer_ID  Food_Item Category Date_of_Visit   Time  Weather    Price  \\\n",
       "0         1075   Smoothie     Cold    2023-03-24  12:30    Sunny  14.8800   \n",
       "1         1030       Soup      Hot    2023-03-19  14:30  Raining   6.7176   \n",
       "2         1055  Ice Cream     Cold    2023-03-24  10:30    Sunny  14.2700   \n",
       "3         1058  Ice Cream     Cold    2023-03-05  22:00    Sunny  14.6880   \n",
       "4         1084   Smoothie     Cold    2023-03-29  16:30    Sunny   8.8440   \n",
       "\n",
       "  Weekend Public_Holiday  Year  Month  Day Day_of_Week  Discounted_Price  \\\n",
       "0      No             No  2023      3   24      Friday             13.39   \n",
       "1     Yes             No  2023      3   19      Sunday              6.05   \n",
       "2      No             No  2023      3   24      Friday             12.84   \n",
       "3     Yes             No  2023      3    5      Sunday             13.22   \n",
       "4      No            Yes  2023      3   29   Wednesday              7.96   \n",
       "\n",
       "   Category_Encoded  \n",
       "0                 0  \n",
       "1                 1  \n",
       "2                 0  \n",
       "3                 0  \n",
       "4                 0  "
      ],
      "text/html": [
       "<div>\n",
       "<style scoped>\n",
       "    .dataframe tbody tr th:only-of-type {\n",
       "        vertical-align: middle;\n",
       "    }\n",
       "\n",
       "    .dataframe tbody tr th {\n",
       "        vertical-align: top;\n",
       "    }\n",
       "\n",
       "    .dataframe thead th {\n",
       "        text-align: right;\n",
       "    }\n",
       "</style>\n",
       "<table border=\"1\" class=\"dataframe\">\n",
       "  <thead>\n",
       "    <tr style=\"text-align: right;\">\n",
       "      <th></th>\n",
       "      <th>Customer_ID</th>\n",
       "      <th>Food_Item</th>\n",
       "      <th>Category</th>\n",
       "      <th>Date_of_Visit</th>\n",
       "      <th>Time</th>\n",
       "      <th>Weather</th>\n",
       "      <th>Price</th>\n",
       "      <th>Weekend</th>\n",
       "      <th>Public_Holiday</th>\n",
       "      <th>Year</th>\n",
       "      <th>Month</th>\n",
       "      <th>Day</th>\n",
       "      <th>Day_of_Week</th>\n",
       "      <th>Discounted_Price</th>\n",
       "      <th>Category_Encoded</th>\n",
       "    </tr>\n",
       "  </thead>\n",
       "  <tbody>\n",
       "    <tr>\n",
       "      <th>0</th>\n",
       "      <td>1075</td>\n",
       "      <td>Smoothie</td>\n",
       "      <td>Cold</td>\n",
       "      <td>2023-03-24</td>\n",
       "      <td>12:30</td>\n",
       "      <td>Sunny</td>\n",
       "      <td>14.8800</td>\n",
       "      <td>No</td>\n",
       "      <td>No</td>\n",
       "      <td>2023</td>\n",
       "      <td>3</td>\n",
       "      <td>24</td>\n",
       "      <td>Friday</td>\n",
       "      <td>13.39</td>\n",
       "      <td>0</td>\n",
       "    </tr>\n",
       "    <tr>\n",
       "      <th>1</th>\n",
       "      <td>1030</td>\n",
       "      <td>Soup</td>\n",
       "      <td>Hot</td>\n",
       "      <td>2023-03-19</td>\n",
       "      <td>14:30</td>\n",
       "      <td>Raining</td>\n",
       "      <td>6.7176</td>\n",
       "      <td>Yes</td>\n",
       "      <td>No</td>\n",
       "      <td>2023</td>\n",
       "      <td>3</td>\n",
       "      <td>19</td>\n",
       "      <td>Sunday</td>\n",
       "      <td>6.05</td>\n",
       "      <td>1</td>\n",
       "    </tr>\n",
       "    <tr>\n",
       "      <th>2</th>\n",
       "      <td>1055</td>\n",
       "      <td>Ice Cream</td>\n",
       "      <td>Cold</td>\n",
       "      <td>2023-03-24</td>\n",
       "      <td>10:30</td>\n",
       "      <td>Sunny</td>\n",
       "      <td>14.2700</td>\n",
       "      <td>No</td>\n",
       "      <td>No</td>\n",
       "      <td>2023</td>\n",
       "      <td>3</td>\n",
       "      <td>24</td>\n",
       "      <td>Friday</td>\n",
       "      <td>12.84</td>\n",
       "      <td>0</td>\n",
       "    </tr>\n",
       "    <tr>\n",
       "      <th>3</th>\n",
       "      <td>1058</td>\n",
       "      <td>Ice Cream</td>\n",
       "      <td>Cold</td>\n",
       "      <td>2023-03-05</td>\n",
       "      <td>22:00</td>\n",
       "      <td>Sunny</td>\n",
       "      <td>14.6880</td>\n",
       "      <td>Yes</td>\n",
       "      <td>No</td>\n",
       "      <td>2023</td>\n",
       "      <td>3</td>\n",
       "      <td>5</td>\n",
       "      <td>Sunday</td>\n",
       "      <td>13.22</td>\n",
       "      <td>0</td>\n",
       "    </tr>\n",
       "    <tr>\n",
       "      <th>4</th>\n",
       "      <td>1084</td>\n",
       "      <td>Smoothie</td>\n",
       "      <td>Cold</td>\n",
       "      <td>2023-03-29</td>\n",
       "      <td>16:30</td>\n",
       "      <td>Sunny</td>\n",
       "      <td>8.8440</td>\n",
       "      <td>No</td>\n",
       "      <td>Yes</td>\n",
       "      <td>2023</td>\n",
       "      <td>3</td>\n",
       "      <td>29</td>\n",
       "      <td>Wednesday</td>\n",
       "      <td>7.96</td>\n",
       "      <td>0</td>\n",
       "    </tr>\n",
       "  </tbody>\n",
       "</table>\n",
       "</div>"
      ]
     },
     "execution_count": 9,
     "metadata": {},
     "output_type": "execute_result"
    }
   ],
   "execution_count": 9
  },
  {
   "cell_type": "markdown",
   "id": "21ad87e5",
   "metadata": {
    "id": "21ad87e5"
   },
   "source": [
    "## 3️⃣Extract Features from Date Column  \n",
    "\n",
    "Dates hold **valuable insights**! Instead of using raw dates, we will **extract features** such as:  \n",
    "✔ **Year** – Tracks long-term trends  \n",
    "✔ **Month** – Identifies seasonal patterns  \n",
    "✔ **Day of the Week** – Captures weekday vs. weekend trends  \n"
   ]
  },
  {
   "cell_type": "code",
   "id": "6a41ade3",
   "metadata": {
    "colab": {
     "base_uri": "https://localhost:8080/",
     "height": 206
    },
    "executionInfo": {
     "elapsed": 61,
     "status": "ok",
     "timestamp": 1744362392333,
     "user": {
      "displayName": "Tan Wei Jie",
      "userId": "13153057253066753068"
     },
     "user_tz": -480
    },
    "id": "6a41ade3",
    "outputId": "b285d034-ca07-4185-9c8b-97f990e1f26e",
    "ExecuteTime": {
     "end_time": "2025-09-15T04:36:49.109319Z",
     "start_time": "2025-09-15T04:36:49.068860Z"
    }
   },
   "source": [
    "import pandas as pd\n",
    "\n",
    "# Ensure 'Date_of_Visit' is in datetime format\n",
    "df['Date_of_Visit'] = pd.to_datetime(df['Date_of_Visit'])\n",
    "\n",
    "# Extract useful date-based features\n",
    "df['Year'] = df['Date_of_Visit'].dt.year\n",
    "df['Month'] = df['Date_of_Visit'].dt.month\n",
    "df['Day'] = df['Date_of_Visit'].dt.day\n",
    "df['Day_of_Week'] = df['Date_of_Visit'].dt.day_name()\n",
    "\n",
    "# Display the transformed dataset\n",
    "df[['Date_of_Visit', 'Year', 'Month', 'Day', 'Day_of_Week']].head()\n"
   ],
   "outputs": [
    {
     "data": {
      "text/plain": [
       "  Date_of_Visit  Year  Month  Day Day_of_Week\n",
       "0    2023-03-24  2023      3   24      Friday\n",
       "1    2023-03-19  2023      3   19      Sunday\n",
       "2    2023-03-24  2023      3   24      Friday\n",
       "3    2023-03-05  2023      3    5      Sunday\n",
       "4    2023-03-29  2023      3   29   Wednesday"
      ],
      "text/html": [
       "<div>\n",
       "<style scoped>\n",
       "    .dataframe tbody tr th:only-of-type {\n",
       "        vertical-align: middle;\n",
       "    }\n",
       "\n",
       "    .dataframe tbody tr th {\n",
       "        vertical-align: top;\n",
       "    }\n",
       "\n",
       "    .dataframe thead th {\n",
       "        text-align: right;\n",
       "    }\n",
       "</style>\n",
       "<table border=\"1\" class=\"dataframe\">\n",
       "  <thead>\n",
       "    <tr style=\"text-align: right;\">\n",
       "      <th></th>\n",
       "      <th>Date_of_Visit</th>\n",
       "      <th>Year</th>\n",
       "      <th>Month</th>\n",
       "      <th>Day</th>\n",
       "      <th>Day_of_Week</th>\n",
       "    </tr>\n",
       "  </thead>\n",
       "  <tbody>\n",
       "    <tr>\n",
       "      <th>0</th>\n",
       "      <td>2023-03-24</td>\n",
       "      <td>2023</td>\n",
       "      <td>3</td>\n",
       "      <td>24</td>\n",
       "      <td>Friday</td>\n",
       "    </tr>\n",
       "    <tr>\n",
       "      <th>1</th>\n",
       "      <td>2023-03-19</td>\n",
       "      <td>2023</td>\n",
       "      <td>3</td>\n",
       "      <td>19</td>\n",
       "      <td>Sunday</td>\n",
       "    </tr>\n",
       "    <tr>\n",
       "      <th>2</th>\n",
       "      <td>2023-03-24</td>\n",
       "      <td>2023</td>\n",
       "      <td>3</td>\n",
       "      <td>24</td>\n",
       "      <td>Friday</td>\n",
       "    </tr>\n",
       "    <tr>\n",
       "      <th>3</th>\n",
       "      <td>2023-03-05</td>\n",
       "      <td>2023</td>\n",
       "      <td>3</td>\n",
       "      <td>5</td>\n",
       "      <td>Sunday</td>\n",
       "    </tr>\n",
       "    <tr>\n",
       "      <th>4</th>\n",
       "      <td>2023-03-29</td>\n",
       "      <td>2023</td>\n",
       "      <td>3</td>\n",
       "      <td>29</td>\n",
       "      <td>Wednesday</td>\n",
       "    </tr>\n",
       "  </tbody>\n",
       "</table>\n",
       "</div>"
      ]
     },
     "execution_count": 6,
     "metadata": {},
     "output_type": "execute_result"
    }
   ],
   "execution_count": 6
  },
  {
   "cell_type": "markdown",
   "id": "d85b1ff6",
   "metadata": {
    "id": "d85b1ff6"
   },
   "source": [
    "## 4️⃣ Final Check & Save Processed Data  \n",
    "\n",
    "Let’s review our transformed dataset and save it for future use! 🚀  \n"
   ]
  },
  {
   "cell_type": "code",
   "id": "20a51c99",
   "metadata": {
    "id": "20a51c99",
    "ExecuteTime": {
     "end_time": "2025-09-15T04:44:00.658867Z",
     "start_time": "2025-09-15T04:44:00.631239Z"
    }
   },
   "source": [
    "# Display the first few rows of the transformed dataset\n",
    "df.head()\n",
    "\n",
    "# Save the processed dataset\n",
    "df.to_csv(\"restaurant_transaction_processed_01.csv\", index=False)\n"
   ],
   "outputs": [],
   "execution_count": 10
  },
  {
   "cell_type": "markdown",
   "id": "c7332a84",
   "metadata": {
    "id": "c7332a84"
   },
   "source": [
    "## Summary  \n",
    "\n",
    "In this guided practice, we:   \n",
    "✔ **Encoded categorical variables** with One-Hot & Label Encoding\n",
    "\n",
    "✔ **Created New Column** with discounted price\n",
    "\n",
    "✔ **Extracted meaningful features** from the date column  \n",
    "\n"
   ]
  },
  {
   "cell_type": "code",
   "execution_count": null,
   "id": "8329f069",
   "metadata": {
    "id": "8329f069"
   },
   "outputs": [],
   "source": []
  }
 ],
 "metadata": {
  "colab": {
   "provenance": []
  },
  "kernelspec": {
   "display_name": "Python [conda env:base] *",
   "language": "python",
   "name": "conda-base-py"
  },
  "language_info": {
   "codemirror_mode": {
    "name": "ipython",
    "version": 3
   },
   "file_extension": ".py",
   "mimetype": "text/x-python",
   "name": "python",
   "nbconvert_exporter": "python",
   "pygments_lexer": "ipython3",
   "version": "3.12.7"
  }
 },
 "nbformat": 4,
 "nbformat_minor": 5
}
