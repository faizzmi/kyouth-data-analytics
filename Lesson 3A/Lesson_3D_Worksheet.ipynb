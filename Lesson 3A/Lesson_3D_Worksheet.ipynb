{
 "cells": [
  {
   "cell_type": "markdown",
   "id": "97bfba64",
   "metadata": {
    "id": "97bfba64"
   },
   "source": [
    "# Lesson 3D: Data Transformation"
   ]
  },
  {
   "cell_type": "markdown",
   "id": "88081793",
   "metadata": {
    "id": "88081793"
   },
   "source": [
    "## Learning Objectives:\n",
    "1.  Converting data types within a column.\n",
    "2.  Ensure consistent formatting of datetime and categorical values.\n",
    "3.  Setting up range-checks in a column."
   ]
  },
  {
   "cell_type": "markdown",
   "id": "95a8d242",
   "metadata": {
    "id": "95a8d242"
   },
   "source": [
    "\n",
    "\n",
    "## ▶️: Load & Explore the Dataset  \n",
    "We will get started by loading pandas and the restaurant_transaction_processed_01.csv file (from lesson 3C).\n",
    "\n",
    "\n"
   ]
  },
  {
   "cell_type": "code",
   "execution_count": null,
   "id": "9d8d5306-37e8-484d-82aa-7b5ba3924d74",
   "metadata": {
    "id": "9d8d5306-37e8-484d-82aa-7b5ba3924d74"
   },
   "outputs": [],
   "source": [
    "import pandas as pd\n",
    "\n",
    "file_path = \"restaurant_transaction_processed_01.csv\"\n",
    "df = pd.read_csv(file_path)\n",
    "\n",
    "\n",
    "\n",
    "\n",
    "\n",
    "\n",
    "\n"
   ]
  },
  {
   "cell_type": "markdown",
   "id": "c4dfbed1",
   "metadata": {
    "id": "c4dfbed1"
   },
   "source": [
    "##  1️⃣: Converting data types\n",
    "Let's check all the data types of the columns in this table.\n"
   ]
  },
  {
   "cell_type": "code",
   "execution_count": null,
   "id": "50dffb83-972f-4aaa-a579-6e02a37616b0",
   "metadata": {
    "id": "50dffb83-972f-4aaa-a579-6e02a37616b0"
   },
   "outputs": [],
   "source": [
    "\n",
    "\n",
    "\n",
    "\n",
    "\n",
    "\n"
   ]
  },
  {
   "cell_type": "markdown",
   "id": "02957269",
   "metadata": {
    "id": "02957269"
   },
   "source": [
    "We can convert between data types using the 'astype()' function.\n",
    "- astype(int) - converts to integer\n",
    "- astype(float) - converts to float\n",
    "- astype(str) - converts to string\n",
    "\n",
    "The best practice in converting data types is to establish a new column while doing so.\n",
    "\n",
    "Let's try to convert 'Price' into an integer."
   ]
  },
  {
   "cell_type": "code",
   "execution_count": null,
   "id": "dd293a92-5c90-4bef-9eef-4b44f27fb4b2",
   "metadata": {
    "id": "dd293a92-5c90-4bef-9eef-4b44f27fb4b2"
   },
   "outputs": [],
   "source": [
    "\n",
    "\n",
    "\n",
    "\n",
    "\n",
    "\n",
    "\n"
   ]
  },
  {
   "cell_type": "markdown",
   "id": "TeNnDrCBLq5Z",
   "metadata": {
    "id": "TeNnDrCBLq5Z"
   },
   "source": [
    "Let's check with 'df.info() to verify the data types."
   ]
  },
  {
   "cell_type": "code",
   "execution_count": null,
   "id": "00d2bbcf-8a77-44b4-8f16-54221b8dac42",
   "metadata": {
    "id": "00d2bbcf-8a77-44b4-8f16-54221b8dac42"
   },
   "outputs": [],
   "source": [
    "\n",
    "\n",
    "\n",
    "\n",
    "\n",
    "\n",
    "\n",
    "\n",
    "\n",
    "\n",
    "\n"
   ]
  },
  {
   "cell_type": "markdown",
   "id": "8a1e43fe",
   "metadata": {
    "id": "8a1e43fe"
   },
   "source": [
    "## 2️⃣ Clean and Format Dates\n",
    "In lesson 3C, you have learned how to use datetime and extracted the data into new columns. Here, you will also learn how to sync up the way date is displayed.\n",
    "\n",
    "Note: dayfirst=True makes Python read dates as DD-MM-YYYY instead of the default MM-DD-YYYY.\n",
    "\n",
    "\n",
    "\n",
    "\n",
    "\n",
    "\n",
    "\n"
   ]
  },
  {
   "cell_type": "code",
   "execution_count": null,
   "id": "f543fdad-8db7-439a-97f5-6f31dd9d9ee6",
   "metadata": {
    "id": "f543fdad-8db7-439a-97f5-6f31dd9d9ee6"
   },
   "outputs": [],
   "source": [
    "\n",
    "\n",
    "\n",
    "\n",
    "\n",
    "\n",
    "\n",
    "\n",
    "\n",
    "\n"
   ]
  },
  {
   "cell_type": "markdown",
   "id": "408cdd71",
   "metadata": {
    "id": "408cdd71"
   },
   "source": [
    "## 3️⃣Formatting Categorical Values\n",
    "\n",
    "Inconsistent text values in categorical columns can cause errors in data analysis.\n",
    "\n",
    "For example, \"Sunny\", \"sunny\", and \"SUNNY\" should be transformed to look consistent across the dataset.\n"
   ]
  },
  {
   "cell_type": "code",
   "execution_count": null,
   "id": "dcbde52b-eedc-4d96-929d-ed2f8910a017",
   "metadata": {
    "id": "dcbde52b-eedc-4d96-929d-ed2f8910a017"
   },
   "outputs": [],
   "source": [
    "\n",
    "\n",
    "\n",
    "\n",
    "\n",
    "\n",
    "\n",
    "\n"
   ]
  },
  {
   "cell_type": "markdown",
   "id": "jOyBfMRTOTd5",
   "metadata": {
    "id": "jOyBfMRTOTd5"
   },
   "source": [
    "Here is another example where we shorten the names of the days into the first 3 letters (ie: 'Friday into 'Fri')."
   ]
  },
  {
   "cell_type": "code",
   "execution_count": null,
   "id": "3832478a-6f12-4357-b695-90f50ef6e1cd",
   "metadata": {
    "id": "3832478a-6f12-4357-b695-90f50ef6e1cd"
   },
   "outputs": [],
   "source": [
    "\n",
    "\n",
    "\n",
    "\n",
    "\n",
    "\n",
    "\n",
    "\n",
    "\n",
    "\n",
    "\n"
   ]
  },
  {
   "cell_type": "markdown",
   "id": "dc0b5a3c",
   "metadata": {
    "id": "dc0b5a3c"
   },
   "source": [
    "## 4️⃣Validating data ranges\n",
    "\n",
    "There are times where we want to ensure the values are within a certain range.\n",
    "\n",
    "For example, we want to ensure the values in 'Price' should not be missing or a negative value. If the values are out of range, we want to replace it with the median price.  \n"
   ]
  },
  {
   "cell_type": "code",
   "execution_count": null,
   "id": "784826b0-1a93-4c61-88e3-804dfbf05fd4",
   "metadata": {
    "id": "784826b0-1a93-4c61-88e3-804dfbf05fd4"
   },
   "outputs": [],
   "source": [
    "\n",
    "\n",
    "\n",
    "\n",
    "\n",
    "\n",
    "\n",
    "\n"
   ]
  },
  {
   "cell_type": "markdown",
   "id": "985a9b19",
   "metadata": {
    "id": "985a9b19"
   },
   "source": [
    "## 5️⃣: Export the Cleaned Dataset  \n",
    "\n",
    "After applying the transformations, we save the cleaned dataset for further analysis.  \n"
   ]
  },
  {
   "cell_type": "code",
   "execution_count": null,
   "id": "975f1003",
   "metadata": {
    "id": "975f1003",
    "outputId": "186a90aa-0ec9-473e-f059-a2c24388c414"
   },
   "outputs": [
    {
     "name": "stdout",
     "output_type": "stream",
     "text": [
      "✅ Data Cleaning Completed. Processed file saved as 'restaurant_transaction_cleaned_02.csv'\n"
     ]
    }
   ],
   "source": [
    "\n",
    "\n",
    "\n",
    "\n"
   ]
  },
  {
   "cell_type": "markdown",
   "id": "7602f72b",
   "metadata": {
    "id": "7602f72b"
   },
   "source": [
    "## 🎯 Summary  \n",
    "\n",
    "In this guided practice, we:  \n",
    "✔ **Validated data types** to ensure correct formats for numerical and date columns  \n",
    "✔ **Performed range checks** to identify and correct invalid values  \n",
    "✔ **Standardized and cleaned data** by fixing categorical inconsistencies and handling missing values  \n",
    "\n",
    "---  \n",
    "\n"
   ]
  },
  {
   "cell_type": "code",
   "execution_count": null,
   "id": "6cdabba4",
   "metadata": {
    "id": "6cdabba4"
   },
   "outputs": [],
   "source": []
  }
 ],
 "metadata": {
  "colab": {
   "provenance": []
  },
  "kernelspec": {
   "display_name": "Python [conda env:base] *",
   "language": "python",
   "name": "conda-base-py"
  },
  "language_info": {
   "codemirror_mode": {
    "name": "ipython",
    "version": 3
   },
   "file_extension": ".py",
   "mimetype": "text/x-python",
   "name": "python",
   "nbconvert_exporter": "python",
   "pygments_lexer": "ipython3",
   "version": "3.12.7"
  }
 },
 "nbformat": 4,
 "nbformat_minor": 5
}
