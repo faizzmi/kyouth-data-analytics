{
 "cells": [
  {
   "cell_type": "markdown",
   "id": "97bfba64",
   "metadata": {
    "id": "97bfba64"
   },
   "source": [
    "# Lesson 3D: Data Transformation"
   ]
  },
  {
   "cell_type": "markdown",
   "id": "88081793",
   "metadata": {
    "id": "88081793"
   },
   "source": [
    "## Learning Objectives:\n",
    "1.  Converting data types within a column.\n",
    "2.  Ensure consistent formatting of datetime and categorical values.\n",
    "3.  Setting up range-checks in a column."
   ]
  },
  {
   "cell_type": "markdown",
   "id": "95a8d242",
   "metadata": {
    "id": "95a8d242"
   },
   "source": [
    "\n",
    "\n",
    "## ▶️: Load & Explore the Dataset  \n",
    "We will get started by loading pandas and the restaurant_transaction_processed_01.csv file (from lesson 3C).\n",
    "\n",
    "\n"
   ]
  },
  {
   "cell_type": "code",
   "id": "9d8d5306-37e8-484d-82aa-7b5ba3924d74",
   "metadata": {
    "id": "9d8d5306-37e8-484d-82aa-7b5ba3924d74",
    "ExecuteTime": {
     "end_time": "2025-09-15T08:46:17.307368Z",
     "start_time": "2025-09-15T08:46:17.247190Z"
    }
   },
   "source": [
    "import pandas as pd\n",
    "\n",
    "file_path = \"restaurant_transaction_processed_01.csv\"\n",
    "df = pd.read_csv(file_path)\n",
    "\n",
    "df.head()"
   ],
   "outputs": [
    {
     "data": {
      "text/plain": [
       "   Customer_ID  Food_Item Category Date_of_Visit   Time  Weather    Price  \\\n",
       "0         1075   Smoothie     Cold    2023-03-24  12:30    Sunny  14.8800   \n",
       "1         1030       Soup      Hot    2023-03-19  14:30  Raining   6.7176   \n",
       "2         1055  Ice Cream     Cold    2023-03-24  10:30    Sunny  14.2700   \n",
       "3         1058  Ice Cream     Cold    2023-03-05  22:00    Sunny  14.6880   \n",
       "4         1084   Smoothie     Cold    2023-03-29  16:30    Sunny   8.8440   \n",
       "\n",
       "  Weekend Public_Holiday  Year  Month  Day Day_of_Week  Discounted_Price  \\\n",
       "0      No             No  2023      3   24      Friday             13.39   \n",
       "1     Yes             No  2023      3   19      Sunday              6.05   \n",
       "2      No             No  2023      3   24      Friday             12.84   \n",
       "3     Yes             No  2023      3    5      Sunday             13.22   \n",
       "4      No            Yes  2023      3   29   Wednesday              7.96   \n",
       "\n",
       "   Category_Encoded  \n",
       "0                 0  \n",
       "1                 1  \n",
       "2                 0  \n",
       "3                 0  \n",
       "4                 0  "
      ],
      "text/html": [
       "<div>\n",
       "<style scoped>\n",
       "    .dataframe tbody tr th:only-of-type {\n",
       "        vertical-align: middle;\n",
       "    }\n",
       "\n",
       "    .dataframe tbody tr th {\n",
       "        vertical-align: top;\n",
       "    }\n",
       "\n",
       "    .dataframe thead th {\n",
       "        text-align: right;\n",
       "    }\n",
       "</style>\n",
       "<table border=\"1\" class=\"dataframe\">\n",
       "  <thead>\n",
       "    <tr style=\"text-align: right;\">\n",
       "      <th></th>\n",
       "      <th>Customer_ID</th>\n",
       "      <th>Food_Item</th>\n",
       "      <th>Category</th>\n",
       "      <th>Date_of_Visit</th>\n",
       "      <th>Time</th>\n",
       "      <th>Weather</th>\n",
       "      <th>Price</th>\n",
       "      <th>Weekend</th>\n",
       "      <th>Public_Holiday</th>\n",
       "      <th>Year</th>\n",
       "      <th>Month</th>\n",
       "      <th>Day</th>\n",
       "      <th>Day_of_Week</th>\n",
       "      <th>Discounted_Price</th>\n",
       "      <th>Category_Encoded</th>\n",
       "    </tr>\n",
       "  </thead>\n",
       "  <tbody>\n",
       "    <tr>\n",
       "      <th>0</th>\n",
       "      <td>1075</td>\n",
       "      <td>Smoothie</td>\n",
       "      <td>Cold</td>\n",
       "      <td>2023-03-24</td>\n",
       "      <td>12:30</td>\n",
       "      <td>Sunny</td>\n",
       "      <td>14.8800</td>\n",
       "      <td>No</td>\n",
       "      <td>No</td>\n",
       "      <td>2023</td>\n",
       "      <td>3</td>\n",
       "      <td>24</td>\n",
       "      <td>Friday</td>\n",
       "      <td>13.39</td>\n",
       "      <td>0</td>\n",
       "    </tr>\n",
       "    <tr>\n",
       "      <th>1</th>\n",
       "      <td>1030</td>\n",
       "      <td>Soup</td>\n",
       "      <td>Hot</td>\n",
       "      <td>2023-03-19</td>\n",
       "      <td>14:30</td>\n",
       "      <td>Raining</td>\n",
       "      <td>6.7176</td>\n",
       "      <td>Yes</td>\n",
       "      <td>No</td>\n",
       "      <td>2023</td>\n",
       "      <td>3</td>\n",
       "      <td>19</td>\n",
       "      <td>Sunday</td>\n",
       "      <td>6.05</td>\n",
       "      <td>1</td>\n",
       "    </tr>\n",
       "    <tr>\n",
       "      <th>2</th>\n",
       "      <td>1055</td>\n",
       "      <td>Ice Cream</td>\n",
       "      <td>Cold</td>\n",
       "      <td>2023-03-24</td>\n",
       "      <td>10:30</td>\n",
       "      <td>Sunny</td>\n",
       "      <td>14.2700</td>\n",
       "      <td>No</td>\n",
       "      <td>No</td>\n",
       "      <td>2023</td>\n",
       "      <td>3</td>\n",
       "      <td>24</td>\n",
       "      <td>Friday</td>\n",
       "      <td>12.84</td>\n",
       "      <td>0</td>\n",
       "    </tr>\n",
       "    <tr>\n",
       "      <th>3</th>\n",
       "      <td>1058</td>\n",
       "      <td>Ice Cream</td>\n",
       "      <td>Cold</td>\n",
       "      <td>2023-03-05</td>\n",
       "      <td>22:00</td>\n",
       "      <td>Sunny</td>\n",
       "      <td>14.6880</td>\n",
       "      <td>Yes</td>\n",
       "      <td>No</td>\n",
       "      <td>2023</td>\n",
       "      <td>3</td>\n",
       "      <td>5</td>\n",
       "      <td>Sunday</td>\n",
       "      <td>13.22</td>\n",
       "      <td>0</td>\n",
       "    </tr>\n",
       "    <tr>\n",
       "      <th>4</th>\n",
       "      <td>1084</td>\n",
       "      <td>Smoothie</td>\n",
       "      <td>Cold</td>\n",
       "      <td>2023-03-29</td>\n",
       "      <td>16:30</td>\n",
       "      <td>Sunny</td>\n",
       "      <td>8.8440</td>\n",
       "      <td>No</td>\n",
       "      <td>Yes</td>\n",
       "      <td>2023</td>\n",
       "      <td>3</td>\n",
       "      <td>29</td>\n",
       "      <td>Wednesday</td>\n",
       "      <td>7.96</td>\n",
       "      <td>0</td>\n",
       "    </tr>\n",
       "  </tbody>\n",
       "</table>\n",
       "</div>"
      ]
     },
     "execution_count": 15,
     "metadata": {},
     "output_type": "execute_result"
    }
   ],
   "execution_count": 15
  },
  {
   "cell_type": "markdown",
   "id": "c4dfbed1",
   "metadata": {
    "id": "c4dfbed1"
   },
   "source": [
    "##  1️⃣: Converting data types\n",
    "Let's check all the data types of the columns in this table.\n"
   ]
  },
  {
   "cell_type": "code",
   "id": "50dffb83-972f-4aaa-a579-6e02a37616b0",
   "metadata": {
    "id": "50dffb83-972f-4aaa-a579-6e02a37616b0",
    "ExecuteTime": {
     "end_time": "2025-09-15T08:45:26.269996Z",
     "start_time": "2025-09-15T08:45:26.259606Z"
    }
   },
   "source": "print(df.dtypes)",
   "outputs": [
    {
     "name": "stdout",
     "output_type": "stream",
     "text": [
      "Customer_ID           int64\n",
      "Food_Item            object\n",
      "Category             object\n",
      "Date_of_Visit        object\n",
      "Time                 object\n",
      "Weather              object\n",
      "Price               float64\n",
      "Weekend              object\n",
      "Public_Holiday       object\n",
      "Year                  int64\n",
      "Month                 int64\n",
      "Day                   int64\n",
      "Day_of_Week          object\n",
      "Discounted_Price    float64\n",
      "Category_Encoded      int64\n",
      "dtype: object\n"
     ]
    }
   ],
   "execution_count": 14
  },
  {
   "cell_type": "markdown",
   "id": "02957269",
   "metadata": {
    "id": "02957269"
   },
   "source": [
    "We can convert between data types using the 'astype()' function.\n",
    "- astype(int) - converts to integer\n",
    "- astype(float) - converts to float\n",
    "- astype(str) - converts to string\n",
    "\n",
    "The best practice in converting data types is to establish a new column while doing so.\n",
    "\n",
    "Let's try to convert 'Price' into an integer."
   ]
  },
  {
   "cell_type": "code",
   "id": "dd293a92-5c90-4bef-9eef-4b44f27fb4b2",
   "metadata": {
    "id": "dd293a92-5c90-4bef-9eef-4b44f27fb4b2",
    "ExecuteTime": {
     "end_time": "2025-09-15T08:49:13.603210Z",
     "start_time": "2025-09-15T08:49:13.594517Z"
    }
   },
   "source": [
    "df[\"Price\"] = df[\"Price\"].astype(int)\n",
    "\n",
    "print(df.dtypes)"
   ],
   "outputs": [
    {
     "name": "stdout",
     "output_type": "stream",
     "text": [
      "Customer_ID           int64\n",
      "Food_Item            object\n",
      "Category             object\n",
      "Date_of_Visit        object\n",
      "Time                 object\n",
      "Weather              object\n",
      "Price                 int64\n",
      "Weekend              object\n",
      "Public_Holiday       object\n",
      "Year                  int64\n",
      "Month                 int64\n",
      "Day                   int64\n",
      "Day_of_Week          object\n",
      "Discounted_Price    float64\n",
      "Category_Encoded      int64\n",
      "dtype: object\n"
     ]
    }
   ],
   "execution_count": 21
  },
  {
   "cell_type": "markdown",
   "id": "TeNnDrCBLq5Z",
   "metadata": {
    "id": "TeNnDrCBLq5Z"
   },
   "source": [
    "Let's check with 'df.info() to verify the data types."
   ]
  },
  {
   "cell_type": "code",
   "id": "00d2bbcf-8a77-44b4-8f16-54221b8dac42",
   "metadata": {
    "id": "00d2bbcf-8a77-44b4-8f16-54221b8dac42",
    "ExecuteTime": {
     "end_time": "2025-09-15T08:49:34.063006Z",
     "start_time": "2025-09-15T08:49:34.018724Z"
    }
   },
   "source": "df.info()",
   "outputs": [
    {
     "name": "stdout",
     "output_type": "stream",
     "text": [
      "<class 'pandas.core.frame.DataFrame'>\n",
      "RangeIndex: 989 entries, 0 to 988\n",
      "Data columns (total 15 columns):\n",
      " #   Column            Non-Null Count  Dtype  \n",
      "---  ------            --------------  -----  \n",
      " 0   Customer_ID       989 non-null    int64  \n",
      " 1   Food_Item         989 non-null    object \n",
      " 2   Category          989 non-null    object \n",
      " 3   Date_of_Visit     989 non-null    object \n",
      " 4   Time              989 non-null    object \n",
      " 5   Weather           989 non-null    object \n",
      " 6   Price             989 non-null    int64  \n",
      " 7   Weekend           989 non-null    object \n",
      " 8   Public_Holiday    989 non-null    object \n",
      " 9   Year              989 non-null    int64  \n",
      " 10  Month             989 non-null    int64  \n",
      " 11  Day               989 non-null    int64  \n",
      " 12  Day_of_Week       989 non-null    object \n",
      " 13  Discounted_Price  989 non-null    float64\n",
      " 14  Category_Encoded  989 non-null    int64  \n",
      "dtypes: float64(1), int64(6), object(8)\n",
      "memory usage: 116.0+ KB\n"
     ]
    }
   ],
   "execution_count": 22
  },
  {
   "cell_type": "markdown",
   "id": "8a1e43fe",
   "metadata": {
    "id": "8a1e43fe"
   },
   "source": [
    "## 2️⃣ Clean and Format Dates\n",
    "In lesson 3C, you have learned how to use datetime and extracted the data into new columns. Here, you will also learn how to sync up the way date is displayed.\n",
    "\n",
    "Note: dayfirst=True makes Python read dates as DD-MM-YYYY instead of the default MM-DD-YYYY.\n",
    "\n",
    "\n",
    "\n",
    "\n",
    "\n",
    "\n",
    "\n"
   ]
  },
  {
   "cell_type": "code",
   "id": "f543fdad-8db7-439a-97f5-6f31dd9d9ee6",
   "metadata": {
    "id": "f543fdad-8db7-439a-97f5-6f31dd9d9ee6",
    "ExecuteTime": {
     "end_time": "2025-09-15T09:06:32.083007Z",
     "start_time": "2025-09-15T09:06:31.961384Z"
    }
   },
   "source": [
    "# df['Date_of_Visit'].dtype\n",
    "df['Default_Date'] = pd.to_datetime(df['Date_of_Visit'], errors ='coerce',dayfirst=True).dt.strftime('%m-%d-%Y')\n",
    "df.head()"
   ],
   "outputs": [
    {
     "name": "stderr",
     "output_type": "stream",
     "text": [
      "C:\\Users\\User\\AppData\\Local\\Temp\\ipykernel_5320\\4185406458.py:2: UserWarning: Parsing dates in %Y-%m-%d format when dayfirst=True was specified. Pass `dayfirst=False` or specify a format to silence this warning.\n",
      "  df['Default_Date'] = pd.to_datetime(df['Date_of_Visit'], errors ='coerce',dayfirst=True).dt.strftime('%m-%d-%Y')\n"
     ]
    },
    {
     "data": {
      "text/plain": [
       "   Customer_ID  Food_Item Category Date_of_Visit   Time  Weather  Price  \\\n",
       "0         1075   Smoothie     Cold    2023-03-24  12:30    Sunny     14   \n",
       "1         1030       Soup      Hot    2023-03-19  14:30  Raining      6   \n",
       "2         1055  Ice Cream     Cold    2023-03-24  10:30    Sunny     14   \n",
       "3         1058  Ice Cream     Cold    2023-03-05  22:00    Sunny     14   \n",
       "4         1084   Smoothie     Cold    2023-03-29  16:30    Sunny      8   \n",
       "\n",
       "  Weekend Public_Holiday  Year  Month  Day Day_of_Week  Discounted_Price  \\\n",
       "0      No             No  2023      3   24      Friday             13.39   \n",
       "1     Yes             No  2023      3   19      Sunday              6.05   \n",
       "2      No             No  2023      3   24      Friday             12.84   \n",
       "3     Yes             No  2023      3    5      Sunday             13.22   \n",
       "4      No            Yes  2023      3   29   Wednesday              7.96   \n",
       "\n",
       "   Category_Encoded Default_Date  \n",
       "0                 0   03-24-2023  \n",
       "1                 1   03-19-2023  \n",
       "2                 0   03-24-2023  \n",
       "3                 0   03-05-2023  \n",
       "4                 0   03-29-2023  "
      ],
      "text/html": [
       "<div>\n",
       "<style scoped>\n",
       "    .dataframe tbody tr th:only-of-type {\n",
       "        vertical-align: middle;\n",
       "    }\n",
       "\n",
       "    .dataframe tbody tr th {\n",
       "        vertical-align: top;\n",
       "    }\n",
       "\n",
       "    .dataframe thead th {\n",
       "        text-align: right;\n",
       "    }\n",
       "</style>\n",
       "<table border=\"1\" class=\"dataframe\">\n",
       "  <thead>\n",
       "    <tr style=\"text-align: right;\">\n",
       "      <th></th>\n",
       "      <th>Customer_ID</th>\n",
       "      <th>Food_Item</th>\n",
       "      <th>Category</th>\n",
       "      <th>Date_of_Visit</th>\n",
       "      <th>Time</th>\n",
       "      <th>Weather</th>\n",
       "      <th>Price</th>\n",
       "      <th>Weekend</th>\n",
       "      <th>Public_Holiday</th>\n",
       "      <th>Year</th>\n",
       "      <th>Month</th>\n",
       "      <th>Day</th>\n",
       "      <th>Day_of_Week</th>\n",
       "      <th>Discounted_Price</th>\n",
       "      <th>Category_Encoded</th>\n",
       "      <th>Default_Date</th>\n",
       "    </tr>\n",
       "  </thead>\n",
       "  <tbody>\n",
       "    <tr>\n",
       "      <th>0</th>\n",
       "      <td>1075</td>\n",
       "      <td>Smoothie</td>\n",
       "      <td>Cold</td>\n",
       "      <td>2023-03-24</td>\n",
       "      <td>12:30</td>\n",
       "      <td>Sunny</td>\n",
       "      <td>14</td>\n",
       "      <td>No</td>\n",
       "      <td>No</td>\n",
       "      <td>2023</td>\n",
       "      <td>3</td>\n",
       "      <td>24</td>\n",
       "      <td>Friday</td>\n",
       "      <td>13.39</td>\n",
       "      <td>0</td>\n",
       "      <td>03-24-2023</td>\n",
       "    </tr>\n",
       "    <tr>\n",
       "      <th>1</th>\n",
       "      <td>1030</td>\n",
       "      <td>Soup</td>\n",
       "      <td>Hot</td>\n",
       "      <td>2023-03-19</td>\n",
       "      <td>14:30</td>\n",
       "      <td>Raining</td>\n",
       "      <td>6</td>\n",
       "      <td>Yes</td>\n",
       "      <td>No</td>\n",
       "      <td>2023</td>\n",
       "      <td>3</td>\n",
       "      <td>19</td>\n",
       "      <td>Sunday</td>\n",
       "      <td>6.05</td>\n",
       "      <td>1</td>\n",
       "      <td>03-19-2023</td>\n",
       "    </tr>\n",
       "    <tr>\n",
       "      <th>2</th>\n",
       "      <td>1055</td>\n",
       "      <td>Ice Cream</td>\n",
       "      <td>Cold</td>\n",
       "      <td>2023-03-24</td>\n",
       "      <td>10:30</td>\n",
       "      <td>Sunny</td>\n",
       "      <td>14</td>\n",
       "      <td>No</td>\n",
       "      <td>No</td>\n",
       "      <td>2023</td>\n",
       "      <td>3</td>\n",
       "      <td>24</td>\n",
       "      <td>Friday</td>\n",
       "      <td>12.84</td>\n",
       "      <td>0</td>\n",
       "      <td>03-24-2023</td>\n",
       "    </tr>\n",
       "    <tr>\n",
       "      <th>3</th>\n",
       "      <td>1058</td>\n",
       "      <td>Ice Cream</td>\n",
       "      <td>Cold</td>\n",
       "      <td>2023-03-05</td>\n",
       "      <td>22:00</td>\n",
       "      <td>Sunny</td>\n",
       "      <td>14</td>\n",
       "      <td>Yes</td>\n",
       "      <td>No</td>\n",
       "      <td>2023</td>\n",
       "      <td>3</td>\n",
       "      <td>5</td>\n",
       "      <td>Sunday</td>\n",
       "      <td>13.22</td>\n",
       "      <td>0</td>\n",
       "      <td>03-05-2023</td>\n",
       "    </tr>\n",
       "    <tr>\n",
       "      <th>4</th>\n",
       "      <td>1084</td>\n",
       "      <td>Smoothie</td>\n",
       "      <td>Cold</td>\n",
       "      <td>2023-03-29</td>\n",
       "      <td>16:30</td>\n",
       "      <td>Sunny</td>\n",
       "      <td>8</td>\n",
       "      <td>No</td>\n",
       "      <td>Yes</td>\n",
       "      <td>2023</td>\n",
       "      <td>3</td>\n",
       "      <td>29</td>\n",
       "      <td>Wednesday</td>\n",
       "      <td>7.96</td>\n",
       "      <td>0</td>\n",
       "      <td>03-29-2023</td>\n",
       "    </tr>\n",
       "  </tbody>\n",
       "</table>\n",
       "</div>"
      ]
     },
     "execution_count": 47,
     "metadata": {},
     "output_type": "execute_result"
    }
   ],
   "execution_count": 47
  },
  {
   "cell_type": "markdown",
   "id": "408cdd71",
   "metadata": {
    "id": "408cdd71"
   },
   "source": [
    "## 3️⃣Formatting Categorical Values\n",
    "\n",
    "Inconsistent text values in categorical columns can cause errors in data analysis.\n",
    "\n",
    "For example, \"Sunny\", \"sunny\", and \"SUNNY\" should be transformed to look consistent across the dataset.\n"
   ]
  },
  {
   "cell_type": "code",
   "id": "dcbde52b-eedc-4d96-929d-ed2f8910a017",
   "metadata": {
    "id": "dcbde52b-eedc-4d96-929d-ed2f8910a017",
    "ExecuteTime": {
     "end_time": "2025-09-16T06:56:40.050136Z",
     "start_time": "2025-09-16T06:56:39.964523Z"
    }
   },
   "source": [
    "df.info()\n",
    "df['Weather'].head()\n",
    "\n",
    "df['Weather'] = df['Weather'].str.lower().str.strip()\n",
    "\n",
    "df['Weather'].head()"
   ],
   "outputs": [
    {
     "name": "stdout",
     "output_type": "stream",
     "text": [
      "<class 'pandas.core.frame.DataFrame'>\n",
      "RangeIndex: 989 entries, 0 to 988\n",
      "Data columns (total 16 columns):\n",
      " #   Column            Non-Null Count  Dtype  \n",
      "---  ------            --------------  -----  \n",
      " 0   Customer_ID       989 non-null    int64  \n",
      " 1   Food_Item         989 non-null    object \n",
      " 2   Category          989 non-null    object \n",
      " 3   Date_of_Visit     989 non-null    object \n",
      " 4   Time              989 non-null    object \n",
      " 5   Weather           989 non-null    object \n",
      " 6   Price             989 non-null    int64  \n",
      " 7   Weekend           989 non-null    object \n",
      " 8   Public_Holiday    989 non-null    object \n",
      " 9   Year              989 non-null    int64  \n",
      " 10  Month             989 non-null    int64  \n",
      " 11  Day               989 non-null    int64  \n",
      " 12  Day_of_Week       989 non-null    object \n",
      " 13  Discounted_Price  989 non-null    float64\n",
      " 14  Category_Encoded  989 non-null    int64  \n",
      " 15  Default_Date      989 non-null    object \n",
      "dtypes: float64(1), int64(6), object(9)\n",
      "memory usage: 123.8+ KB\n"
     ]
    },
    {
     "data": {
      "text/plain": [
       "0      sunny\n",
       "1    raining\n",
       "2      sunny\n",
       "3      sunny\n",
       "4      sunny\n",
       "Name: Weather, dtype: object"
      ]
     },
     "execution_count": 56,
     "metadata": {},
     "output_type": "execute_result"
    }
   ],
   "execution_count": 56
  },
  {
   "cell_type": "markdown",
   "id": "jOyBfMRTOTd5",
   "metadata": {
    "id": "jOyBfMRTOTd5"
   },
   "source": [
    "Here is another example where we shorten the names of the days into the first 3 letters (ie: 'Friday into 'Fri')."
   ]
  },
  {
   "cell_type": "code",
   "id": "3832478a-6f12-4357-b695-90f50ef6e1cd",
   "metadata": {
    "id": "3832478a-6f12-4357-b695-90f50ef6e1cd",
    "ExecuteTime": {
     "end_time": "2025-09-16T06:59:08.422797Z",
     "start_time": "2025-09-16T06:59:08.371339Z"
    }
   },
   "source": [
    "df.head()\n",
    "df['Day_of_Week'] = df['Day_of_Week'].str[:3]\n",
    "df['Day_of_Week'].head(10)"
   ],
   "outputs": [
    {
     "data": {
      "text/plain": [
       "0    Fri\n",
       "1    Sun\n",
       "2    Fri\n",
       "3    Sun\n",
       "4    Wed\n",
       "5    Fri\n",
       "6    Tue\n",
       "7    Fri\n",
       "8    Tue\n",
       "9    Sat\n",
       "Name: Day_of_Week, dtype: object"
      ]
     },
     "execution_count": 60,
     "metadata": {},
     "output_type": "execute_result"
    }
   ],
   "execution_count": 60
  },
  {
   "cell_type": "markdown",
   "id": "dc0b5a3c",
   "metadata": {
    "id": "dc0b5a3c"
   },
   "source": [
    "## 4️⃣Validating data ranges\n",
    "\n",
    "There are times where we want to ensure the values are within a certain range.\n",
    "\n",
    "For example, we want to ensure the values in 'Price' should not be missing or a negative value. If the values are out of range, we want to replace it with the median price.  \n"
   ]
  },
  {
   "cell_type": "code",
   "id": "784826b0-1a93-4c61-88e3-804dfbf05fd4",
   "metadata": {
    "id": "784826b0-1a93-4c61-88e3-804dfbf05fd4",
    "ExecuteTime": {
     "end_time": "2025-09-16T05:15:33.768210Z",
     "start_time": "2025-09-16T05:15:33.728987Z"
    }
   },
   "source": [
    "df['Price'] = df['Price'].apply(lambda x: x if pd.notnull(x) and x > 0 else df['Price'].median())\n",
    "df[df['Price'] <= 0]\n",
    "\n",
    "df['Price'].head()"
   ],
   "outputs": [
    {
     "data": {
      "text/plain": [
       "0    14\n",
       "1     6\n",
       "2    14\n",
       "3    14\n",
       "4     8\n",
       "Name: Price, dtype: int64"
      ]
     },
     "execution_count": 50,
     "metadata": {},
     "output_type": "execute_result"
    }
   ],
   "execution_count": 50
  },
  {
   "cell_type": "markdown",
   "id": "985a9b19",
   "metadata": {
    "id": "985a9b19"
   },
   "source": [
    "## 5️⃣: Export the Cleaned Dataset  \n",
    "\n",
    "After applying the transformations, we save the cleaned dataset for further analysis.  \n"
   ]
  },
  {
   "cell_type": "code",
   "id": "975f1003",
   "metadata": {
    "id": "975f1003",
    "outputId": "186a90aa-0ec9-473e-f059-a2c24388c414",
    "ExecuteTime": {
     "end_time": "2025-09-16T07:02:14.488023Z",
     "start_time": "2025-09-16T07:02:14.385791Z"
    }
   },
   "source": "df.to_csv(\"restaurant_transaction_processed_02.csv\", index=False)",
   "outputs": [],
   "execution_count": 61
  },
  {
   "cell_type": "markdown",
   "id": "7602f72b",
   "metadata": {
    "id": "7602f72b"
   },
   "source": [
    "## 🎯 Summary  \n",
    "\n",
    "In this guided practice, we:  \n",
    "✔ **Validated data types** to ensure correct formats for numerical and date columns  \n",
    "✔ **Performed range checks** to identify and correct invalid values  \n",
    "✔ **Standardized and cleaned data** by fixing categorical inconsistencies and handling missing values  \n",
    "\n",
    "---  \n",
    "\n"
   ]
  },
  {
   "cell_type": "code",
   "execution_count": null,
   "id": "6cdabba4",
   "metadata": {
    "id": "6cdabba4"
   },
   "outputs": [],
   "source": []
  }
 ],
 "metadata": {
  "colab": {
   "provenance": []
  },
  "kernelspec": {
   "display_name": "Python [conda env:base] *",
   "language": "python",
   "name": "conda-base-py"
  },
  "language_info": {
   "codemirror_mode": {
    "name": "ipython",
    "version": 3
   },
   "file_extension": ".py",
   "mimetype": "text/x-python",
   "name": "python",
   "nbconvert_exporter": "python",
   "pygments_lexer": "ipython3",
   "version": "3.12.7"
  }
 },
 "nbformat": 4,
 "nbformat_minor": 5
}
