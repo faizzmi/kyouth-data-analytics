{
 "cells": [
  {
   "cell_type": "markdown",
   "id": "8466d7c2",
   "metadata": {
    "id": "8466d7c2"
   },
   "source": [
    "# Lesson 3A: Introduction to Pandas and Data Frames"
   ]
  },
  {
   "cell_type": "markdown",
   "id": "56cd146c",
   "metadata": {
    "id": "56cd146c"
   },
   "source": [
    "## 🎯Learning Objectives:\n",
    "1. Understand Python modules and the role of Pandas in Data Analysis.\n",
    "2. Load CSV Files into Jupyter Notebook.\n",
    "3. Explore Pandas data frames on Pandas"
   ]
  },
  {
   "cell_type": "markdown",
   "id": "f7c0d7e4",
   "metadata": {
    "id": "f7c0d7e4"
   },
   "source": [
    "## 1️⃣ Importing Python Modules\n",
    "\n",
    "- A Python module is a file that contains Python code—this can include functions, classes, and variables—that you can reuse in other Python programs.\n",
    "- Pandas module will be used in data preparation for data analysis.\n",
    "\n"
   ]
  },
  {
   "cell_type": "code",
   "id": "f117a086",
   "metadata": {
    "id": "f117a086",
    "ExecuteTime": {
     "end_time": "2025-09-12T08:28:05.976915Z",
     "start_time": "2025-09-12T08:28:04.123160Z"
    }
   },
   "source": "import pandas as pd",
   "outputs": [],
   "execution_count": 1
  },
  {
   "cell_type": "markdown",
   "id": "1d17a4f7",
   "metadata": {
    "id": "1d17a4f7"
   },
   "source": [
    "# 2️⃣ Loading the Dataset\n",
    "\n",
    "Before analyzing our dataset, we will need to load our dataset into a **DataFrame** using pandas.\n",
    "\n",
    "Let's begin by loading our dataset!"
   ]
  },
  {
   "cell_type": "code",
   "id": "9ef0eecd-e992-4c2c-81da-711b407ca34b",
   "metadata": {
    "id": "9ef0eecd-e992-4c2c-81da-711b407ca34b",
    "ExecuteTime": {
     "end_time": "2025-09-12T08:28:54.463931Z",
     "start_time": "2025-09-12T08:28:54.350229Z"
    }
   },
   "source": [
    "\n",
    "df = pd.read_csv(\"Restaurant_Transactions_Dataset.csv\")\n",
    "\n",
    "df.head()"
   ],
   "outputs": [
    {
     "data": {
      "text/plain": [
       "   Customer_ID  Food_Item Category Date_of_Visit   Time  Weather    Price  \\\n",
       "0         1075   Smoothie     Cold    24/03/2023  12:30    Sunny  14.8800   \n",
       "1         1030       Soup      Hot    19/03/2023  14:30  Raining   6.7176   \n",
       "2         1055  Ice Cream     Cold    24/03/2023  10:30    Sunny  14.2700   \n",
       "3         1058  Ice Cream     Cold    05/03/2023  22:00    Sunny  14.6880   \n",
       "4         1084   Smoothie     Cold    29/03/2023  16:30    Sunny   8.8440   \n",
       "\n",
       "  Weekend Public_Holiday  \n",
       "0      No             No  \n",
       "1     Yes             No  \n",
       "2      No             No  \n",
       "3     Yes             No  \n",
       "4      No            Yes  "
      ],
      "text/html": [
       "<div>\n",
       "<style scoped>\n",
       "    .dataframe tbody tr th:only-of-type {\n",
       "        vertical-align: middle;\n",
       "    }\n",
       "\n",
       "    .dataframe tbody tr th {\n",
       "        vertical-align: top;\n",
       "    }\n",
       "\n",
       "    .dataframe thead th {\n",
       "        text-align: right;\n",
       "    }\n",
       "</style>\n",
       "<table border=\"1\" class=\"dataframe\">\n",
       "  <thead>\n",
       "    <tr style=\"text-align: right;\">\n",
       "      <th></th>\n",
       "      <th>Customer_ID</th>\n",
       "      <th>Food_Item</th>\n",
       "      <th>Category</th>\n",
       "      <th>Date_of_Visit</th>\n",
       "      <th>Time</th>\n",
       "      <th>Weather</th>\n",
       "      <th>Price</th>\n",
       "      <th>Weekend</th>\n",
       "      <th>Public_Holiday</th>\n",
       "    </tr>\n",
       "  </thead>\n",
       "  <tbody>\n",
       "    <tr>\n",
       "      <th>0</th>\n",
       "      <td>1075</td>\n",
       "      <td>Smoothie</td>\n",
       "      <td>Cold</td>\n",
       "      <td>24/03/2023</td>\n",
       "      <td>12:30</td>\n",
       "      <td>Sunny</td>\n",
       "      <td>14.8800</td>\n",
       "      <td>No</td>\n",
       "      <td>No</td>\n",
       "    </tr>\n",
       "    <tr>\n",
       "      <th>1</th>\n",
       "      <td>1030</td>\n",
       "      <td>Soup</td>\n",
       "      <td>Hot</td>\n",
       "      <td>19/03/2023</td>\n",
       "      <td>14:30</td>\n",
       "      <td>Raining</td>\n",
       "      <td>6.7176</td>\n",
       "      <td>Yes</td>\n",
       "      <td>No</td>\n",
       "    </tr>\n",
       "    <tr>\n",
       "      <th>2</th>\n",
       "      <td>1055</td>\n",
       "      <td>Ice Cream</td>\n",
       "      <td>Cold</td>\n",
       "      <td>24/03/2023</td>\n",
       "      <td>10:30</td>\n",
       "      <td>Sunny</td>\n",
       "      <td>14.2700</td>\n",
       "      <td>No</td>\n",
       "      <td>No</td>\n",
       "    </tr>\n",
       "    <tr>\n",
       "      <th>3</th>\n",
       "      <td>1058</td>\n",
       "      <td>Ice Cream</td>\n",
       "      <td>Cold</td>\n",
       "      <td>05/03/2023</td>\n",
       "      <td>22:00</td>\n",
       "      <td>Sunny</td>\n",
       "      <td>14.6880</td>\n",
       "      <td>Yes</td>\n",
       "      <td>No</td>\n",
       "    </tr>\n",
       "    <tr>\n",
       "      <th>4</th>\n",
       "      <td>1084</td>\n",
       "      <td>Smoothie</td>\n",
       "      <td>Cold</td>\n",
       "      <td>29/03/2023</td>\n",
       "      <td>16:30</td>\n",
       "      <td>Sunny</td>\n",
       "      <td>8.8440</td>\n",
       "      <td>No</td>\n",
       "      <td>Yes</td>\n",
       "    </tr>\n",
       "  </tbody>\n",
       "</table>\n",
       "</div>"
      ]
     },
     "execution_count": 2,
     "metadata": {},
     "output_type": "execute_result"
    }
   ],
   "execution_count": 2
  },
  {
   "cell_type": "markdown",
   "id": "480a9d91",
   "metadata": {
    "id": "480a9d91"
   },
   "source": [
    "# 3️⃣ Exploring the Dataset\n",
    "\n",
    "Now that we've loaded the dataset, let's explore its structure!\n",
    "\n",
    "### 📊 Key things to check:\n",
    "- **Number of rows & columns**\n",
    "- **Column names & data types**\n",
    "- **Summary statistics**\n",
    "\n",
    "By doing this, we can understand what kind of data we're working with and spot any potential issues early on.\n"
   ]
  },
  {
   "cell_type": "code",
   "id": "5c2955bc-8ab2-463b-a866-2c938cc6ac1c",
   "metadata": {
    "id": "5c2955bc-8ab2-463b-a866-2c938cc6ac1c",
    "ExecuteTime": {
     "end_time": "2025-09-12T08:34:35.172989Z",
     "start_time": "2025-09-12T08:34:35.150647Z"
    }
   },
   "source": [
    "print(f\"This dataset contains {df.shape[0]} rows and {df.shape[1]} columns.\")\n",
    "\n",
    "print(\"\\nColumn names & data types:\")\n",
    "print(df.dtypes)\n",
    "\n",
    "print(\"\\nSummary statistics:\")\n",
    "print(df.describe())"
   ],
   "outputs": [
    {
     "name": "stdout",
     "output_type": "stream",
     "text": [
      "This dataset contains 1002 rows and 9 columns.\n",
      "\n",
      "Column names & data types:\n",
      "Customer_ID         int64\n",
      "Food_Item          object\n",
      "Category           object\n",
      "Date_of_Visit      object\n",
      "Time               object\n",
      "Weather            object\n",
      "Price             float64\n",
      "Weekend            object\n",
      "Public_Holiday     object\n",
      "dtype: object\n",
      "\n",
      "Summary statistics:\n",
      "       Customer_ID       Price\n",
      "count  1002.000000  996.000000\n",
      "mean   1048.681637   13.221576\n",
      "std      29.341822    4.785411\n",
      "min    1000.000000    4.509000\n",
      "25%    1023.000000    9.096000\n",
      "50%    1050.000000   13.157000\n",
      "75%    1074.000000   16.982500\n",
      "max    1099.000000   23.940000\n"
     ]
    }
   ],
   "execution_count": 14
  },
  {
   "cell_type": "markdown",
   "id": "0cfdbcd0",
   "metadata": {
    "id": "0cfdbcd0"
   },
   "source": [
    "### 📊 Common Aggregate Functions in Pandas\n",
    "\n",
    "| Function       | Description                                                                 | Example Usage                |\n",
    "|----------------|-----------------------------------------------------------------------------|------------------------------|\n",
    "| `sum()`        | Returns the sum of values for each column or row.                          | `df.sum()`                   |\n",
    "| `mean()`       | Calculates the average (mean) of numeric values.                           | `df.mean()`                  |\n",
    "| `median()`     | Returns the median (middle) value.                                         | `df.median()`                |\n",
    "| `min()`        | Finds the minimum value in each column or row.                            | `df.min()`                   |\n",
    "| `max()`        | Finds the maximum value in each column or row.                            | `df.max()`                   |\n",
    "| `count()`      | Counts the number of non-null values.                                     | `df.count()`                 |\n",
    "| `std()`        | Calculates the standard deviation of numeric values.                      | `df.std()`                   |\n",
    "| `var()`        | Computes the variance of each column.                                     | `df.var()`                   |\n",
    "| `describe()`   | Generates descriptive statistics for numeric columns (count, mean, std...).| `df.describe()`              |\n",
    "| `agg()`        | Allows applying multiple aggregate functions at once.                     | `df.agg(['sum', 'mean'])`    |\n",
    "\n",
    "> 📝 **Note**: By default, these functions operate column-wise. To apply them row-wise, use `axis=1`, e.g., `df.sum(axis=1)`.\n"
   ]
  }
 ],
 "metadata": {
  "colab": {
   "provenance": []
  },
  "kernelspec": {
   "display_name": "Python [conda env:base] *",
   "language": "python",
   "name": "conda-base-py"
  },
  "language_info": {
   "codemirror_mode": {
    "name": "ipython",
    "version": 3
   },
   "file_extension": ".py",
   "mimetype": "text/x-python",
   "name": "python",
   "nbconvert_exporter": "python",
   "pygments_lexer": "ipython3",
   "version": "3.12.7"
  }
 },
 "nbformat": 4,
 "nbformat_minor": 5
}
