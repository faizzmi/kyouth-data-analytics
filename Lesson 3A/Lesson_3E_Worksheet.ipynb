{
 "cells": [
  {
   "cell_type": "markdown",
   "id": "97bfba64",
   "metadata": {
    "id": "97bfba64"
   },
   "source": [
    "# Lesson 3E: Data Joining"
   ]
  },
  {
   "cell_type": "markdown",
   "id": "88081793",
   "metadata": {
    "id": "88081793"
   },
   "source": [
    "## Learning Objectives:\n",
    "1. Understand and apply different types of joins (inner, left, right, outer) to merge customer demographics with transaction data.\n",
    "\n",
    "2. Understand how to use groupby() in Pandas to aggregate and analyze customer transactions based on attributes like gender and price.\n",
    "\n"
   ]
  },
  {
   "cell_type": "markdown",
   "id": "f7dbf3d4",
   "metadata": {
    "id": "f7dbf3d4"
   },
   "source": [
    "### Now le'ts examine the Restaurant Transaction Data and Customer Demographics Data"
   ]
  },
  {
   "cell_type": "code",
   "id": "1a106057",
   "metadata": {
    "executionInfo": {
     "elapsed": 93,
     "status": "ok",
     "timestamp": 1747119860733,
     "user": {
      "displayName": "Natalie Lazaroo",
      "userId": "05619457634600211708"
     },
     "user_tz": -480
    },
    "id": "1a106057",
    "ExecuteTime": {
     "end_time": "2025-09-16T13:38:51.335683Z",
     "start_time": "2025-09-16T13:38:48.577924Z"
    }
   },
   "source": "import pandas as pd",
   "outputs": [],
   "execution_count": 1
  },
  {
   "cell_type": "code",
   "id": "5ac105f0-3cd5-4167-bebb-26b1b957ac9d",
   "metadata": {
    "executionInfo": {
     "elapsed": 2,
     "status": "ok",
     "timestamp": 1747119860749,
     "user": {
      "displayName": "Natalie Lazaroo",
      "userId": "05619457634600211708"
     },
     "user_tz": -480
    },
    "id": "5ac105f0-3cd5-4167-bebb-26b1b957ac9d",
    "ExecuteTime": {
     "end_time": "2025-09-16T13:39:18.960687Z",
     "start_time": "2025-09-16T13:39:18.912200Z"
    }
   },
   "source": "restaurant = pd.read_csv(\"restaurant_transaction_processed_02.csv\")",
   "outputs": [],
   "execution_count": 3
  },
  {
   "cell_type": "code",
   "id": "33584c52-d55b-46ec-a281-fa9584045844",
   "metadata": {
    "executionInfo": {
     "elapsed": 19,
     "status": "ok",
     "timestamp": 1747119860770,
     "user": {
      "displayName": "Natalie Lazaroo",
      "userId": "05619457634600211708"
     },
     "user_tz": -480
    },
    "id": "33584c52-d55b-46ec-a281-fa9584045844",
    "ExecuteTime": {
     "end_time": "2025-09-16T13:39:22.079343Z",
     "start_time": "2025-09-16T13:39:22.010871Z"
    }
   },
   "source": "restaurant.head()",
   "outputs": [
    {
     "data": {
      "text/plain": [
       "   Customer_ID  Food_Item Category Date_of_Visit   Time  Weather  Price  \\\n",
       "0         1075   Smoothie     Cold    2023-03-24  12:30    sunny     14   \n",
       "1         1030       Soup      Hot    2023-03-19  14:30  raining      6   \n",
       "2         1055  Ice Cream     Cold    2023-03-24  10:30    sunny     14   \n",
       "3         1058  Ice Cream     Cold    2023-03-05  22:00    sunny     14   \n",
       "4         1084   Smoothie     Cold    2023-03-29  16:30    sunny      8   \n",
       "\n",
       "  Weekend Public_Holiday  Year  Month  Day Day_of_Week  Discounted_Price  \\\n",
       "0      No             No  2023      3   24         Fri             13.39   \n",
       "1     Yes             No  2023      3   19         Sun              6.05   \n",
       "2      No             No  2023      3   24         Fri             12.84   \n",
       "3     Yes             No  2023      3    5         Sun             13.22   \n",
       "4      No            Yes  2023      3   29         Wed              7.96   \n",
       "\n",
       "   Category_Encoded Default_Date  \n",
       "0                 0   03-24-2023  \n",
       "1                 1   03-19-2023  \n",
       "2                 0   03-24-2023  \n",
       "3                 0   03-05-2023  \n",
       "4                 0   03-29-2023  "
      ],
      "text/html": [
       "<div>\n",
       "<style scoped>\n",
       "    .dataframe tbody tr th:only-of-type {\n",
       "        vertical-align: middle;\n",
       "    }\n",
       "\n",
       "    .dataframe tbody tr th {\n",
       "        vertical-align: top;\n",
       "    }\n",
       "\n",
       "    .dataframe thead th {\n",
       "        text-align: right;\n",
       "    }\n",
       "</style>\n",
       "<table border=\"1\" class=\"dataframe\">\n",
       "  <thead>\n",
       "    <tr style=\"text-align: right;\">\n",
       "      <th></th>\n",
       "      <th>Customer_ID</th>\n",
       "      <th>Food_Item</th>\n",
       "      <th>Category</th>\n",
       "      <th>Date_of_Visit</th>\n",
       "      <th>Time</th>\n",
       "      <th>Weather</th>\n",
       "      <th>Price</th>\n",
       "      <th>Weekend</th>\n",
       "      <th>Public_Holiday</th>\n",
       "      <th>Year</th>\n",
       "      <th>Month</th>\n",
       "      <th>Day</th>\n",
       "      <th>Day_of_Week</th>\n",
       "      <th>Discounted_Price</th>\n",
       "      <th>Category_Encoded</th>\n",
       "      <th>Default_Date</th>\n",
       "    </tr>\n",
       "  </thead>\n",
       "  <tbody>\n",
       "    <tr>\n",
       "      <th>0</th>\n",
       "      <td>1075</td>\n",
       "      <td>Smoothie</td>\n",
       "      <td>Cold</td>\n",
       "      <td>2023-03-24</td>\n",
       "      <td>12:30</td>\n",
       "      <td>sunny</td>\n",
       "      <td>14</td>\n",
       "      <td>No</td>\n",
       "      <td>No</td>\n",
       "      <td>2023</td>\n",
       "      <td>3</td>\n",
       "      <td>24</td>\n",
       "      <td>Fri</td>\n",
       "      <td>13.39</td>\n",
       "      <td>0</td>\n",
       "      <td>03-24-2023</td>\n",
       "    </tr>\n",
       "    <tr>\n",
       "      <th>1</th>\n",
       "      <td>1030</td>\n",
       "      <td>Soup</td>\n",
       "      <td>Hot</td>\n",
       "      <td>2023-03-19</td>\n",
       "      <td>14:30</td>\n",
       "      <td>raining</td>\n",
       "      <td>6</td>\n",
       "      <td>Yes</td>\n",
       "      <td>No</td>\n",
       "      <td>2023</td>\n",
       "      <td>3</td>\n",
       "      <td>19</td>\n",
       "      <td>Sun</td>\n",
       "      <td>6.05</td>\n",
       "      <td>1</td>\n",
       "      <td>03-19-2023</td>\n",
       "    </tr>\n",
       "    <tr>\n",
       "      <th>2</th>\n",
       "      <td>1055</td>\n",
       "      <td>Ice Cream</td>\n",
       "      <td>Cold</td>\n",
       "      <td>2023-03-24</td>\n",
       "      <td>10:30</td>\n",
       "      <td>sunny</td>\n",
       "      <td>14</td>\n",
       "      <td>No</td>\n",
       "      <td>No</td>\n",
       "      <td>2023</td>\n",
       "      <td>3</td>\n",
       "      <td>24</td>\n",
       "      <td>Fri</td>\n",
       "      <td>12.84</td>\n",
       "      <td>0</td>\n",
       "      <td>03-24-2023</td>\n",
       "    </tr>\n",
       "    <tr>\n",
       "      <th>3</th>\n",
       "      <td>1058</td>\n",
       "      <td>Ice Cream</td>\n",
       "      <td>Cold</td>\n",
       "      <td>2023-03-05</td>\n",
       "      <td>22:00</td>\n",
       "      <td>sunny</td>\n",
       "      <td>14</td>\n",
       "      <td>Yes</td>\n",
       "      <td>No</td>\n",
       "      <td>2023</td>\n",
       "      <td>3</td>\n",
       "      <td>5</td>\n",
       "      <td>Sun</td>\n",
       "      <td>13.22</td>\n",
       "      <td>0</td>\n",
       "      <td>03-05-2023</td>\n",
       "    </tr>\n",
       "    <tr>\n",
       "      <th>4</th>\n",
       "      <td>1084</td>\n",
       "      <td>Smoothie</td>\n",
       "      <td>Cold</td>\n",
       "      <td>2023-03-29</td>\n",
       "      <td>16:30</td>\n",
       "      <td>sunny</td>\n",
       "      <td>8</td>\n",
       "      <td>No</td>\n",
       "      <td>Yes</td>\n",
       "      <td>2023</td>\n",
       "      <td>3</td>\n",
       "      <td>29</td>\n",
       "      <td>Wed</td>\n",
       "      <td>7.96</td>\n",
       "      <td>0</td>\n",
       "      <td>03-29-2023</td>\n",
       "    </tr>\n",
       "  </tbody>\n",
       "</table>\n",
       "</div>"
      ]
     },
     "execution_count": 4,
     "metadata": {},
     "output_type": "execute_result"
    }
   ],
   "execution_count": 4
  },
  {
   "cell_type": "code",
   "id": "cba4b179-3595-40e5-a14f-5d5c1cc1e7d9",
   "metadata": {
    "executionInfo": {
     "elapsed": 2,
     "status": "ok",
     "timestamp": 1747119860780,
     "user": {
      "displayName": "Natalie Lazaroo",
      "userId": "05619457634600211708"
     },
     "user_tz": -480
    },
    "id": "cba4b179-3595-40e5-a14f-5d5c1cc1e7d9",
    "ExecuteTime": {
     "end_time": "2025-09-16T13:53:08.786037Z",
     "start_time": "2025-09-16T13:53:08.753761Z"
    }
   },
   "source": [
    "restaurant.shape\n",
    "# (989, 16)\n",
    "# (Number of rows, number of columns)"
   ],
   "outputs": [
    {
     "data": {
      "text/plain": [
       "(989, 16)"
      ]
     },
     "execution_count": 16,
     "metadata": {},
     "output_type": "execute_result"
    }
   ],
   "execution_count": 16
  },
  {
   "cell_type": "code",
   "execution_count": null,
   "id": "35e9da70-a2af-484f-8fad-caf69a739f2f",
   "metadata": {
    "executionInfo": {
     "elapsed": 13,
     "status": "ok",
     "timestamp": 1747119860793,
     "user": {
      "displayName": "Natalie Lazaroo",
      "userId": "05619457634600211708"
     },
     "user_tz": -480
    },
    "id": "35e9da70-a2af-484f-8fad-caf69a739f2f"
   },
   "outputs": [],
   "source": [
    "\n",
    "\n",
    "\n"
   ]
  },
  {
   "cell_type": "markdown",
   "id": "d6155984",
   "metadata": {
    "id": "d6155984"
   },
   "source": [
    "### ✅ 1. Merge Function"
   ]
  },
  {
   "cell_type": "code",
   "execution_count": null,
   "id": "9ca9cdad-448f-4c59-b35b-413051f374c0",
   "metadata": {
    "executionInfo": {
     "elapsed": 8,
     "status": "ok",
     "timestamp": 1747119860811,
     "user": {
      "displayName": "Natalie Lazaroo",
      "userId": "05619457634600211708"
     },
     "user_tz": -480
    },
    "id": "9ca9cdad-448f-4c59-b35b-413051f374c0"
   },
   "outputs": [],
   "source": [
    "\n",
    "\n",
    "\n",
    "\n"
   ]
  },
  {
   "cell_type": "markdown",
   "id": "c9a35f5d",
   "metadata": {
    "id": "c9a35f5d"
   },
   "source": [
    " ### ✅ 2. GroupBy Function\n"
   ]
  },
  {
   "cell_type": "markdown",
   "id": "43cac676",
   "metadata": {
    "id": "43cac676"
   },
   "source": [
    "### Average spending by gender"
   ]
  },
  {
   "cell_type": "markdown",
   "id": "7645cd78",
   "metadata": {
    "id": "7645cd78"
   },
   "source": [
    "### Now the \"Gender\" column and \"Price\" column are together in the merged_dataset"
   ]
  },
  {
   "cell_type": "code",
   "execution_count": null,
   "id": "9141c143-4b95-41eb-a6dd-a4a20c1da503",
   "metadata": {
    "executionInfo": {
     "elapsed": 31,
     "status": "ok",
     "timestamp": 1747119860844,
     "user": {
      "displayName": "Natalie Lazaroo",
      "userId": "05619457634600211708"
     },
     "user_tz": -480
    },
    "id": "9141c143-4b95-41eb-a6dd-a4a20c1da503"
   },
   "outputs": [],
   "source": [
    "\n",
    "\n",
    "\n",
    "\n"
   ]
  },
  {
   "cell_type": "code",
   "execution_count": null,
   "id": "hCFYwqRvy40i",
   "metadata": {
    "executionInfo": {
     "elapsed": 89,
     "status": "ok",
     "timestamp": 1747119860936,
     "user": {
      "displayName": "Natalie Lazaroo",
      "userId": "05619457634600211708"
     },
     "user_tz": -480
    },
    "id": "hCFYwqRvy40i"
   },
   "outputs": [],
   "source": []
  },
  {
   "cell_type": "markdown",
   "id": "Z_KpEGuKdNld",
   "metadata": {
    "id": "Z_KpEGuKdNld"
   },
   "source": [
    "# ✅ 3. GroupBy Function - For Categorical Variable"
   ]
  },
  {
   "cell_type": "code",
   "execution_count": null,
   "id": "a58OONymdNJd",
   "metadata": {
    "executionInfo": {
     "elapsed": 1,
     "status": "ok",
     "timestamp": 1747119860939,
     "user": {
      "displayName": "Natalie Lazaroo",
      "userId": "05619457634600211708"
     },
     "user_tz": -480
    },
    "id": "a58OONymdNJd"
   },
   "outputs": [],
   "source": []
  },
  {
   "cell_type": "markdown",
   "id": "3b570448-b032-4cc0-be75-dacd7cfabc89",
   "metadata": {},
   "source": [
    "# ✅ 4: Export the Cleaned Dataset After applying the transformations, we save the cleaned dataset for further analysis in lesson 4B."
   ]
  },
  {
   "cell_type": "code",
   "execution_count": null,
   "id": "1c2f2210-2073-4009-9a97-f10edfde1211",
   "metadata": {},
   "outputs": [],
   "source": []
  }
 ],
 "metadata": {
  "colab": {
   "provenance": []
  },
  "kernelspec": {
   "display_name": "Python [conda env:base] *",
   "language": "python",
   "name": "conda-base-py"
  },
  "language_info": {
   "codemirror_mode": {
    "name": "ipython",
    "version": 3
   },
   "file_extension": ".py",
   "mimetype": "text/x-python",
   "name": "python",
   "nbconvert_exporter": "python",
   "pygments_lexer": "ipython3",
   "version": "3.12.7"
  }
 },
 "nbformat": 4,
 "nbformat_minor": 5
}
