{
 "cells": [
  {
   "cell_type": "markdown",
   "id": "97bfba64",
   "metadata": {
    "id": "97bfba64"
   },
   "source": [
    "# Lesson 3E: Data Joining"
   ]
  },
  {
   "cell_type": "markdown",
   "id": "88081793",
   "metadata": {
    "id": "88081793"
   },
   "source": [
    "## Learning Objectives:\n",
    "1. Understand and apply different types of joins (inner, left, right, outer) to merge customer demographics with transaction data.\n",
    "\n",
    "2. Understand how to use groupby() in Pandas to aggregate and analyze customer transactions based on attributes like gender and price.\n",
    "\n"
   ]
  },
  {
   "cell_type": "markdown",
   "id": "f7dbf3d4",
   "metadata": {
    "id": "f7dbf3d4"
   },
   "source": [
    "### Now le'ts examine the Restaurant Transaction Data and Customer Demographics Data"
   ]
  },
  {
   "cell_type": "code",
   "execution_count": null,
   "id": "1a106057",
   "metadata": {
    "executionInfo": {
     "elapsed": 93,
     "status": "ok",
     "timestamp": 1747119860733,
     "user": {
      "displayName": "Natalie Lazaroo",
      "userId": "05619457634600211708"
     },
     "user_tz": -480
    },
    "id": "1a106057"
   },
   "outputs": [],
   "source": [
    "\n"
   ]
  },
  {
   "cell_type": "code",
   "execution_count": null,
   "id": "5ac105f0-3cd5-4167-bebb-26b1b957ac9d",
   "metadata": {
    "executionInfo": {
     "elapsed": 2,
     "status": "ok",
     "timestamp": 1747119860749,
     "user": {
      "displayName": "Natalie Lazaroo",
      "userId": "05619457634600211708"
     },
     "user_tz": -480
    },
    "id": "5ac105f0-3cd5-4167-bebb-26b1b957ac9d"
   },
   "outputs": [],
   "source": [
    "\n"
   ]
  },
  {
   "cell_type": "code",
   "execution_count": null,
   "id": "33584c52-d55b-46ec-a281-fa9584045844",
   "metadata": {
    "executionInfo": {
     "elapsed": 19,
     "status": "ok",
     "timestamp": 1747119860770,
     "user": {
      "displayName": "Natalie Lazaroo",
      "userId": "05619457634600211708"
     },
     "user_tz": -480
    },
    "id": "33584c52-d55b-46ec-a281-fa9584045844"
   },
   "outputs": [],
   "source": [
    "\n",
    "\n"
   ]
  },
  {
   "cell_type": "code",
   "execution_count": null,
   "id": "cba4b179-3595-40e5-a14f-5d5c1cc1e7d9",
   "metadata": {
    "executionInfo": {
     "elapsed": 2,
     "status": "ok",
     "timestamp": 1747119860780,
     "user": {
      "displayName": "Natalie Lazaroo",
      "userId": "05619457634600211708"
     },
     "user_tz": -480
    },
    "id": "cba4b179-3595-40e5-a14f-5d5c1cc1e7d9"
   },
   "outputs": [],
   "source": [
    "\n",
    "\n"
   ]
  },
  {
   "cell_type": "code",
   "execution_count": null,
   "id": "35e9da70-a2af-484f-8fad-caf69a739f2f",
   "metadata": {
    "executionInfo": {
     "elapsed": 13,
     "status": "ok",
     "timestamp": 1747119860793,
     "user": {
      "displayName": "Natalie Lazaroo",
      "userId": "05619457634600211708"
     },
     "user_tz": -480
    },
    "id": "35e9da70-a2af-484f-8fad-caf69a739f2f"
   },
   "outputs": [],
   "source": [
    "\n",
    "\n",
    "\n"
   ]
  },
  {
   "cell_type": "markdown",
   "id": "d6155984",
   "metadata": {
    "id": "d6155984"
   },
   "source": [
    "### ✅ 1. Merge Function"
   ]
  },
  {
   "cell_type": "code",
   "execution_count": null,
   "id": "9ca9cdad-448f-4c59-b35b-413051f374c0",
   "metadata": {
    "executionInfo": {
     "elapsed": 8,
     "status": "ok",
     "timestamp": 1747119860811,
     "user": {
      "displayName": "Natalie Lazaroo",
      "userId": "05619457634600211708"
     },
     "user_tz": -480
    },
    "id": "9ca9cdad-448f-4c59-b35b-413051f374c0"
   },
   "outputs": [],
   "source": [
    "\n",
    "\n",
    "\n",
    "\n"
   ]
  },
  {
   "cell_type": "markdown",
   "id": "c9a35f5d",
   "metadata": {
    "id": "c9a35f5d"
   },
   "source": [
    " ### ✅ 2. GroupBy Function\n"
   ]
  },
  {
   "cell_type": "markdown",
   "id": "43cac676",
   "metadata": {
    "id": "43cac676"
   },
   "source": [
    "### Average spending by gender"
   ]
  },
  {
   "cell_type": "markdown",
   "id": "7645cd78",
   "metadata": {
    "id": "7645cd78"
   },
   "source": [
    "### Now the \"Gender\" column and \"Price\" column are together in the merged_dataset"
   ]
  },
  {
   "cell_type": "code",
   "execution_count": null,
   "id": "9141c143-4b95-41eb-a6dd-a4a20c1da503",
   "metadata": {
    "executionInfo": {
     "elapsed": 31,
     "status": "ok",
     "timestamp": 1747119860844,
     "user": {
      "displayName": "Natalie Lazaroo",
      "userId": "05619457634600211708"
     },
     "user_tz": -480
    },
    "id": "9141c143-4b95-41eb-a6dd-a4a20c1da503"
   },
   "outputs": [],
   "source": [
    "\n",
    "\n",
    "\n",
    "\n"
   ]
  },
  {
   "cell_type": "code",
   "execution_count": null,
   "id": "hCFYwqRvy40i",
   "metadata": {
    "executionInfo": {
     "elapsed": 89,
     "status": "ok",
     "timestamp": 1747119860936,
     "user": {
      "displayName": "Natalie Lazaroo",
      "userId": "05619457634600211708"
     },
     "user_tz": -480
    },
    "id": "hCFYwqRvy40i"
   },
   "outputs": [],
   "source": []
  },
  {
   "cell_type": "markdown",
   "id": "Z_KpEGuKdNld",
   "metadata": {
    "id": "Z_KpEGuKdNld"
   },
   "source": [
    "# ✅ 3. GroupBy Function - For Categorical Variable"
   ]
  },
  {
   "cell_type": "code",
   "execution_count": null,
   "id": "a58OONymdNJd",
   "metadata": {
    "executionInfo": {
     "elapsed": 1,
     "status": "ok",
     "timestamp": 1747119860939,
     "user": {
      "displayName": "Natalie Lazaroo",
      "userId": "05619457634600211708"
     },
     "user_tz": -480
    },
    "id": "a58OONymdNJd"
   },
   "outputs": [],
   "source": []
  },
  {
   "cell_type": "markdown",
   "id": "3b570448-b032-4cc0-be75-dacd7cfabc89",
   "metadata": {},
   "source": [
    "# ✅ 4: Export the Cleaned Dataset After applying the transformations, we save the cleaned dataset for further analysis in lesson 4B."
   ]
  },
  {
   "cell_type": "code",
   "execution_count": null,
   "id": "1c2f2210-2073-4009-9a97-f10edfde1211",
   "metadata": {},
   "outputs": [],
   "source": []
  }
 ],
 "metadata": {
  "colab": {
   "provenance": []
  },
  "kernelspec": {
   "display_name": "Python [conda env:base] *",
   "language": "python",
   "name": "conda-base-py"
  },
  "language_info": {
   "codemirror_mode": {
    "name": "ipython",
    "version": 3
   },
   "file_extension": ".py",
   "mimetype": "text/x-python",
   "name": "python",
   "nbconvert_exporter": "python",
   "pygments_lexer": "ipython3",
   "version": "3.12.7"
  }
 },
 "nbformat": 4,
 "nbformat_minor": 5
}
