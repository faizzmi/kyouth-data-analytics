{
 "cells": [
  {
   "cell_type": "code",
   "execution_count": 3,
   "id": "212861a7-9dd1-4c66-9fcc-7620fab3536f",
   "metadata": {},
   "outputs": [
    {
     "name": "stdout",
     "output_type": "stream",
     "text": [
      "10\n"
     ]
    }
   ],
   "source": [
    "#variable\n",
    "\n",
    "a = 10\n",
    "print(a)\n"
   ]
  },
  {
   "cell_type": "code",
   "execution_count": null,
   "id": "c41bcb58-a120-4a8e-941d-9e9f6b35e574",
   "metadata": {},
   "outputs": [],
   "source": []
  },
  {
   "cell_type": "code",
   "execution_count": 5,
   "id": "175aeedc-21a1-4581-a6be-9ca5262a99bf",
   "metadata": {},
   "outputs": [
    {
     "name": "stdout",
     "output_type": "stream",
     "text": [
      "<class 'float'>\n"
     ]
    }
   ],
   "source": [
    "a = 20.4\n",
    "print(type(a))\n"
   ]
  },
  {
   "cell_type": "code",
   "execution_count": 7,
   "id": "50ab45e3-0e77-4f70-80ff-4e6fc6225f1c",
   "metadata": {},
   "outputs": [
    {
     "name": "stdout",
     "output_type": "stream",
     "text": [
      "<class 'str'>\n"
     ]
    }
   ],
   "source": [
    "a = \"Malaysia\"\n",
    "print(type(a))\n"
   ]
  },
  {
   "cell_type": "code",
   "execution_count": 8,
   "id": "e24ce2ea-d54f-4b1b-9c77-8e5e8901bec4",
   "metadata": {},
   "outputs": [
    {
     "name": "stdout",
     "output_type": "stream",
     "text": [
      "<class 'bool'>\n"
     ]
    }
   ],
   "source": [
    "a=20\n",
    "b=39\n",
    "print(type(a<b))\n"
   ]
  },
  {
   "cell_type": "code",
   "execution_count": 9,
   "id": "cc54540f-074b-4ae0-81e3-a6aa36695d5f",
   "metadata": {},
   "outputs": [
    {
     "name": "stdout",
     "output_type": "stream",
     "text": [
      "False\n"
     ]
    }
   ],
   "source": [
    "print(a>b)\n"
   ]
  },
  {
   "cell_type": "code",
   "execution_count": 11,
   "id": "0d42bbfa-f6c9-4d37-8f6e-f44eb493bc9a",
   "metadata": {},
   "outputs": [
    {
     "name": "stdin",
     "output_type": "stream",
     "text": [
      "Enter your name:  Faiz\n"
     ]
    },
    {
     "name": "stdout",
     "output_type": "stream",
     "text": [
      "My name is  Faiz\n"
     ]
    }
   ],
   "source": [
    "name = input(\"Enter your name: \")\n",
    "print(\"My name is \",name)"
   ]
  },
  {
   "cell_type": "code",
   "execution_count": 14,
   "id": "e3a12c88-dd70-457f-85d7-8c92b8ac9490",
   "metadata": {},
   "outputs": [
    {
     "name": "stdin",
     "output_type": "stream",
     "text": [
      "Enter your grade:  2\n"
     ]
    },
    {
     "name": "stdout",
     "output_type": "stream",
     "text": [
      "My grade is  2\n"
     ]
    }
   ],
   "source": [
    "grade = int(input(\"Enter your grade: \"))\n",
    "print(\"My grade is \",grade)"
   ]
  },
  {
   "cell_type": "code",
   "execution_count": 15,
   "id": "ba33b693-574f-4372-9ac5-7770e5b5f06f",
   "metadata": {},
   "outputs": [
    {
     "name": "stdin",
     "output_type": "stream",
     "text": [
      "Enter your grade:  3.4\n"
     ]
    },
    {
     "name": "stdout",
     "output_type": "stream",
     "text": [
      "My grade is  3.4\n"
     ]
    }
   ],
   "source": [
    "grade = float(input(\"Enter your grade: \"))\n",
    "print(\"My grade is \",grade)"
   ]
  },
  {
   "cell_type": "code",
   "execution_count": 16,
   "id": "91c43040-6152-495b-8532-dee223b9d6a0",
   "metadata": {},
   "outputs": [
    {
     "name": "stdout",
     "output_type": "stream",
     "text": [
      "I love my country and Im from Malayisa\n"
     ]
    }
   ],
   "source": [
    "print(\"I love my country and Im from Malayisa\")"
   ]
  },
  {
   "cell_type": "code",
   "execution_count": 19,
   "id": "67b51809-2391-4f51-b819-0ef40b2786fb",
   "metadata": {},
   "outputs": [
    {
     "name": "stdout",
     "output_type": "stream",
     "text": [
      "I love my country\n",
      "Im from \"Malayisa\"\n"
     ]
    }
   ],
   "source": [
    "print(\"I love my country\\nIm from \\\"Malayisa\\\"\")"
   ]
  },
  {
   "cell_type": "code",
   "execution_count": 33,
   "id": "081fa5e0-1203-4d5b-a7dc-b2ac12a5c54d",
   "metadata": {},
   "outputs": [
    {
     "name": "stdin",
     "output_type": "stream",
     "text": [
      "Enter the total bill amount:  180\n",
      "Enter the tip percentage:  45\n",
      "Enter the number of people splitting the bill:  9\n"
     ]
    },
    {
     "name": "stdout",
     "output_type": "stream",
     "text": [
      "\n",
      "Bill Summary\n",
      "Original Bill: RM180.00\n",
      "Tip (45.00%): RM81.00\n",
      "Total Bill (with tip): RM261.00\n",
      "Each Person Pays: RM29.00\n"
     ]
    }
   ],
   "source": [
    "bill = float(input(\"Enter the total bill amount: \"))\n",
    "tip_percent = float(input(\"Enter the tip percentage: \"))\n",
    "people = int(input(\"Enter the number of people splitting the bill: \"))\n",
    "\n",
    "tip_amount = (tip_percent / 100) * bill\n",
    "total_bill = bill + tip_amount\n",
    "bill_per_person = total_bill / people\n",
    "\n",
    "print(\"\\nBill Summary\")\n",
    "print(f\"Original Bill: RM{bill:.2f}\")\n",
    "print(f\"Tip ({tip_percent:.2f}%): RM{tip_amount:.2f}\")\n",
    "print(f\"Total Bill (with tip): RM{total_bill:.2f}\")\n",
    "print(f\"Each Person Pays: RM{bill_per_person:.2f}\")"
   ]
  },
  {
   "cell_type": "code",
   "execution_count": null,
   "id": "118dce8d-0d21-4703-a997-b7bc5d463ad8",
   "metadata": {},
   "outputs": [],
   "source": []
  }
 ],
 "metadata": {
  "kernelspec": {
   "display_name": "Python 3 (ipykernel)",
   "language": "python",
   "name": "python3"
  },
  "language_info": {
   "codemirror_mode": {
    "name": "ipython",
    "version": 3
   },
   "file_extension": ".py",
   "mimetype": "text/x-python",
   "name": "python",
   "nbconvert_exporter": "python",
   "pygments_lexer": "ipython3",
   "version": "3.13.5"
  }
 },
 "nbformat": 4,
 "nbformat_minor": 5
}
