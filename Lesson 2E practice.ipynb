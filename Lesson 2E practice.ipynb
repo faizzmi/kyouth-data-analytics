{
 "cells": [
  {
   "cell_type": "code",
   "execution_count": 2,
   "id": "56cec123-3922-4f3b-a00b-3155f4c3ff47",
   "metadata": {},
   "outputs": [
    {
     "name": "stdout",
     "output_type": "stream",
     "text": [
      "['tea', 'coffee', 'ice cream', 'cake', 'juice']\n"
     ]
    }
   ],
   "source": [
    "# list the cluttered data\n",
    "cluttered_products = [\"tea\", \"COFFEE\", \"ice cream\", \"Cake\", \"juice\"]\n",
    "\n",
    "# create an empty array\n",
    "cleaned_products = []\n",
    "\n",
    "# convert all into lowercase\n",
    "for product in cluttered_products:\n",
    "    cleaned_products.append(product.lower())\n",
    "    \n",
    "# display the data\n",
    "print(cleaned_products)"
   ]
  },
  {
   "cell_type": "code",
   "execution_count": null,
   "id": "f64e830f-7d81-4b48-b40c-003aeef9508d",
   "metadata": {},
   "outputs": [],
   "source": []
  }
 ],
 "metadata": {
  "kernelspec": {
   "display_name": "Python 3 (ipykernel)",
   "language": "python",
   "name": "python3"
  },
  "language_info": {
   "codemirror_mode": {
    "name": "ipython",
    "version": 3
   },
   "file_extension": ".py",
   "mimetype": "text/x-python",
   "name": "python",
   "nbconvert_exporter": "python",
   "pygments_lexer": "ipython3",
   "version": "3.13.5"
  }
 },
 "nbformat": 4,
 "nbformat_minor": 5
}
