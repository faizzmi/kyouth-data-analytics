{
 "cells": [
  {
   "cell_type": "markdown",
   "id": "13f6a4c8",
   "metadata": {
    "id": "13f6a4c8"
   },
   "source": [
    "# Guided Practice Module 4: Exploratory Data Analysis with Python"
   ]
  },
  {
   "cell_type": "markdown",
   "id": "49599595",
   "metadata": {
    "id": "49599595"
   },
   "source": [
    "## 🎯Your Mission\n",
    "\n",
    "You’ve been hired by a marketing analytics team for a retail company. They are planning a new customer loyalty program and need clean, analysis-ready data to identify purchase patterns and segment customers effectively. In the last task, you have prepared two datasets for analysis - customer_retail.csv and transactions_retail.csv\n",
    "\n",
    "In **Lesson 3S**, you have cleaned, merged, and transformed your data into **merged_data_retail.csv**. You will now be analysing your data and presenting your analysis to the marketing team. They are especially interested in customer behavior, high-spend segments, and how discount strategies influence returns and spending."
   ]
  },
  {
   "cell_type": "markdown",
   "id": "c2fc2e01",
   "metadata": {
    "id": "c2fc2e01"
   },
   "source": [
    "By working through this problem, you will apply the following learning objectives from **Lessons 4A - 4C**:\n",
    "\n",
    "- Conduct exploratory data analysis (EDA) to extract insights.\n",
    "- Use visualization techniques to represent data findings."
   ]
  },
  {
   "cell_type": "markdown",
   "source": [
    "## 🔍Scope Your Data Analysis Project\n",
    "\n",
    "Start by scoping your data analysis project using the three scoping steps."
   ],
   "metadata": {
    "id": "Btl9gBlyEZpv"
   },
   "id": "Btl9gBlyEZpv"
  },
  {
   "cell_type": "code",
   "source": [
    "# Use this space to reflect on the four scoping questions.\n",
    "\n",
    "# Q1: What are the key objectives your analysis is trying to address?\n",
    "# Answer:\n",
    "\n",
    "# Q2: Which datasets and specific columns will help you address your objectives?\n",
    "# Answer:\n",
    "\n",
    "# Q3: What patterns or relationships will you explore in the data?\n",
    "# Answer:"
   ],
   "metadata": {
    "id": "Ib5NLRcxE3mw"
   },
   "id": "Ib5NLRcxE3mw",
   "execution_count": null,
   "outputs": []
  },
  {
   "cell_type": "markdown",
   "id": "8b60d81a",
   "metadata": {
    "id": "8b60d81a"
   },
   "source": [
    "## 💭Apply #AlgoThinking\n",
    "\n",
    "Before diving into the data, let's start by listing down what are the steps you will be taking to handle the this task."
   ]
  },
  {
   "cell_type": "code",
   "execution_count": null,
   "id": "5972e486",
   "metadata": {
    "id": "5972e486"
   },
   "outputs": [],
   "source": [
    "# write down what are the steps that you will take to handle this task\n",
    "\n",
    "#"
   ]
  },
  {
   "cell_type": "markdown",
   "id": "8d654a89",
   "metadata": {
    "id": "8d654a89"
   },
   "source": [
    "## 💡Some helpful tips while you code:\n",
    "\n",
    "Before writing code, consider answering the following specific questions:\n",
    "\n",
    "### 1. Exploratory Data Analysis (EDA):\n",
    "\n",
    "- What summary statistics should be calculated (mean, median, mode, count, etc.)?\n",
    "\n",
    "- What trends or anomalies should we look for?\n",
    "\n",
    "- How should we segment customers based on spending patterns?\n",
    "\n",
    "### 2. Visualisation:\n",
    "\n",
    "- What visualisations will best represent the data?\n",
    "\n",
    "- How can we use plots to uncover trends in customer behavior?\n",
    "\n",
    "- What relationships exist between variables such as age and total spend?"
   ]
  },
  {
   "cell_type": "markdown",
   "id": "af57f543",
   "metadata": {
    "id": "af57f543"
   },
   "source": [
    "## 🛠️Your Solution"
   ]
  },
  {
   "cell_type": "markdown",
   "source": [
    "Import the relevant Python libraries."
   ],
   "metadata": {
    "id": "AjSvx9FPCI7z"
   },
   "id": "AjSvx9FPCI7z"
  },
  {
   "cell_type": "code",
   "id": "d57fa2c2",
   "metadata": {
    "id": "d57fa2c2",
    "executionInfo": {
     "status": "ok",
     "timestamp": 1750308392947,
     "user_tz": -480,
     "elapsed": 23,
     "user": {
      "displayName": "Tan Wei Jie",
      "userId": "13153057253066753068"
     }
    },
    "ExecuteTime": {
     "end_time": "2025-09-24T11:05:43.181795Z",
     "start_time": "2025-09-24T11:05:43.149694Z"
    }
   },
   "source": [
    "import pandas as pd\n",
    "import seaborn as sns\n",
    "import matplotlib.pyplot as plt\n",
    "import numpy as np\n"
   ],
   "outputs": [],
   "execution_count": 3
  },
  {
   "cell_type": "markdown",
   "source": [
    "Load the **merged_data_retail.csv** dataset from the previous lesson."
   ],
   "metadata": {
    "id": "f63Cs5rVCQXG"
   },
   "id": "f63Cs5rVCQXG"
  },
  {
   "cell_type": "code",
   "id": "45cccb58",
   "metadata": {
    "id": "45cccb58",
    "ExecuteTime": {
     "end_time": "2025-09-24T11:05:45.831475Z",
     "start_time": "2025-09-24T11:05:45.744656Z"
    }
   },
   "source": "merged_df = pd.read_csv(\"merged_data_retail.csv\")",
   "outputs": [],
   "execution_count": 4
  },
  {
   "cell_type": "markdown",
   "source": [
    "###Part 1: Performing Exploratory Data Analysis\n",
    "(Tip: add more code cells if needed)"
   ],
   "metadata": {
    "id": "OFuoVSMGCa13"
   },
   "id": "OFuoVSMGCa13"
  },
  {
   "cell_type": "markdown",
   "source": [
    "1) Let's start by broadly exploring all the numerical variables."
   ],
   "metadata": {
    "id": "Dh80UpvOS3jC"
   },
   "id": "Dh80UpvOS3jC"
  },
  {
   "cell_type": "code",
   "id": "74fc23aa",
   "metadata": {
    "id": "74fc23aa",
    "executionInfo": {
     "status": "ok",
     "timestamp": 1750308392980,
     "user_tz": -480,
     "elapsed": 7,
     "user": {
      "displayName": "Tan Wei Jie",
      "userId": "13153057253066753068"
     }
    },
    "ExecuteTime": {
     "end_time": "2025-09-24T11:05:49.525699Z",
     "start_time": "2025-09-24T11:05:47.898006Z"
    }
   },
   "source": "merged_df.describe()",
   "outputs": [
    {
     "data": {
      "text/plain": [
       "                id         age        income  purchase_amount  \\\n",
       "count   746.000000  746.000000    746.000000       746.000000   \n",
       "mean    496.072386   29.969169  27582.194370      9524.348525   \n",
       "std     288.385951    4.420254  13435.694457      4899.404414   \n",
       "min       1.000000   17.000000   5018.000000      1374.000000   \n",
       "25%     248.500000   27.000000  15869.250000      5377.000000   \n",
       "50%     491.000000   30.000000  28146.500000      9535.500000   \n",
       "75%     747.750000   33.000000  39828.750000     13175.000000   \n",
       "max    1000.000000   44.000000  49993.000000     21794.000000   \n",
       "\n",
       "       promotion_usage  satisfaction_score  transaction_id  total_spent  \\\n",
       "count       746.000000          743.000000      746.000000   743.000000   \n",
       "mean          0.297587            4.978466      374.243968   511.263795   \n",
       "std           0.457504            1.043305      216.423701   283.247314   \n",
       "min           0.000000            2.000000        1.000000    10.000000   \n",
       "25%           0.000000            4.000000      187.250000   264.000000   \n",
       "50%           0.000000            5.000000      373.500000   519.000000   \n",
       "75%           1.000000            6.000000      560.750000   754.000000   \n",
       "max           1.000000            8.000000      750.000000   997.000000   \n",
       "\n",
       "       discount_applied  items_purchased  \n",
       "count        735.000000       746.000000  \n",
       "mean         106.359184         5.154155  \n",
       "std          108.098623         2.656958  \n",
       "min            0.000000         1.000000  \n",
       "25%           50.000000         3.000000  \n",
       "50%           99.000000         5.000000  \n",
       "75%          153.000000         7.000000  \n",
       "max         1850.000000         9.000000  "
      ],
      "text/html": [
       "<div>\n",
       "<style scoped>\n",
       "    .dataframe tbody tr th:only-of-type {\n",
       "        vertical-align: middle;\n",
       "    }\n",
       "\n",
       "    .dataframe tbody tr th {\n",
       "        vertical-align: top;\n",
       "    }\n",
       "\n",
       "    .dataframe thead th {\n",
       "        text-align: right;\n",
       "    }\n",
       "</style>\n",
       "<table border=\"1\" class=\"dataframe\">\n",
       "  <thead>\n",
       "    <tr style=\"text-align: right;\">\n",
       "      <th></th>\n",
       "      <th>id</th>\n",
       "      <th>age</th>\n",
       "      <th>income</th>\n",
       "      <th>purchase_amount</th>\n",
       "      <th>promotion_usage</th>\n",
       "      <th>satisfaction_score</th>\n",
       "      <th>transaction_id</th>\n",
       "      <th>total_spent</th>\n",
       "      <th>discount_applied</th>\n",
       "      <th>items_purchased</th>\n",
       "    </tr>\n",
       "  </thead>\n",
       "  <tbody>\n",
       "    <tr>\n",
       "      <th>count</th>\n",
       "      <td>746.000000</td>\n",
       "      <td>746.000000</td>\n",
       "      <td>746.000000</td>\n",
       "      <td>746.000000</td>\n",
       "      <td>746.000000</td>\n",
       "      <td>743.000000</td>\n",
       "      <td>746.000000</td>\n",
       "      <td>743.000000</td>\n",
       "      <td>735.000000</td>\n",
       "      <td>746.000000</td>\n",
       "    </tr>\n",
       "    <tr>\n",
       "      <th>mean</th>\n",
       "      <td>496.072386</td>\n",
       "      <td>29.969169</td>\n",
       "      <td>27582.194370</td>\n",
       "      <td>9524.348525</td>\n",
       "      <td>0.297587</td>\n",
       "      <td>4.978466</td>\n",
       "      <td>374.243968</td>\n",
       "      <td>511.263795</td>\n",
       "      <td>106.359184</td>\n",
       "      <td>5.154155</td>\n",
       "    </tr>\n",
       "    <tr>\n",
       "      <th>std</th>\n",
       "      <td>288.385951</td>\n",
       "      <td>4.420254</td>\n",
       "      <td>13435.694457</td>\n",
       "      <td>4899.404414</td>\n",
       "      <td>0.457504</td>\n",
       "      <td>1.043305</td>\n",
       "      <td>216.423701</td>\n",
       "      <td>283.247314</td>\n",
       "      <td>108.098623</td>\n",
       "      <td>2.656958</td>\n",
       "    </tr>\n",
       "    <tr>\n",
       "      <th>min</th>\n",
       "      <td>1.000000</td>\n",
       "      <td>17.000000</td>\n",
       "      <td>5018.000000</td>\n",
       "      <td>1374.000000</td>\n",
       "      <td>0.000000</td>\n",
       "      <td>2.000000</td>\n",
       "      <td>1.000000</td>\n",
       "      <td>10.000000</td>\n",
       "      <td>0.000000</td>\n",
       "      <td>1.000000</td>\n",
       "    </tr>\n",
       "    <tr>\n",
       "      <th>25%</th>\n",
       "      <td>248.500000</td>\n",
       "      <td>27.000000</td>\n",
       "      <td>15869.250000</td>\n",
       "      <td>5377.000000</td>\n",
       "      <td>0.000000</td>\n",
       "      <td>4.000000</td>\n",
       "      <td>187.250000</td>\n",
       "      <td>264.000000</td>\n",
       "      <td>50.000000</td>\n",
       "      <td>3.000000</td>\n",
       "    </tr>\n",
       "    <tr>\n",
       "      <th>50%</th>\n",
       "      <td>491.000000</td>\n",
       "      <td>30.000000</td>\n",
       "      <td>28146.500000</td>\n",
       "      <td>9535.500000</td>\n",
       "      <td>0.000000</td>\n",
       "      <td>5.000000</td>\n",
       "      <td>373.500000</td>\n",
       "      <td>519.000000</td>\n",
       "      <td>99.000000</td>\n",
       "      <td>5.000000</td>\n",
       "    </tr>\n",
       "    <tr>\n",
       "      <th>75%</th>\n",
       "      <td>747.750000</td>\n",
       "      <td>33.000000</td>\n",
       "      <td>39828.750000</td>\n",
       "      <td>13175.000000</td>\n",
       "      <td>1.000000</td>\n",
       "      <td>6.000000</td>\n",
       "      <td>560.750000</td>\n",
       "      <td>754.000000</td>\n",
       "      <td>153.000000</td>\n",
       "      <td>7.000000</td>\n",
       "    </tr>\n",
       "    <tr>\n",
       "      <th>max</th>\n",
       "      <td>1000.000000</td>\n",
       "      <td>44.000000</td>\n",
       "      <td>49993.000000</td>\n",
       "      <td>21794.000000</td>\n",
       "      <td>1.000000</td>\n",
       "      <td>8.000000</td>\n",
       "      <td>750.000000</td>\n",
       "      <td>997.000000</td>\n",
       "      <td>1850.000000</td>\n",
       "      <td>9.000000</td>\n",
       "    </tr>\n",
       "  </tbody>\n",
       "</table>\n",
       "</div>"
      ]
     },
     "execution_count": 5,
     "metadata": {},
     "output_type": "execute_result"
    }
   ],
   "execution_count": 5
  },
  {
   "cell_type": "markdown",
   "source": [
    "2) Next, lets broadly explore all the categorical variables."
   ],
   "metadata": {
    "id": "WFy87oUfS99p"
   },
   "id": "WFy87oUfS99p"
  },
  {
   "cell_type": "code",
   "source": [
    "# describe the categorial data only\n",
    "merged_df.describe(include='object')"
   ],
   "metadata": {
    "id": "ceWgN2YGiUge",
    "executionInfo": {
     "status": "ok",
     "timestamp": 1750308393699,
     "user_tz": -480,
     "elapsed": 3,
     "user": {
      "displayName": "Tan Wei Jie",
      "userId": "13153057253066753068"
     }
    },
    "ExecuteTime": {
     "end_time": "2025-09-24T09:28:24.146941Z",
     "start_time": "2025-09-24T09:28:24.065287Z"
    }
   },
   "id": "ceWgN2YGiUge",
   "outputs": [
    {
     "data": {
      "text/plain": [
       "       gender education region loyalty_status purchase_frequency  \\\n",
       "count     746       746    746            746                746   \n",
       "unique      2         4      4              3                  3   \n",
       "top      Male   College   West        Regular               rare   \n",
       "freq      385       281    218            436                357   \n",
       "\n",
       "       product_category education_original transaction_date payment_method  \\\n",
       "count               746                744              746            746   \n",
       "unique                7                  4              746              4   \n",
       "top         Electronics            College        09/1/2024           Cash   \n",
       "freq                222                281                1            206   \n",
       "\n",
       "       return_status score_rank  \n",
       "count            746        746  \n",
       "unique             2          3  \n",
       "top        No Return    Neutral  \n",
       "freq             642        271  "
      ],
      "text/html": [
       "<div>\n",
       "<style scoped>\n",
       "    .dataframe tbody tr th:only-of-type {\n",
       "        vertical-align: middle;\n",
       "    }\n",
       "\n",
       "    .dataframe tbody tr th {\n",
       "        vertical-align: top;\n",
       "    }\n",
       "\n",
       "    .dataframe thead th {\n",
       "        text-align: right;\n",
       "    }\n",
       "</style>\n",
       "<table border=\"1\" class=\"dataframe\">\n",
       "  <thead>\n",
       "    <tr style=\"text-align: right;\">\n",
       "      <th></th>\n",
       "      <th>gender</th>\n",
       "      <th>education</th>\n",
       "      <th>region</th>\n",
       "      <th>loyalty_status</th>\n",
       "      <th>purchase_frequency</th>\n",
       "      <th>product_category</th>\n",
       "      <th>education_original</th>\n",
       "      <th>transaction_date</th>\n",
       "      <th>payment_method</th>\n",
       "      <th>return_status</th>\n",
       "      <th>score_rank</th>\n",
       "    </tr>\n",
       "  </thead>\n",
       "  <tbody>\n",
       "    <tr>\n",
       "      <th>count</th>\n",
       "      <td>746</td>\n",
       "      <td>746</td>\n",
       "      <td>746</td>\n",
       "      <td>746</td>\n",
       "      <td>746</td>\n",
       "      <td>746</td>\n",
       "      <td>744</td>\n",
       "      <td>746</td>\n",
       "      <td>746</td>\n",
       "      <td>746</td>\n",
       "      <td>746</td>\n",
       "    </tr>\n",
       "    <tr>\n",
       "      <th>unique</th>\n",
       "      <td>2</td>\n",
       "      <td>4</td>\n",
       "      <td>4</td>\n",
       "      <td>3</td>\n",
       "      <td>3</td>\n",
       "      <td>7</td>\n",
       "      <td>4</td>\n",
       "      <td>746</td>\n",
       "      <td>4</td>\n",
       "      <td>2</td>\n",
       "      <td>3</td>\n",
       "    </tr>\n",
       "    <tr>\n",
       "      <th>top</th>\n",
       "      <td>Male</td>\n",
       "      <td>College</td>\n",
       "      <td>West</td>\n",
       "      <td>Regular</td>\n",
       "      <td>rare</td>\n",
       "      <td>Electronics</td>\n",
       "      <td>College</td>\n",
       "      <td>09/1/2024</td>\n",
       "      <td>Cash</td>\n",
       "      <td>No Return</td>\n",
       "      <td>Neutral</td>\n",
       "    </tr>\n",
       "    <tr>\n",
       "      <th>freq</th>\n",
       "      <td>385</td>\n",
       "      <td>281</td>\n",
       "      <td>218</td>\n",
       "      <td>436</td>\n",
       "      <td>357</td>\n",
       "      <td>222</td>\n",
       "      <td>281</td>\n",
       "      <td>1</td>\n",
       "      <td>206</td>\n",
       "      <td>642</td>\n",
       "      <td>271</td>\n",
       "    </tr>\n",
       "  </tbody>\n",
       "</table>\n",
       "</div>"
      ]
     },
     "execution_count": 7,
     "metadata": {},
     "output_type": "execute_result"
    }
   ],
   "execution_count": 7
  },
  {
   "cell_type": "markdown",
   "source": [
    "3) Let's try to zoom in and explore some data points by filtering the data."
   ],
   "metadata": {
    "id": "CqZmJfcSUTHV"
   },
   "id": "CqZmJfcSUTHV"
  },
  {
   "cell_type": "code",
   "source": [
    "# filtering data\n",
    "high_income = merged_df[merged_df['income'] > 40000]\n",
    "high_income.head()"
   ],
   "metadata": {
    "id": "vFDL8qNEi0vN",
    "executionInfo": {
     "status": "ok",
     "timestamp": 1750308396818,
     "user_tz": -480,
     "elapsed": 27,
     "user": {
      "displayName": "Tan Wei Jie",
      "userId": "13153057253066753068"
     }
    },
    "ExecuteTime": {
     "end_time": "2025-09-24T09:29:53.004871Z",
     "start_time": "2025-09-24T09:29:52.944022Z"
    }
   },
   "id": "vFDL8qNEi0vN",
   "outputs": [
    {
     "data": {
      "text/plain": [
       "   id  age  gender  income   education region loyalty_status  \\\n",
       "0   1   27    Male   40682    Bachelor   East           Gold   \n",
       "3   5   31  Female   46952     College  North        Regular   \n",
       "5   8   24  Female   47773  HighSchool  North        Regular   \n",
       "7  11   35    Male   43896  HighSchool  South        Regular   \n",
       "8  12   32  Female   40044    Bachelor  North         Silver   \n",
       "\n",
       "  purchase_frequency  purchase_amount product_category  ...  \\\n",
       "0           frequent            18249            Books  ...   \n",
       "3         occasional            19685         Clothing  ...   \n",
       "5               rare            21794            Books  ...   \n",
       "7               rare            16158             Home  ...   \n",
       "8               rare            13608      Electronics  ...   \n",
       "\n",
       "   satisfaction_score  education_original transaction_id  transaction_date  \\\n",
       "0                 6.0            Bachelor            383         18/1/2024   \n",
       "3                 5.0             College            695        25/11/2024   \n",
       "5                 5.0          HighSchool             53         22/2/2023   \n",
       "7                 6.0          HighSchool            295        22/10/2023   \n",
       "8                 5.0            Bachelor            133         13/5/2023   \n",
       "\n",
       "  payment_method total_spent  discount_applied  items_purchased  \\\n",
       "0    Credit Card       404.0              26.0                5   \n",
       "3         PayPal       272.0             130.0                9   \n",
       "5     Debit Card       290.0              70.0                1   \n",
       "7           Cash       427.0              69.0                6   \n",
       "8         PayPal       441.0              97.0                7   \n",
       "\n",
       "   return_status score_rank  \n",
       "0      No Return       High  \n",
       "3      No Return    Neutral  \n",
       "5      No Return    Neutral  \n",
       "7      No Return       High  \n",
       "8      No Return    Neutral  \n",
       "\n",
       "[5 rows x 21 columns]"
      ],
      "text/html": [
       "<div>\n",
       "<style scoped>\n",
       "    .dataframe tbody tr th:only-of-type {\n",
       "        vertical-align: middle;\n",
       "    }\n",
       "\n",
       "    .dataframe tbody tr th {\n",
       "        vertical-align: top;\n",
       "    }\n",
       "\n",
       "    .dataframe thead th {\n",
       "        text-align: right;\n",
       "    }\n",
       "</style>\n",
       "<table border=\"1\" class=\"dataframe\">\n",
       "  <thead>\n",
       "    <tr style=\"text-align: right;\">\n",
       "      <th></th>\n",
       "      <th>id</th>\n",
       "      <th>age</th>\n",
       "      <th>gender</th>\n",
       "      <th>income</th>\n",
       "      <th>education</th>\n",
       "      <th>region</th>\n",
       "      <th>loyalty_status</th>\n",
       "      <th>purchase_frequency</th>\n",
       "      <th>purchase_amount</th>\n",
       "      <th>product_category</th>\n",
       "      <th>...</th>\n",
       "      <th>satisfaction_score</th>\n",
       "      <th>education_original</th>\n",
       "      <th>transaction_id</th>\n",
       "      <th>transaction_date</th>\n",
       "      <th>payment_method</th>\n",
       "      <th>total_spent</th>\n",
       "      <th>discount_applied</th>\n",
       "      <th>items_purchased</th>\n",
       "      <th>return_status</th>\n",
       "      <th>score_rank</th>\n",
       "    </tr>\n",
       "  </thead>\n",
       "  <tbody>\n",
       "    <tr>\n",
       "      <th>0</th>\n",
       "      <td>1</td>\n",
       "      <td>27</td>\n",
       "      <td>Male</td>\n",
       "      <td>40682</td>\n",
       "      <td>Bachelor</td>\n",
       "      <td>East</td>\n",
       "      <td>Gold</td>\n",
       "      <td>frequent</td>\n",
       "      <td>18249</td>\n",
       "      <td>Books</td>\n",
       "      <td>...</td>\n",
       "      <td>6.0</td>\n",
       "      <td>Bachelor</td>\n",
       "      <td>383</td>\n",
       "      <td>18/1/2024</td>\n",
       "      <td>Credit Card</td>\n",
       "      <td>404.0</td>\n",
       "      <td>26.0</td>\n",
       "      <td>5</td>\n",
       "      <td>No Return</td>\n",
       "      <td>High</td>\n",
       "    </tr>\n",
       "    <tr>\n",
       "      <th>3</th>\n",
       "      <td>5</td>\n",
       "      <td>31</td>\n",
       "      <td>Female</td>\n",
       "      <td>46952</td>\n",
       "      <td>College</td>\n",
       "      <td>North</td>\n",
       "      <td>Regular</td>\n",
       "      <td>occasional</td>\n",
       "      <td>19685</td>\n",
       "      <td>Clothing</td>\n",
       "      <td>...</td>\n",
       "      <td>5.0</td>\n",
       "      <td>College</td>\n",
       "      <td>695</td>\n",
       "      <td>25/11/2024</td>\n",
       "      <td>PayPal</td>\n",
       "      <td>272.0</td>\n",
       "      <td>130.0</td>\n",
       "      <td>9</td>\n",
       "      <td>No Return</td>\n",
       "      <td>Neutral</td>\n",
       "    </tr>\n",
       "    <tr>\n",
       "      <th>5</th>\n",
       "      <td>8</td>\n",
       "      <td>24</td>\n",
       "      <td>Female</td>\n",
       "      <td>47773</td>\n",
       "      <td>HighSchool</td>\n",
       "      <td>North</td>\n",
       "      <td>Regular</td>\n",
       "      <td>rare</td>\n",
       "      <td>21794</td>\n",
       "      <td>Books</td>\n",
       "      <td>...</td>\n",
       "      <td>5.0</td>\n",
       "      <td>HighSchool</td>\n",
       "      <td>53</td>\n",
       "      <td>22/2/2023</td>\n",
       "      <td>Debit Card</td>\n",
       "      <td>290.0</td>\n",
       "      <td>70.0</td>\n",
       "      <td>1</td>\n",
       "      <td>No Return</td>\n",
       "      <td>Neutral</td>\n",
       "    </tr>\n",
       "    <tr>\n",
       "      <th>7</th>\n",
       "      <td>11</td>\n",
       "      <td>35</td>\n",
       "      <td>Male</td>\n",
       "      <td>43896</td>\n",
       "      <td>HighSchool</td>\n",
       "      <td>South</td>\n",
       "      <td>Regular</td>\n",
       "      <td>rare</td>\n",
       "      <td>16158</td>\n",
       "      <td>Home</td>\n",
       "      <td>...</td>\n",
       "      <td>6.0</td>\n",
       "      <td>HighSchool</td>\n",
       "      <td>295</td>\n",
       "      <td>22/10/2023</td>\n",
       "      <td>Cash</td>\n",
       "      <td>427.0</td>\n",
       "      <td>69.0</td>\n",
       "      <td>6</td>\n",
       "      <td>No Return</td>\n",
       "      <td>High</td>\n",
       "    </tr>\n",
       "    <tr>\n",
       "      <th>8</th>\n",
       "      <td>12</td>\n",
       "      <td>32</td>\n",
       "      <td>Female</td>\n",
       "      <td>40044</td>\n",
       "      <td>Bachelor</td>\n",
       "      <td>North</td>\n",
       "      <td>Silver</td>\n",
       "      <td>rare</td>\n",
       "      <td>13608</td>\n",
       "      <td>Electronics</td>\n",
       "      <td>...</td>\n",
       "      <td>5.0</td>\n",
       "      <td>Bachelor</td>\n",
       "      <td>133</td>\n",
       "      <td>13/5/2023</td>\n",
       "      <td>PayPal</td>\n",
       "      <td>441.0</td>\n",
       "      <td>97.0</td>\n",
       "      <td>7</td>\n",
       "      <td>No Return</td>\n",
       "      <td>Neutral</td>\n",
       "    </tr>\n",
       "  </tbody>\n",
       "</table>\n",
       "<p>5 rows × 21 columns</p>\n",
       "</div>"
      ]
     },
     "execution_count": 8,
     "metadata": {},
     "output_type": "execute_result"
    }
   ],
   "execution_count": 8
  },
  {
   "cell_type": "markdown",
   "source": [
    "4) Use groupby() to group and perform aggregate functions on your data to get further analysis."
   ],
   "metadata": {
    "id": "aN1qZyKiUhBz"
   },
   "id": "aN1qZyKiUhBz"
  },
  {
   "cell_type": "code",
   "source": [
    "# group the data\n",
    "group_data = merged_df.groupby('product_category')['satisfaction_score'].mean()\n",
    "group_data"
   ],
   "metadata": {
    "id": "2SWF3ZPijYoO",
    "executionInfo": {
     "status": "ok",
     "timestamp": 1750308400329,
     "user_tz": -480,
     "elapsed": 3,
     "user": {
      "displayName": "Tan Wei Jie",
      "userId": "13153057253066753068"
     }
    },
    "ExecuteTime": {
     "end_time": "2025-09-24T11:05:56.647154Z",
     "start_time": "2025-09-24T11:05:56.572010Z"
    }
   },
   "id": "2SWF3ZPijYoO",
   "outputs": [
    {
     "data": {
      "text/plain": [
       "product_category\n",
       "Beauty         5.121212\n",
       "Books          4.918699\n",
       "Clothing       5.121387\n",
       "Electronics    4.959091\n",
       "Food           4.824074\n",
       "Health         4.932203\n",
       "Home           5.037037\n",
       "Name: satisfaction_score, dtype: float64"
      ]
     },
     "execution_count": 6,
     "metadata": {},
     "output_type": "execute_result"
    }
   ],
   "execution_count": 6
  },
  {
   "cell_type": "markdown",
   "source": [
    "###Part 2: Performing Data Visualisation\n",
    "(Tip: add more code cells if needed)"
   ],
   "metadata": {
    "id": "M6JUhfsBU2HZ"
   },
   "id": "M6JUhfsBU2HZ"
  },
  {
   "cell_type": "markdown",
   "source": [
    "**Key question 1:** What are some correlations that we should take note of to make business decisions?"
   ],
   "metadata": {
    "id": "3R6YbzakY7ZA"
   },
   "id": "3R6YbzakY7ZA"
  },
  {
   "cell_type": "markdown",
   "source": [
    "1) Let's start by using a heatmap to visualise correlations across multiple numerical columns. This is a quick way to find trends across your dataset."
   ],
   "metadata": {
    "id": "0V0zx5c8Cmqp"
   },
   "id": "0V0zx5c8Cmqp"
  },
  {
   "cell_type": "code",
   "source": [
    "# 1. correlation heatmap\n",
    "\n",
    "# select numerical columns and drop 'id' if it exists\n",
    "numerical_cols = merged_df.select_dtypes(include='number').drop(columns='id', errors='ignore')\n",
    "\n",
    "# compute correlation matrix\n",
    "corr_matrix = numerical_cols.corr()\n",
    "\n",
    "# plot\n",
    "plt.figure(figsize=(10,8))\n",
    "sns.heatmap(corr_matrix, annot=True, fmt=\".2f\", square=True, cmap='coolwarm')\n",
    "plt.title(\"Correlation Heatmap of Numerical Features\")\n",
    "plt.tight_layout()\n",
    "plt.show()"
   ],
   "metadata": {
    "id": "zWuL-V57cXf3",
    "executionInfo": {
     "status": "ok",
     "timestamp": 1750308403895,
     "user_tz": -480,
     "elapsed": 3,
     "user": {
      "displayName": "Tan Wei Jie",
      "userId": "13153057253066753068"
     }
    },
    "ExecuteTime": {
     "end_time": "2025-09-24T11:06:15.950251Z",
     "start_time": "2025-09-24T11:06:11.157495Z"
    }
   },
   "id": "zWuL-V57cXf3",
   "outputs": [
    {
     "data": {
      "text/plain": [
       "<Figure size 1000x800 with 2 Axes>"
      ],
      "image/png": "[encoded data removed]"
     },
     "metadata": {},
     "output_type": "display_data"
    }
   ],
   "execution_count": 8
  },
  {
   "cell_type": "markdown",
   "source": [
    "What interesting trends do you spot from the heatmap? If you were to explore that correlation, what type of graph best shows that?"
   ],
   "metadata": {
    "id": "5upguLjCVi4V"
   },
   "id": "5upguLjCVi4V"
  },
  {
   "cell_type": "code",
   "source": "#Answer: correlation between income and heatmap are the highest, while promotion usage and age is the lowest with -0.07",
   "metadata": {
    "id": "5ap9cQ45V6pU"
   },
   "id": "5ap9cQ45V6pU",
   "execution_count": null,
   "outputs": []
  },
  {
   "cell_type": "markdown",
   "source": [
    "2) Let's try plotting that graph."
   ],
   "metadata": {
    "id": "p9a1Qan7WBSq"
   },
   "id": "p9a1Qan7WBSq"
  },
  {
   "cell_type": "code",
   "source": [
    "plt.figure(figsize=(10,6))\n",
    "sns.scatterplot(x=numerical_cols['purchase_amount'], y=numerical_cols['income'], alpha=0.6)\n",
    "plt.title(\"Scatter Plot: Purchase Amount vs Income\")\n",
    "plt.xlabel(\"Purchase Amount\")\n",
    "plt.ylabel(\"Income (RM)\")\n",
    "plt.grid(True)\n",
    "plt.show()\n"
   ],
   "metadata": {
    "id": "P1Wf9j3Gjww6",
    "executionInfo": {
     "status": "ok",
     "timestamp": 1750308416819,
     "user_tz": -480,
     "elapsed": 5,
     "user": {
      "displayName": "Tan Wei Jie",
      "userId": "13153057253066753068"
     }
    },
    "ExecuteTime": {
     "end_time": "2025-09-24T11:06:58.202934Z",
     "start_time": "2025-09-24T11:06:56.948579Z"
    }
   },
   "id": "P1Wf9j3Gjww6",
   "outputs": [
    {
     "data": {
      "text/plain": [
       "<Figure size 1000x600 with 1 Axes>"
      ],
      "image/png": "[encoded data removed]"
     },
     "metadata": {},
     "output_type": "display_data"
    }
   ],
   "execution_count": 10
  },
  {
   "cell_type": "markdown",
   "source": [
    "What interesting insights might you obtain from this graph?"
   ],
   "metadata": {
    "id": "Eg3ehwcIWfN_"
   },
   "id": "Eg3ehwcIWfN_"
  },
  {
   "cell_type": "code",
   "source": "#Answer: The scatter plot shows a strong positive linear relationship where higher income generally leads to higher purchase amounts, though variation increases at higher income levels.",
   "metadata": {
    "id": "_19XrVn_WjrP"
   },
   "id": "_19XrVn_WjrP",
   "execution_count": null,
   "outputs": []
  },
  {
   "cell_type": "markdown",
   "source": [
    "**Key Question 2:** What are some interesting spending behaviours that we can observe?"
   ],
   "metadata": {
    "id": "W42ZDci7ZlK-"
   },
   "id": "W42ZDci7ZlK-"
  },
  {
   "cell_type": "markdown",
   "source": [
    "1) A good variable to explore is *total_spend*, which refers to how much a customer spends in one single transaction.\n",
    "\n",
    "Let's try plotting a boxplot to show the distribution and visualise key statistics."
   ],
   "metadata": {
    "id": "L83kiREPYPM8"
   },
   "id": "L83kiREPYPM8"
  },
  {
   "cell_type": "code",
   "execution_count": null,
   "id": "e98b25e6",
   "metadata": {
    "id": "e98b25e6",
    "executionInfo": {
     "status": "ok",
     "timestamp": 1750308423601,
     "user_tz": -480,
     "elapsed": 23,
     "user": {
      "displayName": "Tan Wei Jie",
      "userId": "13153057253066753068"
     }
    }
   },
   "outputs": [],
   "source": []
  },
  {
   "cell_type": "markdown",
   "source": [
    "What interesting insights might you obtain from this graph?"
   ],
   "metadata": {
    "id": "bc5cSvafaJij"
   },
   "id": "bc5cSvafaJij"
  },
  {
   "cell_type": "code",
   "source": [
    "#Answer:"
   ],
   "metadata": {
    "id": "j6zEZy-aaOyT"
   },
   "id": "j6zEZy-aaOyT",
   "execution_count": null,
   "outputs": []
  },
  {
   "cell_type": "markdown",
   "source": [
    "2) We can also explore the distribution further by plotting a histogram to show the shape of the distribution."
   ],
   "metadata": {
    "id": "eSara7YOaRSJ"
   },
   "id": "eSara7YOaRSJ"
  },
  {
   "cell_type": "code",
   "execution_count": null,
   "id": "61114bd2",
   "metadata": {
    "id": "61114bd2",
    "executionInfo": {
     "status": "ok",
     "timestamp": 1750308428268,
     "user_tz": -480,
     "elapsed": 9,
     "user": {
      "displayName": "Tan Wei Jie",
      "userId": "13153057253066753068"
     }
    }
   },
   "outputs": [],
   "source": []
  },
  {
   "cell_type": "markdown",
   "source": [
    "What interesting insights might you obtain from this graph?"
   ],
   "metadata": {
    "id": "O6a_uLeib998"
   },
   "id": "O6a_uLeib998"
  },
  {
   "cell_type": "code",
   "source": [
    "#answer:"
   ],
   "metadata": {
    "id": "FTuNlfb0cDeO"
   },
   "id": "FTuNlfb0cDeO",
   "execution_count": null,
   "outputs": []
  },
  {
   "cell_type": "markdown",
   "source": [
    "3) On the topic of customer behaviour, let's try a violin plot to visualise the distribution of purchase amount by payable method."
   ],
   "metadata": {
    "id": "kbrZsANkcMEu"
   },
   "id": "kbrZsANkcMEu"
  },
  {
   "cell_type": "code",
   "source": [],
   "metadata": {
    "id": "-8HvfYr7fPZY",
    "executionInfo": {
     "status": "ok",
     "timestamp": 1750308431771,
     "user_tz": -480,
     "elapsed": 3,
     "user": {
      "displayName": "Tan Wei Jie",
      "userId": "13153057253066753068"
     }
    }
   },
   "id": "-8HvfYr7fPZY",
   "execution_count": null,
   "outputs": []
  },
  {
   "cell_type": "markdown",
   "source": [
    "What interesting insights might you obtain from this graph?"
   ],
   "metadata": {
    "id": "80sSaO73cvcT"
   },
   "id": "80sSaO73cvcT"
  },
  {
   "cell_type": "code",
   "source": [
    "#Answer:"
   ],
   "metadata": {
    "id": "4CY3Ud95cux_"
   },
   "id": "4CY3Ud95cux_",
   "execution_count": null,
   "outputs": []
  },
  {
   "cell_type": "markdown",
   "source": [
    "**Key Question 3:** Are our customers satisfied with our products?"
   ],
   "metadata": {
    "id": "qOKaT0vzdXPj"
   },
   "id": "qOKaT0vzdXPj"
  },
  {
   "cell_type": "markdown",
   "source": [
    "1) Recall that you have created custom column called score_rank from **Lesson 3S: Sync Session**. Let's try to analyse that in accordance to our key question."
   ],
   "metadata": {
    "id": "ng7LeKrDdonZ"
   },
   "id": "ng7LeKrDdonZ"
  },
  {
   "cell_type": "code",
   "execution_count": null,
   "id": "05aab4ab",
   "metadata": {
    "id": "05aab4ab",
    "executionInfo": {
     "status": "ok",
     "timestamp": 1750308437101,
     "user_tz": -480,
     "elapsed": 10,
     "user": {
      "displayName": "Tan Wei Jie",
      "userId": "13153057253066753068"
     }
    }
   },
   "outputs": [],
   "source": []
  },
  {
   "cell_type": "markdown",
   "source": [
    "What interesting insights might you obtain from this graph?"
   ],
   "metadata": {
    "id": "lDS4PKt-d5-Z"
   },
   "id": "lDS4PKt-d5-Z"
  },
  {
   "cell_type": "code",
   "source": [
    "#Answer:"
   ],
   "metadata": {
    "id": "mUusdGeCd9DC"
   },
   "id": "mUusdGeCd9DC",
   "execution_count": null,
   "outputs": []
  },
  {
   "cell_type": "markdown",
   "source": [
    "**Bonus:** You can use a Tree Map to create engaging visualisation modules."
   ],
   "metadata": {
    "id": "WVAbVjvfc7mE"
   },
   "id": "WVAbVjvfc7mE"
  },
  {
   "cell_type": "code",
   "source": [],
   "metadata": {
    "id": "tX8RyTORe2A3",
    "executionInfo": {
     "status": "ok",
     "timestamp": 1750308442621,
     "user_tz": -480,
     "elapsed": 13,
     "user": {
      "displayName": "Tan Wei Jie",
      "userId": "13153057253066753068"
     }
    }
   },
   "id": "tX8RyTORe2A3",
   "execution_count": null,
   "outputs": []
  },
  {
   "cell_type": "markdown",
   "source": [
    "Hover around the data and click to further explore the data. What do you notice?"
   ],
   "metadata": {
    "id": "qDlGmWQPdHED"
   },
   "id": "qDlGmWQPdHED"
  },
  {
   "cell_type": "code",
   "source": [
    "#Answer:"
   ],
   "metadata": {
    "id": "0T-dss11dOZs"
   },
   "id": "0T-dss11dOZs",
   "execution_count": null,
   "outputs": []
  },
  {
   "cell_type": "markdown",
   "source": [
    "**👨‍👩‍👧‍👧Group Work:**\n",
    "\n",
    "Discuss in groups and come up with other key questions and create the visualisations for these questions. Share your approach and code with the rest of the class."
   ],
   "metadata": {
    "id": "o93MxXvZeCzd"
   },
   "id": "o93MxXvZeCzd"
  },
  {
   "cell_type": "code",
   "source": [],
   "metadata": {
    "id": "aSUlDBc2eSvS"
   },
   "id": "aSUlDBc2eSvS",
   "execution_count": null,
   "outputs": []
  },
  {
   "cell_type": "markdown",
   "source": [
    "##💭Data Interpretation\n",
    "\n",
    "Based on your analysis, share:\n",
    "1.  What are some of your business insights?\n",
    "2.  Based on the business insights, what are some of your key recommendations?"
   ],
   "metadata": {
    "id": "iiM0J_uwF3ld"
   },
   "id": "iiM0J_uwF3ld"
  },
  {
   "cell_type": "code",
   "source": [
    "#Answer:"
   ],
   "metadata": {
    "id": "tNX3QDZyGkff"
   },
   "id": "tNX3QDZyGkff",
   "execution_count": null,
   "outputs": []
  }
 ],
 "metadata": {
  "kernelspec": {
   "display_name": "Python 3 (ipykernel)",
   "language": "python",
   "name": "python3"
  },
  "language_info": {
   "codemirror_mode": {
    "name": "ipython",
    "version": 3
   },
   "file_extension": ".py",
   "mimetype": "text/x-python",
   "name": "python",
   "nbconvert_exporter": "python",
   "pygments_lexer": "ipython3",
   "version": "3.9.13"
  },
  "colab": {
   "provenance": []
  }
 },
 "nbformat": 4,
 "nbformat_minor": 5
}
