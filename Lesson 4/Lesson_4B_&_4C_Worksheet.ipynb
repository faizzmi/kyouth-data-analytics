{
 "cells": [
  {
   "cell_type": "markdown",
   "id": "85115f1c",
   "metadata": {
    "id": "85115f1c"
   },
   "source": [
    "# 4B: Exploratory Data Analysis"
   ]
  },
  {
   "cell_type": "markdown",
   "id": "769dd973",
   "metadata": {
    "id": "769dd973"
   },
   "source": [
    "## 🎯Learning Objectives:\n",
    "1. Perform broad descriptive analysis to summarise the dataset.\n",
    "2. Apply filters to focus the analysis on relevant subsets of data."
   ]
  },
  {
   "cell_type": "markdown",
   "id": "ruv4OLm4HWco",
   "metadata": {
    "id": "ruv4OLm4HWco"
   },
   "source": [
    "## ▶️: Load & Explore the Dataset  \n",
    "We will get started by upload the Merged_Data.csv file."
   ]
  },
  {
   "cell_type": "code",
   "id": "3dc2e16a-bf04-4742-844a-ac44952e0de2",
   "metadata": {
    "id": "3dc2e16a-bf04-4742-844a-ac44952e0de2",
    "ExecuteTime": {
     "end_time": "2025-09-22T06:25:08.962159Z",
     "start_time": "2025-09-22T06:25:08.757419Z"
    }
   },
   "source": [
    "import pandas as pd\n",
    "\n",
    "import pandas as pd\n",
    "from statsmodels.tools import categorical\n",
    "\n",
    "df = pd.read_csv(\"../Lesson 3/merged_data.csv\")\n",
    "df.info()\n"
   ],
   "outputs": [
    {
     "name": "stdout",
     "output_type": "stream",
     "text": [
      "<class 'pandas.core.frame.DataFrame'>\n",
      "RangeIndex: 984 entries, 0 to 983\n",
      "Data columns (total 20 columns):\n",
      " #   Column            Non-Null Count  Dtype  \n",
      "---  ------            --------------  -----  \n",
      " 0   Customer_ID       984 non-null    int64  \n",
      " 1   Gender            984 non-null    object \n",
      " 2   Age               971 non-null    float64\n",
      " 3   Occupation        984 non-null    object \n",
      " 4   Marital_Status    984 non-null    object \n",
      " 5   Food_Item         984 non-null    object \n",
      " 6   Category          984 non-null    object \n",
      " 7   Date_of_Visit     984 non-null    object \n",
      " 8   Time              984 non-null    object \n",
      " 9   Weather           984 non-null    object \n",
      " 10  Price             984 non-null    int64  \n",
      " 11  Weekend           984 non-null    object \n",
      " 12  Public_Holiday    984 non-null    object \n",
      " 13  Year              984 non-null    int64  \n",
      " 14  Month             984 non-null    int64  \n",
      " 15  Day               984 non-null    int64  \n",
      " 16  Day_of_Week       984 non-null    object \n",
      " 17  Discounted_Price  984 non-null    float64\n",
      " 18  Category_Encoded  984 non-null    int64  \n",
      " 19  Default_Date      984 non-null    object \n",
      "dtypes: float64(2), int64(6), object(12)\n",
      "memory usage: 153.9+ KB\n"
     ]
    }
   ],
   "execution_count": 2
  },
  {
   "cell_type": "markdown",
   "id": "68a35878",
   "metadata": {
    "id": "68a35878"
   },
   "source": [
    "## 1️⃣Summarise Numerical Variables\n",
    "\n",
    "### ✅ What We'll Do:\n",
    "1. Select numerical data columns.\n",
    "2. Use .describe() to print a statistical summary of the table."
   ]
  },
  {
   "cell_type": "code",
   "id": "11e9ffeb-9606-404f-8dbe-345985d064db",
   "metadata": {
    "ExecuteTime": {
     "end_time": "2025-09-22T06:25:11.740062Z",
     "start_time": "2025-09-22T06:25:11.511967Z"
    }
   },
   "source": [
    "# get summary numerical\n",
    "numerical_summary = ((df.drop(columns=[\"Customer_ID\",\"Category_Encoded\"]) # drop helper column no need for summary\n",
    "                  .select_dtypes(include='number')) # find numerical column only\n",
    "                     .describe())\n",
    "\n",
    "# display the result\n",
    "print(\"Descriptive statistics for numerical variables: \")\n",
    "print(numerical_summary)"
   ],
   "outputs": [
    {
     "name": "stdout",
     "output_type": "stream",
     "text": [
      "Descriptive statistics for numerical variables: \n",
      "              Age       Price    Year       Month         Day  \\\n",
      "count  971.000000  984.000000   984.0  984.000000  984.000000   \n",
      "mean    41.093718   12.720528  2023.0    2.238821   14.809959   \n",
      "std     13.953031    4.763816     0.0    0.971034    8.998104   \n",
      "min     19.000000    4.000000  2023.0    1.000000    1.000000   \n",
      "25%     28.000000    9.000000  2023.0    1.000000    7.000000   \n",
      "50%     41.000000   13.000000  2023.0    2.000000   14.000000   \n",
      "75%     54.000000   16.000000  2023.0    3.000000   23.000000   \n",
      "max     65.000000   23.000000  2023.0    4.000000   31.000000   \n",
      "\n",
      "       Discounted_Price  \n",
      "count        984.000000  \n",
      "mean          11.885152  \n",
      "std            4.282042  \n",
      "min            4.060000  \n",
      "25%            8.190000  \n",
      "50%           11.880000  \n",
      "75%           15.252500  \n",
      "max           21.550000  \n"
     ]
    }
   ],
   "execution_count": 3
  },
  {
   "cell_type": "markdown",
   "id": "4_YSXN7p7Mqd",
   "metadata": {
    "id": "4_YSXN7p7Mqd"
   },
   "source": [
    "**Reflection question:** Look at the statistical summary generated by .describe(). What insights can you draw that relate to the \"big questions\" we are exploring?\n",
    "- How does the count help you check for missing data?\n",
    "    - shows how many non-missing values are in a column and if the count is less than the total rows, the there is missing\n",
    "\n",
    "- What do the mean and 50% (median) tell you about the shape and center of the data?\n",
    "    - mean = use it to understand overall level of data, quick summaries but will ignore outlier\n",
    "    - median = best when your data has outlier\n",
    "\n",
    "\n",
    "- How can the standard deviation (std) help you spot variability, range issues, or potential outliers?\n",
    "    - to see the data consistency"
   ]
  },
  {
   "cell_type": "markdown",
   "id": "b8ed9b75",
   "metadata": {
    "id": "b8ed9b75"
   },
   "source": [
    "## 2️⃣ Explore Categorical Variables\n",
    "1. Select categorical data columns.\n",
    "2. Use loop and value_counts() to print a statistical summary of the table."
   ]
  },
  {
   "cell_type": "code",
   "id": "207bd7c2-5ed9-41cf-9a2e-742f66899c5a",
   "metadata": {
    "ExecuteTime": {
     "end_time": "2025-09-22T06:25:15.830136Z",
     "start_time": "2025-09-22T06:25:14.626637Z"
    }
   },
   "source": [
    "# find categorical columns\n",
    "categorical_columns = df.select_dtypes(include='object').columns\n",
    "\n",
    "print(\"\\nFrequency distribution for categorical variables:\")\n",
    "for col in categorical_columns:\n",
    "    print(f\"\\nColumn: {col}\")\n",
    "    print(df[col].value_counts())"
   ],
   "outputs": [
    {
     "name": "stdout",
     "output_type": "stream",
     "text": [
      "\n",
      "Frequency distribution for categorical variables:\n",
      "\n",
      "Column: Gender\n",
      "Gender\n",
      "Male      544\n",
      "Female    440\n",
      "Name: count, dtype: int64\n",
      "\n",
      "Column: Occupation\n",
      "Occupation\n",
      "Manager         295\n",
      "Blue Collar     231\n",
      "Student         184\n",
      "Executive       157\n",
      "White Collar    117\n",
      "Name: count, dtype: int64\n",
      "\n",
      "Column: Marital_Status\n",
      "Marital_Status\n",
      "Married    615\n",
      "Single     369\n",
      "Name: count, dtype: int64\n",
      "\n",
      "Column: Food_Item\n",
      "Food_Item\n",
      "Smoothie     346\n",
      "Ice Cream    336\n",
      "Soup         112\n",
      "Tea           95\n",
      "Coffee        95\n",
      "Name: count, dtype: int64\n",
      "\n",
      "Column: Category\n",
      "Category\n",
      "Cold    682\n",
      "Hot     302\n",
      "Name: count, dtype: int64\n",
      "\n",
      "Column: Date_of_Visit\n",
      "Date_of_Visit\n",
      "2023-03-23    19\n",
      "2023-03-30    18\n",
      "2023-02-28    17\n",
      "2023-02-20    17\n",
      "2023-02-10    17\n",
      "              ..\n",
      "2023-02-26     5\n",
      "2023-02-06     5\n",
      "2023-01-09     4\n",
      "2023-04-10     4\n",
      "2023-02-17     2\n",
      "Name: count, Length: 100, dtype: int64\n",
      "\n",
      "Column: Time\n",
      "Time\n",
      "11:00    61\n",
      "19:00    56\n",
      "20:30    50\n",
      "21:30    49\n",
      "17:30    48\n",
      "16:30    42\n",
      "22:30    42\n",
      "20:00    41\n",
      "13:30    41\n",
      "14:30    40\n",
      "15:30    39\n",
      "17:00    38\n",
      "22:00    37\n",
      "13:00    37\n",
      "19:30    36\n",
      "14:00    36\n",
      "11:30    35\n",
      "18:00    35\n",
      "12:30    32\n",
      "21:00    30\n",
      "10:30    30\n",
      "18:30    29\n",
      "12:00    27\n",
      "16:00    26\n",
      "10:00    24\n",
      "15:00    23\n",
      "Name: count, dtype: int64\n",
      "\n",
      "Column: Weather\n",
      "Weather\n",
      "sunny      682\n",
      "raining    302\n",
      "Name: count, dtype: int64\n",
      "\n",
      "Column: Weekend\n",
      "Weekend\n",
      "No     716\n",
      "Yes    268\n",
      "Name: count, dtype: int64\n",
      "\n",
      "Column: Public_Holiday\n",
      "Public_Holiday\n",
      "No     799\n",
      "Yes    185\n",
      "Name: count, dtype: int64\n",
      "\n",
      "Column: Day_of_Week\n",
      "Day_of_Week\n",
      "Sun    149\n",
      "Thu    147\n",
      "Wed    145\n",
      "Mon    145\n",
      "Tue    142\n",
      "Fri    137\n",
      "Sat    119\n",
      "Name: count, dtype: int64\n",
      "\n",
      "Column: Default_Date\n",
      "Default_Date\n",
      "03-23-2023    19\n",
      "03-30-2023    18\n",
      "02-28-2023    17\n",
      "02-20-2023    17\n",
      "02-10-2023    17\n",
      "              ..\n",
      "02-26-2023     5\n",
      "02-06-2023     5\n",
      "01-09-2023     4\n",
      "04-10-2023     4\n",
      "02-17-2023     2\n",
      "Name: count, Length: 100, dtype: int64\n"
     ]
    }
   ],
   "execution_count": 4
  },
  {
   "cell_type": "markdown",
   "id": "U2RYv11x7YLS",
   "metadata": {
    "id": "U2RYv11x7YLS"
   },
   "source": [
    "**Reflection question:** After reviewing the .value_counts() output for the categorical columns, what patterns or insights do you notice about the distribution of categories?\n",
    "- Are there categories that dominate the data?\n",
    "- Are there rare or infrequent categories that stand out?\n",
    "- What might the distribution tell you about biases, imbalances, or special cases in your dataset?\n",
    "\n",
    "\n",
    "**answer**\n",
    "1. Dominant categories (imbalanced features)\n",
    "- Gender: Males (544) are more than females (440). Not extremely imbalanced, but still a tilt.\n",
    "- Marital_Status: More married (615) than single (369).\n",
    "- Weather: Strongly dominated by sunny (682) vs raining (302).\n",
    "- Weekend: Majority of visits on weekdays (716), only 268 on weekends.\n",
    "- Public_Holiday: Mostly No (799) vs Yes (185).\n",
    "- Category: Cold items (682) are more popular than hot items (302).\n",
    "- These suggest the dataset reflects “normal conditions” (weekday, non-holiday, sunny days, cold items), so models trained here might underrepresent the rarer cases.\n",
    "\n",
    "2. Rare / infrequent categories\n",
    "- Food_Item: Smoothies (346) and Ice Cream (336) dominate, while Soup (112), Tea (95), and Coffee (95) are much less frequent.\n",
    "- Occupation: Manager (295) and Blue Collar (231) dominate, while White Collar (117) is relatively rare.\n",
    "- Day_of_Week: Visits spread fairly evenly, but Saturday (119) is much lower compared to others (140+).\n",
    "- Time: Certain times like 11:00, 19:00, and 20:30 have high counts, while early morning (10:00–10:30) or late night (22:00–22:30) are less common.\n",
    "- Rare categories might be important for niche insights (e.g., coffee drinkers are a minority but could represent a distinct behavior segment).\n",
    "\n",
    "3. Special cases / potential biases\n",
    "\n",
    "- Dates (Date_of_Visit & Default_Date): Some dates have very few visits (as low as 2–5). This might reflect missing data, low-traffic days, or special events.\n",
    "- Category vs Food_Item: Cold items dominate, possibly biased toward weather patterns (since sunny is also dominant)."
   ]
  },
  {
   "cell_type": "markdown",
   "id": "46e6f61a",
   "metadata": {
    "id": "46e6f61a"
   },
   "source": [
    "## 3️⃣ Filter and summarise data"
   ]
  },
  {
   "cell_type": "markdown",
   "id": "7NrrWFScl1RN",
   "metadata": {
    "id": "7NrrWFScl1RN"
   },
   "source": [
    "### (a) Filter for Exact Value\n",
    "\n",
    "Sometimes, you want to focus on rows where a specific column matches an exact value. We use the == operator to filter for an exact match.\n",
    "\n",
    "In this example, we'll filter the dataset to find all rows where the food item is \"ice cream.\""
   ]
  },
  {
   "cell_type": "code",
   "id": "0500b9eb-c8f7-40d2-99d0-32463fb75feb",
   "metadata": {
    "ExecuteTime": {
     "end_time": "2025-09-22T06:25:19.615109Z",
     "start_time": "2025-09-22T06:25:19.505376Z"
    }
   },
   "source": [
    "icecream_df = df[df['Food_Item'] == 'Ice Cream']\n",
    "icecream_df.head()"
   ],
   "outputs": [
    {
     "data": {
      "text/plain": [
       "    Customer_ID  Gender   Age   Occupation Marital_Status  Food_Item Category  \\\n",
       "8          1000    Male  36.0  Blue Collar         Single  Ice Cream     Cold   \n",
       "14         1000    Male  36.0  Blue Collar         Single  Ice Cream     Cold   \n",
       "15         1001  Female  33.0  Blue Collar         Single  Ice Cream     Cold   \n",
       "16         1001  Female  33.0  Blue Collar         Single  Ice Cream     Cold   \n",
       "20         1001  Female  33.0  Blue Collar         Single  Ice Cream     Cold   \n",
       "\n",
       "   Date_of_Visit   Time Weather  Price Weekend Public_Holiday  Year  Month  \\\n",
       "8     2023-03-16  18:30   sunny     17      No             No  2023      3   \n",
       "14    2023-01-28  14:30   sunny     19     Yes             No  2023      1   \n",
       "15    2023-02-20  10:30   sunny      5      No             No  2023      2   \n",
       "16    2023-01-01  15:30   sunny     15     Yes            Yes  2023      1   \n",
       "20    2023-01-02  19:30   sunny     17      No             No  2023      1   \n",
       "\n",
       "    Day Day_of_Week  Discounted_Price  Category_Encoded Default_Date  \n",
       "8    16         Thu             15.42                 0   03-16-2023  \n",
       "14   28         Sat             17.67                 0   01-28-2023  \n",
       "15   20         Mon              5.16                 0   02-20-2023  \n",
       "16    1         Sun             14.08                 0   01-01-2023  \n",
       "20    2         Mon             16.16                 0   01-02-2023  "
      ],
      "text/html": [
       "<div>\n",
       "<style scoped>\n",
       "    .dataframe tbody tr th:only-of-type {\n",
       "        vertical-align: middle;\n",
       "    }\n",
       "\n",
       "    .dataframe tbody tr th {\n",
       "        vertical-align: top;\n",
       "    }\n",
       "\n",
       "    .dataframe thead th {\n",
       "        text-align: right;\n",
       "    }\n",
       "</style>\n",
       "<table border=\"1\" class=\"dataframe\">\n",
       "  <thead>\n",
       "    <tr style=\"text-align: right;\">\n",
       "      <th></th>\n",
       "      <th>Customer_ID</th>\n",
       "      <th>Gender</th>\n",
       "      <th>Age</th>\n",
       "      <th>Occupation</th>\n",
       "      <th>Marital_Status</th>\n",
       "      <th>Food_Item</th>\n",
       "      <th>Category</th>\n",
       "      <th>Date_of_Visit</th>\n",
       "      <th>Time</th>\n",
       "      <th>Weather</th>\n",
       "      <th>Price</th>\n",
       "      <th>Weekend</th>\n",
       "      <th>Public_Holiday</th>\n",
       "      <th>Year</th>\n",
       "      <th>Month</th>\n",
       "      <th>Day</th>\n",
       "      <th>Day_of_Week</th>\n",
       "      <th>Discounted_Price</th>\n",
       "      <th>Category_Encoded</th>\n",
       "      <th>Default_Date</th>\n",
       "    </tr>\n",
       "  </thead>\n",
       "  <tbody>\n",
       "    <tr>\n",
       "      <th>8</th>\n",
       "      <td>1000</td>\n",
       "      <td>Male</td>\n",
       "      <td>36.0</td>\n",
       "      <td>Blue Collar</td>\n",
       "      <td>Single</td>\n",
       "      <td>Ice Cream</td>\n",
       "      <td>Cold</td>\n",
       "      <td>2023-03-16</td>\n",
       "      <td>18:30</td>\n",
       "      <td>sunny</td>\n",
       "      <td>17</td>\n",
       "      <td>No</td>\n",
       "      <td>No</td>\n",
       "      <td>2023</td>\n",
       "      <td>3</td>\n",
       "      <td>16</td>\n",
       "      <td>Thu</td>\n",
       "      <td>15.42</td>\n",
       "      <td>0</td>\n",
       "      <td>03-16-2023</td>\n",
       "    </tr>\n",
       "    <tr>\n",
       "      <th>14</th>\n",
       "      <td>1000</td>\n",
       "      <td>Male</td>\n",
       "      <td>36.0</td>\n",
       "      <td>Blue Collar</td>\n",
       "      <td>Single</td>\n",
       "      <td>Ice Cream</td>\n",
       "      <td>Cold</td>\n",
       "      <td>2023-01-28</td>\n",
       "      <td>14:30</td>\n",
       "      <td>sunny</td>\n",
       "      <td>19</td>\n",
       "      <td>Yes</td>\n",
       "      <td>No</td>\n",
       "      <td>2023</td>\n",
       "      <td>1</td>\n",
       "      <td>28</td>\n",
       "      <td>Sat</td>\n",
       "      <td>17.67</td>\n",
       "      <td>0</td>\n",
       "      <td>01-28-2023</td>\n",
       "    </tr>\n",
       "    <tr>\n",
       "      <th>15</th>\n",
       "      <td>1001</td>\n",
       "      <td>Female</td>\n",
       "      <td>33.0</td>\n",
       "      <td>Blue Collar</td>\n",
       "      <td>Single</td>\n",
       "      <td>Ice Cream</td>\n",
       "      <td>Cold</td>\n",
       "      <td>2023-02-20</td>\n",
       "      <td>10:30</td>\n",
       "      <td>sunny</td>\n",
       "      <td>5</td>\n",
       "      <td>No</td>\n",
       "      <td>No</td>\n",
       "      <td>2023</td>\n",
       "      <td>2</td>\n",
       "      <td>20</td>\n",
       "      <td>Mon</td>\n",
       "      <td>5.16</td>\n",
       "      <td>0</td>\n",
       "      <td>02-20-2023</td>\n",
       "    </tr>\n",
       "    <tr>\n",
       "      <th>16</th>\n",
       "      <td>1001</td>\n",
       "      <td>Female</td>\n",
       "      <td>33.0</td>\n",
       "      <td>Blue Collar</td>\n",
       "      <td>Single</td>\n",
       "      <td>Ice Cream</td>\n",
       "      <td>Cold</td>\n",
       "      <td>2023-01-01</td>\n",
       "      <td>15:30</td>\n",
       "      <td>sunny</td>\n",
       "      <td>15</td>\n",
       "      <td>Yes</td>\n",
       "      <td>Yes</td>\n",
       "      <td>2023</td>\n",
       "      <td>1</td>\n",
       "      <td>1</td>\n",
       "      <td>Sun</td>\n",
       "      <td>14.08</td>\n",
       "      <td>0</td>\n",
       "      <td>01-01-2023</td>\n",
       "    </tr>\n",
       "    <tr>\n",
       "      <th>20</th>\n",
       "      <td>1001</td>\n",
       "      <td>Female</td>\n",
       "      <td>33.0</td>\n",
       "      <td>Blue Collar</td>\n",
       "      <td>Single</td>\n",
       "      <td>Ice Cream</td>\n",
       "      <td>Cold</td>\n",
       "      <td>2023-01-02</td>\n",
       "      <td>19:30</td>\n",
       "      <td>sunny</td>\n",
       "      <td>17</td>\n",
       "      <td>No</td>\n",
       "      <td>No</td>\n",
       "      <td>2023</td>\n",
       "      <td>1</td>\n",
       "      <td>2</td>\n",
       "      <td>Mon</td>\n",
       "      <td>16.16</td>\n",
       "      <td>0</td>\n",
       "      <td>01-02-2023</td>\n",
       "    </tr>\n",
       "  </tbody>\n",
       "</table>\n",
       "</div>"
      ]
     },
     "execution_count": 5,
     "metadata": {},
     "output_type": "execute_result"
    }
   ],
   "execution_count": 5
  },
  {
   "cell_type": "code",
   "id": "zJJ0PmJxXWAK",
   "metadata": {
    "colab": {
     "base_uri": "https://localhost:8080/"
    },
    "id": "zJJ0PmJxXWAK",
    "outputId": "1fde37cf-d91d-437d-a11c-1e542cd42d40",
    "ExecuteTime": {
     "end_time": "2025-09-22T06:25:20.567910Z",
     "start_time": "2025-09-22T06:25:20.558573Z"
    }
   },
   "source": [
    "# Find total observations\n",
    "icecream_df.shape[0]"
   ],
   "outputs": [
    {
     "data": {
      "text/plain": [
       "336"
      ]
     },
     "execution_count": 6,
     "metadata": {},
     "output_type": "execute_result"
    }
   ],
   "execution_count": 6
  },
  {
   "cell_type": "markdown",
   "id": "RBxfxCWbnlT1",
   "metadata": {
    "id": "RBxfxCWbnlT1"
   },
   "source": [
    "**Reflection questions:**\n",
    "- What information were you able to uncover by filtering for a specific value (e.g., \"ice cream\")?\n",
    "    - found that 336 people chose it. This tells me Ice Cream is one of the more popular items. maybe\n",
    "- How does filtering by exact value help you focus your analysis on a particular subset of the data?\n",
    "    - It focuses only on Ice Cream buyers, so I can study their patterns like what weather it is, time visit\n",
    "- Were there more or fewer rows than you expected after applying the filter? What might this tell you about the data?\n",
    "    - If I see more rows than I thought, Ice Cream is really popular. If fewer, then maybe people don’t buy it often. This shows me customer preferences."
   ]
  },
  {
   "cell_type": "markdown",
   "id": "tgMPsjYGmhOC",
   "metadata": {
    "id": "tgMPsjYGmhOC"
   },
   "source": [
    "### (b) Filter for Range\n",
    "\n",
    "Sometimes, you want to narrow down your data based on a range of values — not just an exact match.\n",
    "We use comparison operators like <=, <, >=, or > to filter rows that meet a condition.\n",
    "\n",
    "In this example, we'll filter the dataset to find all rows where the price is $5.00 or less."
   ]
  },
  {
   "cell_type": "code",
   "id": "cbc641e7-f33d-4887-9043-7f8f92fa54b3",
   "metadata": {
    "ExecuteTime": {
     "end_time": "2025-09-22T06:25:23.837842Z",
     "start_time": "2025-09-22T06:25:23.775613Z"
    }
   },
   "source": [
    "price_df = df[df['Price'] <= 5.0]\n",
    "price_df.head()"
   ],
   "outputs": [
    {
     "data": {
      "text/plain": [
       "     Customer_ID  Gender   Age    Occupation Marital_Status  Food_Item  \\\n",
       "15          1001  Female  33.0   Blue Collar         Single  Ice Cream   \n",
       "54          1003    Male  62.0     Executive        Married       Soup   \n",
       "64          1004  Female  52.0       Manager        Married  Ice Cream   \n",
       "111         1011    Male  33.0  White Collar         Single       Soup   \n",
       "116         1011    Male  33.0  White Collar         Single       Soup   \n",
       "\n",
       "    Category Date_of_Visit   Time  Weather  Price Weekend Public_Holiday  \\\n",
       "15      Cold    2023-02-20  10:30    sunny      5      No             No   \n",
       "54       Hot    2023-03-25  11:00  raining      5     Yes             No   \n",
       "64      Cold    2023-01-27  17:00    sunny      5      No             No   \n",
       "111      Hot    2023-03-09  17:00  raining      5      No             No   \n",
       "116      Hot    2023-04-02  17:00  raining      5     Yes             No   \n",
       "\n",
       "     Year  Month  Day Day_of_Week  Discounted_Price  Category_Encoded  \\\n",
       "15   2023      2   20         Mon              5.16                 0   \n",
       "54   2023      3   25         Sat              5.39                 1   \n",
       "64   2023      1   27         Fri              5.39                 0   \n",
       "111  2023      3    9         Thu              5.26                 1   \n",
       "116  2023      4    2         Sun              5.07                 1   \n",
       "\n",
       "    Default_Date  \n",
       "15    02-20-2023  \n",
       "54    03-25-2023  \n",
       "64    01-27-2023  \n",
       "111   03-09-2023  \n",
       "116   04-02-2023  "
      ],
      "text/html": [
       "<div>\n",
       "<style scoped>\n",
       "    .dataframe tbody tr th:only-of-type {\n",
       "        vertical-align: middle;\n",
       "    }\n",
       "\n",
       "    .dataframe tbody tr th {\n",
       "        vertical-align: top;\n",
       "    }\n",
       "\n",
       "    .dataframe thead th {\n",
       "        text-align: right;\n",
       "    }\n",
       "</style>\n",
       "<table border=\"1\" class=\"dataframe\">\n",
       "  <thead>\n",
       "    <tr style=\"text-align: right;\">\n",
       "      <th></th>\n",
       "      <th>Customer_ID</th>\n",
       "      <th>Gender</th>\n",
       "      <th>Age</th>\n",
       "      <th>Occupation</th>\n",
       "      <th>Marital_Status</th>\n",
       "      <th>Food_Item</th>\n",
       "      <th>Category</th>\n",
       "      <th>Date_of_Visit</th>\n",
       "      <th>Time</th>\n",
       "      <th>Weather</th>\n",
       "      <th>Price</th>\n",
       "      <th>Weekend</th>\n",
       "      <th>Public_Holiday</th>\n",
       "      <th>Year</th>\n",
       "      <th>Month</th>\n",
       "      <th>Day</th>\n",
       "      <th>Day_of_Week</th>\n",
       "      <th>Discounted_Price</th>\n",
       "      <th>Category_Encoded</th>\n",
       "      <th>Default_Date</th>\n",
       "    </tr>\n",
       "  </thead>\n",
       "  <tbody>\n",
       "    <tr>\n",
       "      <th>15</th>\n",
       "      <td>1001</td>\n",
       "      <td>Female</td>\n",
       "      <td>33.0</td>\n",
       "      <td>Blue Collar</td>\n",
       "      <td>Single</td>\n",
       "      <td>Ice Cream</td>\n",
       "      <td>Cold</td>\n",
       "      <td>2023-02-20</td>\n",
       "      <td>10:30</td>\n",
       "      <td>sunny</td>\n",
       "      <td>5</td>\n",
       "      <td>No</td>\n",
       "      <td>No</td>\n",
       "      <td>2023</td>\n",
       "      <td>2</td>\n",
       "      <td>20</td>\n",
       "      <td>Mon</td>\n",
       "      <td>5.16</td>\n",
       "      <td>0</td>\n",
       "      <td>02-20-2023</td>\n",
       "    </tr>\n",
       "    <tr>\n",
       "      <th>54</th>\n",
       "      <td>1003</td>\n",
       "      <td>Male</td>\n",
       "      <td>62.0</td>\n",
       "      <td>Executive</td>\n",
       "      <td>Married</td>\n",
       "      <td>Soup</td>\n",
       "      <td>Hot</td>\n",
       "      <td>2023-03-25</td>\n",
       "      <td>11:00</td>\n",
       "      <td>raining</td>\n",
       "      <td>5</td>\n",
       "      <td>Yes</td>\n",
       "      <td>No</td>\n",
       "      <td>2023</td>\n",
       "      <td>3</td>\n",
       "      <td>25</td>\n",
       "      <td>Sat</td>\n",
       "      <td>5.39</td>\n",
       "      <td>1</td>\n",
       "      <td>03-25-2023</td>\n",
       "    </tr>\n",
       "    <tr>\n",
       "      <th>64</th>\n",
       "      <td>1004</td>\n",
       "      <td>Female</td>\n",
       "      <td>52.0</td>\n",
       "      <td>Manager</td>\n",
       "      <td>Married</td>\n",
       "      <td>Ice Cream</td>\n",
       "      <td>Cold</td>\n",
       "      <td>2023-01-27</td>\n",
       "      <td>17:00</td>\n",
       "      <td>sunny</td>\n",
       "      <td>5</td>\n",
       "      <td>No</td>\n",
       "      <td>No</td>\n",
       "      <td>2023</td>\n",
       "      <td>1</td>\n",
       "      <td>27</td>\n",
       "      <td>Fri</td>\n",
       "      <td>5.39</td>\n",
       "      <td>0</td>\n",
       "      <td>01-27-2023</td>\n",
       "    </tr>\n",
       "    <tr>\n",
       "      <th>111</th>\n",
       "      <td>1011</td>\n",
       "      <td>Male</td>\n",
       "      <td>33.0</td>\n",
       "      <td>White Collar</td>\n",
       "      <td>Single</td>\n",
       "      <td>Soup</td>\n",
       "      <td>Hot</td>\n",
       "      <td>2023-03-09</td>\n",
       "      <td>17:00</td>\n",
       "      <td>raining</td>\n",
       "      <td>5</td>\n",
       "      <td>No</td>\n",
       "      <td>No</td>\n",
       "      <td>2023</td>\n",
       "      <td>3</td>\n",
       "      <td>9</td>\n",
       "      <td>Thu</td>\n",
       "      <td>5.26</td>\n",
       "      <td>1</td>\n",
       "      <td>03-09-2023</td>\n",
       "    </tr>\n",
       "    <tr>\n",
       "      <th>116</th>\n",
       "      <td>1011</td>\n",
       "      <td>Male</td>\n",
       "      <td>33.0</td>\n",
       "      <td>White Collar</td>\n",
       "      <td>Single</td>\n",
       "      <td>Soup</td>\n",
       "      <td>Hot</td>\n",
       "      <td>2023-04-02</td>\n",
       "      <td>17:00</td>\n",
       "      <td>raining</td>\n",
       "      <td>5</td>\n",
       "      <td>Yes</td>\n",
       "      <td>No</td>\n",
       "      <td>2023</td>\n",
       "      <td>4</td>\n",
       "      <td>2</td>\n",
       "      <td>Sun</td>\n",
       "      <td>5.07</td>\n",
       "      <td>1</td>\n",
       "      <td>04-02-2023</td>\n",
       "    </tr>\n",
       "  </tbody>\n",
       "</table>\n",
       "</div>"
      ]
     },
     "execution_count": 7,
     "metadata": {},
     "output_type": "execute_result"
    }
   ],
   "execution_count": 7
  },
  {
   "cell_type": "code",
   "id": "k3_MeYk2YLD_",
   "metadata": {
    "colab": {
     "base_uri": "https://localhost:8080/"
    },
    "id": "k3_MeYk2YLD_",
    "outputId": "a72b33e9-f505-461d-82e9-01661af0ff8b",
    "ExecuteTime": {
     "end_time": "2025-09-22T06:25:25.364121Z",
     "start_time": "2025-09-22T06:25:25.354003Z"
    }
   },
   "source": [
    "# Find total observations\n",
    "price_df.shape[0]"
   ],
   "outputs": [
    {
     "data": {
      "text/plain": [
       "44"
      ]
     },
     "execution_count": 8,
     "metadata": {},
     "output_type": "execute_result"
    }
   ],
   "execution_count": 8
  },
  {
   "cell_type": "markdown",
   "id": "h22o3CVynw8e",
   "metadata": {
    "id": "h22o3CVynw8e"
   },
   "source": [
    "**Reflection questions:**\n",
    "- What patterns did you notice when you filtered for rows where the price was $5.00 or less?\n",
    "    - saw items like Ice Cream and Soup.\n",
    "- How can filtering by a range of values help you find important groups or trends in your data?\n",
    "    - see trends in cheaper items and who buys them.\n",
    "- If you changed the filter condition (e.g., price <= 10.0), how might your insights change?\n",
    "    - see more items and a bigger picture of customer choices."
   ]
  },
  {
   "cell_type": "markdown",
   "id": "89726130",
   "metadata": {
    "id": "89726130"
   },
   "source": [
    "# 4C: Data Visualisation"
   ]
  },
  {
   "cell_type": "markdown",
   "id": "af901efc",
   "metadata": {
    "id": "af901efc"
   },
   "source": [
    "## 🎯Learning Objectives:\n",
    "1. Choose the right type of chart for your analysis goals.\n",
    "2. Create and visualise charts effectively to represent your data.\n",
    "3. Interpret charts and summarise meaningful insights from your data."
   ]
  },
  {
   "cell_type": "markdown",
   "id": "b40ff430",
   "metadata": {
    "id": "b40ff430"
   },
   "source": [
    "## ▶️Importing Libraries"
   ]
  },
  {
   "cell_type": "markdown",
   "id": "cxzDX728oICD",
   "metadata": {
    "id": "cxzDX728oICD"
   },
   "source": [
    "To turn numbers and tables into visual stories, we need tools for creating charts and graphs.\n",
    "- **Matplotlib** provides the basic building blocks for a wide range of plots.\n",
    "- **Seaborn** builds on Matplotlib, making it easier to create beautiful, polished charts, especially with pandas DataFrames."
   ]
  },
  {
   "cell_type": "code",
   "id": "0a7c5cfc",
   "metadata": {
    "id": "0a7c5cfc",
    "ExecuteTime": {
     "end_time": "2025-09-22T06:25:28.053357Z",
     "start_time": "2025-09-22T06:25:28.025857Z"
    }
   },
   "source": [
    "import matplotlib.pyplot as plt\n",
    "import seaborn as sns\n",
    "\n",
    "df.info()"
   ],
   "outputs": [
    {
     "name": "stdout",
     "output_type": "stream",
     "text": [
      "<class 'pandas.core.frame.DataFrame'>\n",
      "RangeIndex: 984 entries, 0 to 983\n",
      "Data columns (total 20 columns):\n",
      " #   Column            Non-Null Count  Dtype  \n",
      "---  ------            --------------  -----  \n",
      " 0   Customer_ID       984 non-null    int64  \n",
      " 1   Gender            984 non-null    object \n",
      " 2   Age               971 non-null    float64\n",
      " 3   Occupation        984 non-null    object \n",
      " 4   Marital_Status    984 non-null    object \n",
      " 5   Food_Item         984 non-null    object \n",
      " 6   Category          984 non-null    object \n",
      " 7   Date_of_Visit     984 non-null    object \n",
      " 8   Time              984 non-null    object \n",
      " 9   Weather           984 non-null    object \n",
      " 10  Price             984 non-null    int64  \n",
      " 11  Weekend           984 non-null    object \n",
      " 12  Public_Holiday    984 non-null    object \n",
      " 13  Year              984 non-null    int64  \n",
      " 14  Month             984 non-null    int64  \n",
      " 15  Day               984 non-null    int64  \n",
      " 16  Day_of_Week       984 non-null    object \n",
      " 17  Discounted_Price  984 non-null    float64\n",
      " 18  Category_Encoded  984 non-null    int64  \n",
      " 19  Default_Date      984 non-null    object \n",
      "dtypes: float64(2), int64(6), object(12)\n",
      "memory usage: 153.9+ KB\n"
     ]
    }
   ],
   "execution_count": 9
  },
  {
   "cell_type": "markdown",
   "id": "9caff4d8",
   "metadata": {
    "id": "9caff4d8"
   },
   "source": [
    "## 1️⃣Visualising Trends or Patterns over Time  \n",
    "\n",
    "A **line plot** helps us see trends and patterns over time.\n",
    "In this example, we’ll analyze how total visits change over different months.\n",
    "\n",
    "✔ X-axis → Month\n",
    "\n",
    "✔ Y-axis → Total Visits"
   ]
  },
  {
   "cell_type": "code",
   "id": "fad34eca-4762-44a6-ab09-e944892e4bc3",
   "metadata": {
    "ExecuteTime": {
     "end_time": "2025-09-22T06:25:30.658793Z",
     "start_time": "2025-09-22T06:25:30.114250Z"
    }
   },
   "source": [
    "# group data by month to calc total visit\n",
    "monthly_avg_visits = df.groupby('Month').size().reset_index(name=\"Visit_Count\")\n",
    "\n",
    "import matplotlib.pyplot as plt\n",
    "\n",
    "# plot trend using a line chart\n",
    "plt.figure(figsize=(10,5))\n",
    "plt.plot(\n",
    "    monthly_avg_visits['Month'],\n",
    "    monthly_avg_visits['Visit_Count'],\n",
    "    marker='x',\n",
    "    linestyle='-',\n",
    "    color='red'\n",
    ")\n",
    "# for color can use only red, green, blue\n",
    "# existed linestyle  '-', '--', '-.', ':', 'None', ' ', '', 'solid', 'dashed', 'dashdot', 'dotted'\n",
    "# existed marker, o and x\n",
    "\n",
    "plt.xlabel(\"Month\") # x label\n",
    "plt.ylabel(\"Total Visits\") # y label\n",
    "plt.title(\"Total Visits by Month\") # chart title\n",
    "plt.xticks(rotation=45) # rotation label x\n",
    "plt.grid(False)\n",
    "plt.tight_layout()\n",
    "plt.show()"
   ],
   "outputs": [
    {
     "data": {
      "text/plain": [
       "<Figure size 1000x500 with 1 Axes>"
      ],
      "image/png": "[encoded data removed]"
     },
     "metadata": {},
     "output_type": "display_data"
    }
   ],
   "execution_count": 10
  },
  {
   "cell_type": "markdown",
   "id": "2tpFJMnBpDyB",
   "metadata": {
    "id": "2tpFJMnBpDyB"
   },
   "source": [
    "**Reflection Question**\n",
    "- What trends do you notice in the number of visits across different months?\n",
    "    - The number of visits stays fairly steady in months 1 and 2, rises to a peak in month 3, and then drops sharply in month 4.\n",
    "- Are there any months where visits peak or drop significantly? What factors might explain these patterns?\n",
    "    - Visits peak in month 3 and fall drastically in month 4. This could be explained by seasonal demand, the effect of marketing campaigns, holidays, or other external events that influenced customer behavior.\n",
    "- How could this trend information be useful for making business or planning decisions?\n",
    "    - This trend can help businesses prepare by adjusting staffing, planning promotions during low months, and managing resources more effectively to match customer demand."
   ]
  },
  {
   "cell_type": "markdown",
   "id": "326df2ee",
   "metadata": {
    "id": "326df2ee"
   },
   "source": [
    "## 2️⃣ Visualising Comparisons\n",
    "\n",
    "### (a) Bar chart\n",
    "A **bar chart** is useful for comparing categorical data.  \n",
    "We will check how **average spending differs** across different days of the week.  \n",
    "\n",
    "✔ **X-axis** → Day of the Week  \n",
    "✔ **Y-axis** → Average Price Paid  \n"
   ]
  },
  {
   "cell_type": "code",
   "id": "8e6eb44b-6b37-41f2-a445-f51b4711fd45",
   "metadata": {
    "ExecuteTime": {
     "end_time": "2025-09-22T06:25:39.221954Z",
     "start_time": "2025-09-22T06:25:38.143439Z"
    }
   },
   "source": [
    "# group day of week to calc everage price\n",
    "df_grouped = df.groupby('Day_of_Week')['Price'].mean().reset_index()\n",
    "\n",
    "# sort result in desc order\n",
    "df_grouped_sorted = df_grouped.sort_values(by='Price', ascending=False)\n",
    "\n",
    "import seaborn as sns\n",
    "import matplotlib.pyplot as plt\n",
    "\n",
    "plt.figure(figsize=(8, 5))\n",
    "\n",
    "sns.barplot(\n",
    "    x='Day_of_Week',\n",
    "    y='Price',\n",
    "    data=df_grouped_sorted,\n",
    "    hue=\"Day_of_Week\",\n",
    "    palette='Set1',\n",
    "    legend=True\n",
    ")\n",
    "\n",
    "# https://seaborn.pydata.org/tutorial/color_palettes.html\n",
    "\n",
    "plt.xlabel(\"Day_of_Week\")\n",
    "plt.ylabel(\"Average Price\")\n",
    "plt.title(\"Average Total Sales by Day of the Week\")\n",
    "plt.xticks(rotation=45)\n",
    "plt.tight_layout()\n",
    "\n",
    "plt.show()"
   ],
   "outputs": [
    {
     "data": {
      "text/plain": [
       "<Figure size 800x500 with 1 Axes>"
      ],
      "image/png": "[encoded data removed]"
     },
     "metadata": {},
     "output_type": "display_data"
    }
   ],
   "execution_count": 11
  },
  {
   "cell_type": "markdown",
   "id": "dsVicUJNpW8V",
   "metadata": {
    "id": "dsVicUJNpW8V"
   },
   "source": [
    "**Reflection Question**\n",
    "- Do customers tend to spend more on weekends compared to weekdays?\n",
    "- What patterns can you spot from the differences in average spending?"
   ]
  },
  {
   "cell_type": "markdown",
   "id": "A8v0cMhkZWPc",
   "metadata": {
    "id": "A8v0cMhkZWPc"
   },
   "source": [
    "### (b) Grouped Barchart\n",
    " A **grouped barchart** is used to compare more than one categorical variable on the same chart."
   ]
  },
  {
   "cell_type": "code",
   "id": "1703c0ea-c0ef-4700-a5ca-b023c28bfcfe",
   "metadata": {
    "ExecuteTime": {
     "end_time": "2025-09-22T06:26:10.778940Z",
     "start_time": "2025-09-22T06:26:09.650304Z"
    }
   },
   "source": [
    "weather_item_sales = df.groupby(['Weather', 'Food_Item'])['Price'].sum().reset_index()\n",
    "\n",
    "import seaborn as sns\n",
    "import matplotlib.pyplot as plt\n",
    "\n",
    "plt.figure(figsize=(10,6))\n",
    "sns.barplot(x='Weather', y ='Price', hue=\"Food_Item\", data=weather_item_sales)\n",
    "\n",
    "plt.xlabel(\"Weather Condition\")\n",
    "plt.ylabel(\"Total Sales\")\n",
    "plt.title(\"Total Sales by Weather and Food Item\")\n",
    "plt.legend(title=\"Food Item\")\n",
    "plt.tight_layout()\n",
    "\n",
    "plt.show()"
   ],
   "outputs": [
    {
     "data": {
      "text/plain": [
       "<Figure size 1000x600 with 1 Axes>"
      ],
      "image/png": "[encoded data removed]"
     },
     "metadata": {},
     "output_type": "display_data"
    }
   ],
   "execution_count": 14
  },
  {
   "cell_type": "markdown",
   "id": "NI_jnxPSptoi",
   "metadata": {
    "id": "NI_jnxPSptoi"
   },
   "source": [
    "**Reflection Question**\n",
    "How does the weather seem to influence the total sales of different food items?\n",
    "\n",
    "Which food items perform better in certain weather conditions?\n",
    "\n",
    "Are there any surprising patterns or trends when comparing food item sales across different weather conditions?"
   ]
  },
  {
   "cell_type": "markdown",
   "id": "2a1fab39",
   "metadata": {
    "id": "2a1fab39"
   },
   "source": [
    "## 3️⃣ Visualising  distributions\n",
    "\n",
    "A **histogram** helps us understand the distribution of a numerical variable.\n",
    "In this example, we'll explore how prices are distributed across all transactions.\n",
    "\n",
    "✔ X-axis → Price Paid\n",
    "✔ Y-axis → Frequency (Number of Transactions)\n"
   ]
  },
  {
   "cell_type": "markdown",
   "id": "XEqMFLSCp7wq",
   "metadata": {
    "id": "XEqMFLSCp7wq"
   },
   "source": [
    "**Reflection Question**\n",
    "- Is there a common price range that most customers tend to pay?\n",
    "- Are there any unexpected spikes or gaps in the price distribution?"
   ]
  },
  {
   "cell_type": "code",
   "id": "c7a8c3d6-01e8-4dbf-adab-1eb0cb747bd3",
   "metadata": {
    "ExecuteTime": {
     "end_time": "2025-09-22T06:33:18.599008Z",
     "start_time": "2025-09-22T06:33:14.300313Z"
    }
   },
   "source": [
    "plt.figure(figsize=(8, 5))\n",
    "sns.histplot(df['Price'], bins = 20, kde=False, color='blue')\n",
    "# kde stand for connected line foe each bar\n",
    "\n",
    "plt.xlabel(\"Price\")\n",
    "plt.ylabel(\"Frequency\")\n",
    "plt.title(\"Price Frequency\")\n",
    "plt.show()"
   ],
   "outputs": [
    {
     "data": {
      "text/plain": [
       "<Figure size 800x500 with 1 Axes>"
      ],
      "image/png": "[encoded data removed]"
     },
     "metadata": {},
     "output_type": "display_data"
    }
   ],
   "execution_count": 17
  },
  {
   "cell_type": "markdown",
   "id": "ad60a785",
   "metadata": {
    "id": "ad60a785"
   },
   "source": [
    "## 4️⃣ Visualising compositions (parts of a whole)\n",
    "A **pie chart** helps us see how different food items contribute to total sales.\n",
    "\n",
    "In this example, we'll visualize the proportion of total sales by food item.\n",
    "- Each slice → Food Item\n",
    "- Size of slice → Percentage of Total Sales"
   ]
  },
  {
   "cell_type": "markdown",
   "id": "lk1W2GnSqc_f",
   "metadata": {
    "id": "lk1W2GnSqc_f"
   },
   "source": [
    "**Reflection Questions:**\n",
    "- Which food items contribute the most to total sales?\n",
    "- Are there any items with surprisingly large or small shares?\n",
    "- How might these proportions influence business or marketing decisions?"
   ]
  },
  {
   "cell_type": "code",
   "id": "5e7a3f13-e114-47ed-b51b-3264c7a14eef",
   "metadata": {
    "ExecuteTime": {
     "end_time": "2025-09-22T07:15:25.828790Z",
     "start_time": "2025-09-22T07:15:25.491689Z"
    }
   },
   "source": [
    "item_sales= df.groupby('Food_Item')['Price'].sum().reset_index()\n",
    "\n",
    "plt.figure(figsize=(8, 8))\n",
    "plt.pie(item_sales['Price'], labels=item_sales['Food_Item'],autopct ='1.2f%%', startangle=140)\n",
    "\n",
    "plt.title(\"Total Sales by Food Items\")\n",
    "plt.tight_layout()\n",
    "\n",
    "plt.show()"
   ],
   "outputs": [
    {
     "data": {
      "text/plain": [
       "<Figure size 800x800 with 1 Axes>"
      ],
      "image/png": "[encoded data removed]"
     },
     "metadata": {},
     "output_type": "display_data"
    }
   ],
   "execution_count": 20
  },
  {
   "metadata": {},
   "cell_type": "code",
   "outputs": [],
   "execution_count": null,
   "source": "",
   "id": "d808f81cec5ddcc7"
  }
 ],
 "metadata": {
  "colab": {
   "provenance": []
  },
  "kernelspec": {
   "display_name": "Python [conda env:base] *",
   "language": "python",
   "name": "conda-base-py"
  },
  "language_info": {
   "codemirror_mode": {
    "name": "ipython",
    "version": 3
   },
   "file_extension": ".py",
   "mimetype": "text/x-python",
   "name": "python",
   "nbconvert_exporter": "python",
   "pygments_lexer": "ipython3",
   "version": "3.12.7"
  }
 },
 "nbformat": 4,
 "nbformat_minor": 5
}
