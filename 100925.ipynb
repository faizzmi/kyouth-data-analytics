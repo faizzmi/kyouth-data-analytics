{
 "cells": [
  {
   "cell_type": "code",
   "execution_count": 3,
   "id": "b3a8f8ec-7b24-4add-b49e-aa6db8b147b1",
   "metadata": {},
   "outputs": [
    {
     "name": "stdout",
     "output_type": "stream",
     "text": [
      "<class 'int'>\n",
      "<class 'float'>\n",
      "10.0\n",
      "<class 'float'>\n",
      "21.0\n",
      "<class 'float'>\n"
     ]
    }
   ],
   "source": [
    "# Python program to demonstrate \n",
    "# implicit type Casting \n",
    "\n",
    "# Python automatically converts \n",
    "# a to int \n",
    "a = 7\n",
    "print(type(a)) \n",
    "\n",
    "# Python automatically converts \n",
    "# b to float \n",
    "b = 3.0\n",
    "print(type(b)) \n",
    "\n",
    "# Python automatically converts \n",
    "# c to float as it is a float addition \n",
    "c = a + b \n",
    "print(c) \n",
    "print(type(c))\n",
    "\n",
    "# Python automatically converts \n",
    "# d to float as it is a float multiplication\n",
    "d = a * b\n",
    "print(d)\n",
    "print(type(d))"
   ]
  },
  {
   "cell_type": "code",
   "execution_count": 2,
   "id": "1d761a92-749c-47f9-9262-0a0d75bc9b1c",
   "metadata": {},
   "outputs": [
    {
     "name": "stdout",
     "output_type": "stream",
     "text": [
      "I love number10\n"
     ]
    }
   ],
   "source": [
    "# explicit\n",
    "a = \"I love number\"\n",
    "b =10\n",
    "b1 = str(b)\n",
    "print(a+b1)"
   ]
  },
  {
   "cell_type": "code",
   "execution_count": 6,
   "id": "69bafa90-5f2f-479a-82af-a4db71cc7e36",
   "metadata": {},
   "outputs": [
    {
     "name": "stdin",
     "output_type": "stream",
     "text": [
      "Please enter age: 12\n"
     ]
    },
    {
     "name": "stdout",
     "output_type": "stream",
     "text": [
      "You can't vote\n"
     ]
    }
   ],
   "source": [
    "age = input(\"Please enter age:\")\n",
    "result = \"You can vote\" if int(age) >=18 else \"You can't vote\"\n",
    "print(result)"
   ]
  },
  {
   "cell_type": "code",
   "execution_count": 26,
   "id": "d936a3c1-4c44-4b39-b567-31dd5497e11d",
   "metadata": {},
   "outputs": [
    {
     "name": "stdin",
     "output_type": "stream",
     "text": [
      "Please enter number: 1\n",
      "Please enter time: 1\n"
     ]
    },
    {
     "name": "stdout",
     "output_type": "stream",
     "text": [
      "Number is in the range between 0 - 10, kiki\n"
     ]
    }
   ],
   "source": [
    "user_input = float(input(\"Please enter number:\"))\n",
    "time = float(input(\"Please enter time:\"))\n",
    "\n",
    "# just unlogical condition for educational purpose, loll\n",
    "if 0 <= user_input<=10 and time > 10:\n",
    "    print(\"Number is in the range between 0 - 10\")\n",
    "elif 0 <= user_input<=10 and time < 10:\n",
    "    print(\"Number is in the range between 0 - 10, kiki\")\n",
    "elif user_input > 10:\n",
    "    print(\"Number is more than 10\")\n",
    "else:\n",
    "    print(\"Number is a negative number\")"
   ]
  },
  {
   "cell_type": "code",
   "execution_count": 33,
   "id": "35b561ca-db60-4044-8a12-e3dd362d3d37",
   "metadata": {},
   "outputs": [
    {
     "name": "stdout",
     "output_type": "stream",
     "text": [
      "6\n"
     ]
    }
   ],
   "source": [
    "scores = [2,32,34,12,34,54,65]\n",
    "count = len([score for score in scores if score > 9])\n",
    "print(count)"
   ]
  },
  {
   "cell_type": "code",
   "execution_count": 35,
   "id": "6aa2a163-014f-4c41-bfe0-11cfbe9280f3",
   "metadata": {},
   "outputs": [
    {
     "name": "stdout",
     "output_type": "stream",
     "text": [
      "1\n",
      "3\n",
      "5\n",
      "7\n",
      "9\n"
     ]
    }
   ],
   "source": [
    "for i in range(1,10,2):\n",
    "    print(i)\n"
   ]
  },
  {
   "cell_type": "code",
   "execution_count": null,
   "id": "1105dcda-e15f-43b3-b452-f6436d1b8085",
   "metadata": {},
   "outputs": [],
   "source": []
  }
 ],
 "metadata": {
  "kernelspec": {
   "display_name": "Python 3 (ipykernel)",
   "language": "python",
   "name": "python3"
  },
  "language_info": {
   "codemirror_mode": {
    "name": "ipython",
    "version": 3
   },
   "file_extension": ".py",
   "mimetype": "text/x-python",
   "name": "python",
   "nbconvert_exporter": "python",
   "pygments_lexer": "ipython3",
   "version": "3.13.5"
  }
 },
 "nbformat": 4,
 "nbformat_minor": 5
}
