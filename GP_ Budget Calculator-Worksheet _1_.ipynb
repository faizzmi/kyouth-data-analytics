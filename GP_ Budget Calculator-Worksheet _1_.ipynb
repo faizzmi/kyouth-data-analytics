{
 "cells": [
  {
   "cell_type": "markdown",
   "id": "eb8b82ae",
   "metadata": {
    "id": "eb8b82ae"
   },
   "source": [
    "# Guided Practice: Budget Calculator."
   ]
  },
  {
   "cell_type": "markdown",
   "id": "fee18667",
   "metadata": {
    "id": "fee18667"
   },
   "source": [
    "## 🎯Your Mission:\n",
    "\n",
    "You are tasked with developing a small program to help a user track their budget and make informed financial decisions. The application should allow users to input their income, categorize expenses, and check whether their spending in different categories stays within limits. The program should also notify the user if they exceed their budget in any category."
   ]
  },
  {
   "cell_type": "markdown",
   "id": "9e310178",
   "metadata": {
    "id": "9e310178"
   },
   "source": [
    "## 📋 Task Overview:\n",
    "\n",
    "Design a Python program that acts like a personal budget assistant. It should:\n",
    "\n",
    "1. Accept the user’s monthly income and budget limits for 3 expense categories.\n",
    "2. Take the actual spending in those categories as input.\n",
    "3. Check if spending exceeds the budget in any category or overall.\n",
    "4. Advise the user whether they’re on track or need to revise their spending habits.\n",
    "5. Display a clean summary with helpful feedback."
   ]
  },
  {
   "cell_type": "markdown",
   "id": "7456cbc2-d640-4da0-af5b-88cfeb84a251",
   "metadata": {
    "jp-MarkdownHeadingCollapsed": true
   },
   "source": [
    "## 🧩Your Proposed Solution\n",
    "\n",
    "Before writing code, think about how you would approach this problem. Consider:\n",
    "\n",
    "- What does the user need to input?\n",
    "- What comparisons and calculations are required?\n",
    "- What feedback should the program give for different scenarios?\n"
   ]
  },
  {
   "cell_type": "markdown",
   "id": "6522b5ac",
   "metadata": {
    "id": "6522b5ac"
   },
   "source": [
    "## 📚 Reading Material\n",
    "\n",
    "To understand the significance of budgeting, read this short article:\n",
    "\n",
    "How to Budget Money: Your Step-by-Step Guide(https://www.investopedia.com/financial-edge/1109/6-reasons-why-you-need-a-budget.aspx)\n",
    "\n",
    "This will give you an idea of why financial planning is essential and how it impacts personal and household finances."
   ]
  },
  {
   "cell_type": "markdown",
   "id": "4dfd8d40",
   "metadata": {
    "id": "4dfd8d40"
   },
   "source": [
    "## Learning Objectives\n",
    "\n",
    "By completing this project, you will:\n",
    "\n",
    "1. Apply Python syntax and indentation correctly.\n",
    "2. Use variables and data types effectively.\n",
    "3. Implement conditional statements, including nested ones, for decision-making.\n",
    "4. Gain experience with simple data structures to organize and process user inputs."
   ]
  },
  {
   "cell_type": "markdown",
   "id": "0c8ca854",
   "metadata": {
    "id": "0c8ca854"
   },
   "source": [
    "## 🔍 Questions to Solve Using Code\n",
    "\n",
    "Answer the following design questions before starting to code. These questions will guide your pseudocode writing and simulate logical breakdown process. "
   ]
  },
  {
   "cell_type": "markdown",
   "id": "9e3a7808",
   "metadata": {
    "id": "9e3a7808"
   },
   "source": [
    "### A. Input Gathering:\n",
    "\n",
    "- What values does the program need from the user?\n",
    "- How will the user define the income and expense categories?\n"
   ]
  },
  {
   "cell_type": "markdown",
   "id": "33a6e6f3",
   "metadata": {
    "id": "33a6e6f3"
   },
   "source": [
    "### B. Expense Tracking:\n",
    "\n",
    "- How should the budget for each category be stored?\n",
    "- Can the category list be made flexible?"
   ]
  },
  {
   "cell_type": "markdown",
   "id": "b55eefef",
   "metadata": {
    "id": "b55eefef"
   },
   "source": [
    "### C. Budget Validation:\n",
    "\n",
    "- How do you check if the total expenses are within the income limit?\n",
    "- How do you compare spending in each category against its budget?\n",
    "  "
   ]
  },
  {
   "cell_type": "markdown",
   "id": "ea01dbc4",
   "metadata": {
    "id": "ea01dbc4"
   },
   "source": [
    "### D. Decision-making Logic:\n",
    "\n",
    "- What message will the program display when a user overspends or underspends?\n",
    "- How can the program help users make better decisions?"
   ]
  },
  {
   "cell_type": "markdown",
   "id": "5e08a2a7-d2bb-4088-b18b-cac03c87381c",
   "metadata": {},
   "source": [
    "### E. Decision-making Logic:\n",
    "\n",
    "- What does a clear, helpful summary look like?\n",
    "- How can feedback be encouraging but corrective?"
   ]
  },
  {
   "cell_type": "markdown",
   "id": "a48161af",
   "metadata": {
    "id": "a48161af"
   },
   "source": [
    "## 🛠️ Writing Your Pseudocode\n",
    "**💭Apply #AlgoThinking**\n",
    "\n",
    "Understand the steps below and write your pseudocode in the space below."
   ]
  },
  {
   "cell_type": "markdown",
   "id": "96d55362",
   "metadata": {
    "id": "96d55362"
   },
   "source": [
    "### Step 1: Program Overview and Setup\n",
    "\n",
    "- Start by creating an introduction message for the program to explain its purpose.\n",
    "\n",
    "### Step 2: Input Collection\n",
    "\n",
    "- Prompt the user to input their monthly income.\n",
    "- Collect user-defined budgets for three categories.\n",
    "\n",
    "### Step 3: Expense Recording\n",
    "\n",
    "- Ask the user for actual spending in each category.\n",
    "\n",
    "### Step 4: Perform Calculations\n",
    "\n",
    "- Calculate the total expenses.\n",
    "- Check if total expenses exceed income.\n",
    "- Compare each category's spending to its budget.\n",
    "\n",
    "### Step 5: Conditional Logic and Feedback\n",
    "\n",
    "- Use conditional statements to:\n",
    "- Notify the user if they are within or over budget.\n",
    "- Identify specific categories with overspending.\n",
    "\n",
    "### Step 6: Display Results\n",
    "\n",
    "- Print a clear, user-friendly summary of the budget, expenses, and decision-making messages.\n"
   ]
  },
  {
   "cell_type": "code",
   "id": "a57b0cb6-19ed-4140-9b94-3bf17ec71001",
   "metadata": {
    "ExecuteTime": {
     "end_time": "2025-09-11T04:53:18.554524Z",
     "start_time": "2025-09-11T04:52:44.052074Z"
    }
   },
   "source": [
    "# calc budget and expenses\n",
    "def collect_allocation(categories, type):\n",
    "    allocation = {}\n",
    "    print(f\"\\n--- Set Your {type} ---\")\n",
    "    for cat in categories:\n",
    "        allocation[cat] = float(input(f\"{type} for {cat}: \"))\n",
    "    return allocation\n",
    "\n",
    "\n",
    "def analyze_budget(income, budgets, expenses):\n",
    "    total_expenses = sum(expenses.values())\n",
    "    remaining_balance = income - total_expenses\n",
    "\n",
    "    # check overspend or there are some remaining\n",
    "    if total_expenses > income:\n",
    "        print(f\"Warning: Expenses exceed income by {abs(remaining_balance):.2f}\")\n",
    "    else:\n",
    "        print(f\"Good job! You are within your income. Remaining balance: {remaining_balance:.2f}\")\n",
    "\n",
    "    for cat in budgets:\n",
    "        if expenses[cat] > budgets[cat]:\n",
    "            print(f\"Overspent on {cat} by {expenses[cat] - budgets[cat]:.2f}\")\n",
    "        else:\n",
    "            print(f\"{cat} spending is within budget.\")\n",
    "\n",
    "    return total_expenses, remaining_balance\n",
    "\n",
    "\n",
    "def display_summary(income, total_expenses, remaining_balance):\n",
    "    print(f\"Income: {income:.2f}\")\n",
    "    print(f\"Total Expenses: {total_expenses:.2f}\")\n",
    "    print(f\"Remaining Balance: {remaining_balance:.2f}\")\n",
    "\n",
    "\n",
    "print(\"=== Personal Budget Checker ===\")\n",
    "print(\"Track your monthly income, budgets, and expenses.\\n\")\n",
    "\n",
    "categories = [\"Food\", \"Transport\", \"Entertainment\"]\n",
    "\n",
    "# user input\n",
    "income = float(input(\"Enter your monthly income: \"))\n",
    "\n",
    "# data collection\n",
    "budgets = collect_allocation(categories, \"Budgets\")\n",
    "expenses = collect_allocation(categories, \"Expenses\")\n",
    "\n",
    "print(\"\\n=== Budget Analysis ===\")\n",
    "total_expenses, remaining_balance = analyze_budget(income, budgets, expenses)\n",
    "\n",
    "print(\"\\n=== Summary ===\")\n",
    "display_summary(income, total_expenses, remaining_balance)\n"
   ],
   "outputs": [
    {
     "name": "stdout",
     "output_type": "stream",
     "text": [
      "=== Personal Budget Checker ===\n",
      "Track your monthly income, budgets, and expenses.\n",
      "\n",
      "\n",
      "--- Set Your Budgets ---\n",
      "\n",
      "--- Set Your Expenses ---\n",
      "\n",
      "=== Budget Analysis ===\n",
      "Good job! You are within your income. Remaining balance: 1430.00\n",
      "Food spending is within budget.\n",
      "Transport spending is within budget.\n",
      "Entertainment spending is within budget.\n",
      "\n",
      "=== Summary ===\n",
      "Income: 2500.00\n",
      "Total Expenses: 1070.00\n",
      "Remaining Balance: 1430.00\n"
     ]
    }
   ],
   "execution_count": 3
  },
  {
   "cell_type": "markdown",
   "id": "3122e1b5-3082-40a0-9262-1bb384c50cfe",
   "metadata": {},
   "source": [
    "## 📥 Insert Your Full Code Below\n"
   ]
  },
  {
   "cell_type": "code",
   "execution_count": 3,
   "id": "f0886e50-9f3a-48f5-be59-059103b57e34",
   "metadata": {},
   "outputs": [
    {
     "name": "stdout",
     "output_type": "stream",
     "text": [
      "\n",
      "============================================================================================\n",
      "\t\t\t\tWelcome to the Budget Planner!\n",
      "============================================================================================\n",
      "\n",
      "This system helps you manage your monthly income by dividing it into three main categories:\n",
      "\n",
      "1. Commitments: Essential expenses such as housing, debt repayment, and other necessities.\n",
      "2. Wants/Entertainment: Non-essential spending for self-rewards, hobbies, fashion, and leisure.\n",
      "3. Savings: Money set aside for emergency funds, investments, and your financial goals (e.g., car, house).\n",
      "\n",
      "Features:\n",
      "- Decide the percentage of your income to allocate to each category.\n",
      "- Input amounts for each subcategory manually to match your priorities.\n",
      "- Receive notifications if you exceed the allocated limit for any category.\n",
      "- Get a detailed summary including totals, remaining amounts, and subcategory percentages.\n",
      "\n"
     ]
    },
    {
     "name": "stdin",
     "output_type": "stream",
     "text": [
      "Please enter your income (RM):  2500\n"
     ]
    },
    {
     "name": "stdout",
     "output_type": "stream",
     "text": [
      "\n",
      "Enter the percentage of your income to allocate for each category:\n"
     ]
    },
    {
     "name": "stdin",
     "output_type": "stream",
     "text": [
      "Commitment (%):  50\n",
      "Want (%):  20\n",
      "Saving (%):  30\n"
     ]
    },
    {
     "name": "stdout",
     "output_type": "stream",
     "text": [
      "You are choosing 50.0/20.0/30.0 as your budget plan\n",
      "\n",
      "Enter amounts for Commitments:\n"
     ]
    },
    {
     "name": "stdin",
     "output_type": "stream",
     "text": [
      "\tHousing: RM 400\n",
      "\tUltilities: RM 300\n",
      "\tDebt/Loans: RM 200\n",
      "\tTransportation: RM 100\n",
      "\tGroceries: RM 100\n",
      "\tInsurance: RM 100\n",
      "\tParent: RM 20\n",
      "\tSpouse: RM 0\n"
     ]
    },
    {
     "name": "stdout",
     "output_type": "stream",
     "text": [
      "\n",
      "Enter amounts for Wants:\n"
     ]
    },
    {
     "name": "stdin",
     "output_type": "stream",
     "text": [
      "\tSelf Rewards: RM 300\n",
      "\tHobbies: RM 200\n",
      "\tFashion: RM 20\n",
      "\tTrips: RM 10\n",
      "\tGadget: RM 10\n"
     ]
    },
    {
     "name": "stdout",
     "output_type": "stream",
     "text": [
      "\n",
      "Enter amounts for Savings:\n"
     ]
    },
    {
     "name": "stdin",
     "output_type": "stream",
     "text": [
      "\tEmergency Funds: RM 100\n",
      "\tInvesment: RM 100\n",
      "\tSelf Development: RM 100\n",
      "\tCharity: RM 100\n"
     ]
    },
    {
     "name": "stdout",
     "output_type": "stream",
     "text": [
      "\n",
      "============================================================================================\n",
      "\t\t\t\tBudget Summary\n",
      "============================================================================================\n",
      "Total Income: RM2500.00\n",
      "\n",
      "Commitments:\n",
      "\tLimit: RM1250.00 (50.0%)\n",
      "\tSpent: RM1220.00 (48.8%)\n",
      "\tRemaining: RM30.00\n",
      "\tComment: Great! You are within your budget.\n",
      "\tSuggestion: You are managing essentials well. Look for ways to optimize fixed expenses like utilities or groceries.\n",
      "\n",
      "\tSubcategory breakdown:\n",
      "\t- Housing: RM400.00\n",
      "\t- Ultilities: RM300.00\n",
      "\t- Debt/Loans: RM200.00\n",
      "\t- Transportation: RM100.00\n",
      "\t- Groceries: RM100.00\n",
      "\t- Insurance: RM100.00\n",
      "\t- Parent: RM20.00\n",
      "\t- Spouse: RM0.00\n",
      "----------------------------------------------\n",
      "Wants:\n",
      "\tLimit: RM500.00 (20.0%)\n",
      "\tSpent: RM540.00 (21.6%)\n",
      "\tOverspent by: RM40.00\n",
      "\tAdvice: Reduce spending in some subcategories to stay within the budget.\n",
      "\n",
      "\tSubcategory breakdown:\n",
      "\t- Self Rewards: RM300.00\n",
      "\t- Hobbies: RM200.00\n",
      "\t- Fashion: RM20.00\n",
      "\t- Trips: RM10.00\n",
      "\t- Gadget: RM10.00\n",
      "----------------------------------------------\n",
      "Savings:\n",
      "\tLimit: RM750.00 (30.0%)\n",
      "\tSpent: RM400.00 (16.0%)\n",
      "\tRemaining: RM350.00\n",
      "\tComment: Great! You are within your budget.\n",
      "\tSuggestion: Consider increasing your savings percentage or adding to investments for future goals.\n",
      "\n",
      "\tSubcategory breakdown:\n",
      "\t- Emergency Funds: RM100.00\n",
      "\t- Invesment: RM100.00\n",
      "\t- Self Development: RM100.00\n",
      "\t- Charity: RM100.00\n",
      "----------------------------------------------\n",
      "Total Spent: RM2160.00\n",
      "Remaining Income: RM340.00\n",
      "\n",
      "Excellent! Your total spending is within your income. Keep up the good budgeting habits!\n",
      "==============================================\n",
      "\n"
     ]
    }
   ],
   "source": [
    "# Expended/Advanced Version\n",
    "\n",
    "# Introductory message\n",
    "print(\"\"\"\n",
    "============================================================================================\n",
    "\\t\\t\\t\\tWelcome to the Budget Planner!\n",
    "============================================================================================\n",
    "\n",
    "This system helps you manage your monthly income by dividing it into three main categories:\n",
    "\n",
    "1. Commitments: Essential expenses such as housing, debt repayment, and other necessities.\n",
    "2. Wants/Entertainment: Non-essential spending for self-rewards, hobbies, fashion, and leisure.\n",
    "3. Savings: Money set aside for emergency funds, investments, and your financial goals (e.g., car, house).\n",
    "\n",
    "Features:\n",
    "- Decide the percentage of your income to allocate to each category.\n",
    "- Input amounts for each subcategory manually to match your priorities.\n",
    "- Receive notifications if you exceed the allocated limit for any category.\n",
    "- Get a detailed summary including totals, remaining amounts, and subcategory percentages.\n",
    "\"\"\")\n",
    "\n",
    "# function\n",
    "# Function 1: ask subcategories input for each categories\n",
    "def get_amountSub (category_name, sub_categories):\n",
    "    print(f\"\\nEnter amounts for {category_name}:\")\n",
    "    sub_input = {}\n",
    "    for sub in sub_categories:\n",
    "        while True: \n",
    "            try:\n",
    "                amount = float(input(f\"\\t{sub}: RM\"))\n",
    "                if amount < 0:\n",
    "                    print (\"Cannot be negative. Try Again\")\n",
    "                    continue\n",
    "                sub_input[sub] = amount\n",
    "                break\n",
    "            except ValueError:\n",
    "                print(\"Invalid input. Enter a number\")\n",
    "    return sub_input\n",
    "\n",
    "# Function 2: calculate total amount for each categories\n",
    "def calc_totalAmountSub(sub_inputArray):\n",
    "    return sum(sub_inputArray.values())\n",
    "\n",
    "# Function 3: check limit for each categories\n",
    "def check_limit(categories_limit, categories_total):\n",
    "    return (False if categories_limit>categories_total else True),(abs(categories_limit-categories_total))\n",
    "\n",
    "# FUnction 4: check validation input\n",
    "def input_validation(prompt, value_type=float, min_value=None, max_value=None):\n",
    "    while True:\n",
    "        try:\n",
    "            value = value_type(input(prompt))\n",
    "            if min_value is not None and value < min_value:\n",
    "                print(f\"Value cannot be less than {min_value}. Try again.\")\n",
    "                continue\n",
    "            if max_value is not None and value > max_value:\n",
    "                print(f\"Value cannot be more than {max_value}. Try again.\")\n",
    "                continue\n",
    "            return value\n",
    "        except ValueError:\n",
    "            print(\"Invalid input. Please try again.\")           \n",
    "    \n",
    "# main\n",
    "# Step 1: ask user income\n",
    "income = input_validation(\"Please enter your income (RM): \", float, min_value=0)\n",
    "        \n",
    "# define subcategories for each categories\n",
    "# ask how much percentage for each categories to make a budget plan\n",
    "print(\"\\nEnter the percentage of your income to allocate for each category:\")\n",
    "while True:\n",
    "    try:\n",
    "        commitment_percent = input_validation(\"Commitment (%): \", float, 0, 100)\n",
    "        want_percent = input_validation(\"Want (%): \", float, 0, 100)\n",
    "        saving_percent = input_validation(\"Saving (%): \", float, 0, 100)\n",
    "        total_percentage = (commitment_percent + want_percent + saving_percent)/100\n",
    "        if total_percentage > 1:\n",
    "            print(\"Total exceeds 100%. Try again!\")\n",
    "            continue\n",
    "        elif total_percentage < 1:\n",
    "            print(\"Total less than 100%. Try again!\")\n",
    "            continue\n",
    "        break\n",
    "    except ValueError:\n",
    "        print(\"Invalid input, Try again!\")\n",
    "\n",
    "print(f\"You are choosing {commitment_percent}/{want_percent}/{saving_percent} as your budget plan\")\n",
    "# Define general subcategories\n",
    "comitment_subcategories = [\"Housing\", \"Ultilities\", \"Debt/Loans\", \"Transportation\", \"Groceries\", \"Insurance\", \"Parent\", \"Spouse\"]\n",
    "want_subcategories = [\"Self Rewards\", \"Hobbies\", \"Fashion\", \"Trips\", \"Gadget\"]\n",
    "saving_subcategories = [\"Emergency Funds\", \"Invesment\", \"Self Development\", \"Charity\"]\n",
    "\n",
    "# amount of subcategories spend for each categories\n",
    "commitment_input = get_amountSub(\"Commitments\", comitment_subcategories)\n",
    "want_input = get_amountSub(\"Wants\", want_subcategories)\n",
    "saving_input = get_amountSub(\"Savings\", saving_subcategories)\n",
    "\n",
    "# calculate total\n",
    "commitment_total = calc_totalAmountSub(commitment_input)\n",
    "want_total = calc_totalAmountSub(want_input)\n",
    "saving_total = calc_totalAmountSub(saving_input)\n",
    "\n",
    "# calculate limit\n",
    "commitment_limit = commitment_percent*income/100\n",
    "want_limit = want_percent*income/100\n",
    "saving_limit = saving_percent*income/100 \n",
    "\n",
    "# check limit\n",
    "c_limit, commitment_overspend = check_limit(commitment_limit, commitment_total)\n",
    "w_limit, want_overspend = check_limit(want_limit, want_total)\n",
    "s_limit, saving_overspend = check_limit(saving_limit, saving_total)\n",
    "\n",
    "# display summary\n",
    "# Display detailed summary with advice\n",
    "print(f\"\\n============================================================================================\\n\\t\\t\\t\\tBudget Summary\\n============================================================================================\\nTotal Income: RM{income:.2f}\\n\")\n",
    "\n",
    "# turn all data to object\n",
    "categories = {\n",
    "    \"Commitments\": {\"input\": commitment_input, \"total\": commitment_total, \"limit\": commitment_limit, \"overspend\": commitment_overspend, \"status\": c_limit},\n",
    "    \"Wants\": {\"input\": want_input, \"total\": want_total, \"limit\": want_limit, \"overspend\": want_overspend, \"status\": w_limit},\n",
    "    \"Savings\": {\"input\": saving_input, \"total\": saving_total, \"limit\": saving_limit, \"overspend\": saving_overspend, \"status\": s_limit}\n",
    "}\n",
    "\n",
    "for cat, data in categories.items():\n",
    "    print(f\"{cat}:\")\n",
    "    print(f\"\\tLimit: RM{data['limit']:.2f} ({(data['limit']/income*100):.1f}%)\")\n",
    "    print(f\"\\tSpent: RM{data['total']:.2f} ({(data['total']/income*100):.1f}%)\")\n",
    "    remaining = data['limit'] - data['total']\n",
    "    if data['status']:\n",
    "        print(f\"\\tOverspent by: RM{data['overspend']:.2f}\")\n",
    "        print(\"\\tAdvice: Reduce spending in some subcategories to stay within the budget.\")\n",
    "    else:\n",
    "        print(f\"\\tRemaining: RM{remaining:.2f}\")\n",
    "        print(\"\\tComment: Great! You are within your budget.\")\n",
    "        # Optional enhancement suggestion\n",
    "        if cat == \"Savings\":\n",
    "            print(\"\\tSuggestion: Consider increasing your savings percentage or adding to investments for future goals.\")\n",
    "        elif cat == \"Wants\":\n",
    "            print(\"\\tSuggestion: You can enjoy small treats or hobbies, but keep monitoring monthly spending.\")\n",
    "        elif cat == \"Commitments\":\n",
    "            print(\"\\tSuggestion: You are managing essentials well. Look for ways to optimize fixed expenses like utilities or groceries.\")\n",
    "\n",
    "    # Display subcategories breakdown\n",
    "    print(\"\\n\\tSubcategory breakdown:\")\n",
    "    for sub, amount in data['input'].items():\n",
    "        print(f\"\\t- {sub}: RM{amount:.2f}\")\n",
    "    print(\"----------------------------------------------\")\n",
    "\n",
    "# Overall comment\n",
    "total_spent_all = commitment_total + want_total + saving_total\n",
    "print(f\"Total Spent: RM{total_spent_all:.2f}\")\n",
    "print(f\"Remaining Income: RM{income - total_spent_all:.2f}\")\n",
    "\n",
    "if total_spent_all > income:\n",
    "    print(\"\\nYou are overspending overall! Consider revising your plan or adjusting subcategories.\")\n",
    "else:\n",
    "    print(\"\\nExcellent! Your total spending is within your income. Keep up the good budgeting habits!\")\n",
    "\n",
    "print(\"==============================================\\n\")\n",
    "\n"
   ]
  },
  {
   "metadata": {
    "ExecuteTime": {
     "end_time": "2025-09-11T08:43:13.810959Z",
     "start_time": "2025-09-11T08:43:13.802554Z"
    }
   },
   "cell_type": "code",
   "source": [
    "done = {\n",
    "    \"user_input\": \"10\"\n",
    "}\n",
    "\n",
    "print(list(done.keys()))\n",
    "\n",
    "for variable_i, value_i in done.items():\n",
    "    print(variable_i)"
   ],
   "id": "5e6048504ccf9e0b",
   "outputs": [
    {
     "name": "stdout",
     "output_type": "stream",
     "text": [
      "['user_input']\n",
      "user_input\n"
     ]
    }
   ],
   "execution_count": 11
  },
  {
   "cell_type": "markdown",
   "id": "60c261ec-d796-4835-a3f8-b749c818c08f",
   "metadata": {},
   "source": [
    "<details>\n",
    "<summary>Sample Solution</summary>\n",
    "    \n",
    "```python\n",
    "# Step 1: Program Overview and Setup\n",
    "print(\"Welcome to the Budget Tracker!\")\n",
    "print(\"This program will help you track your budget and expenses.\\n\")\n",
    "\n",
    "# Step 2: Input Collection\n",
    "income = float(input(\"Please enter your monthly income: $\"))\n",
    "print(\"\\nSet your budget for the following categories:\")\n",
    "budget_food = float(input(\"Food budget: $\"))\n",
    "budget_rent = float(input(\"Rent budget: $\"))\n",
    "budget_misc = float(input(\"Miscellaneous budget: $\"))\n",
    "\n",
    "# Step 3: Expense Recording\n",
    "print(\"\\nNow, enter your actual spending in each category:\")\n",
    "spent_food = float(input(\"Food expenses: $\"))\n",
    "spent_rent = float(input(\"Rent expenses: $\"))\n",
    "spent_misc = float(input(\"Miscellaneous expenses: $\"))\n",
    "\n",
    "# Step 4: Perform Calculations\n",
    "total_budget = budget_food + budget_rent + budget_misc\n",
    "total_spent = spent_food + spent_rent + spent_misc\n",
    "\n",
    "# Step 5: Conditional Logic and Feedback\n",
    "print(\"\\n--- Budget Summary ---\")\n",
    "print(f\"Total Income: ${income:.2f}\")\n",
    "print(f\"Total Budget: ${total_budget:.2f}\")\n",
    "print(f\"Total Expenses: ${total_spent:.2f}\\n\")\n",
    "\n",
    "# Check for budget compliance\n",
    "if total_spent > income:\n",
    "    print(\"Alert: You have exceeded your total income!\")\n",
    "elif total_spent <= income:\n",
    "    print(\"Good job! You are within your total income.\")\n",
    "\n",
    "# Check category-wise budget compliance\n",
    "if spent_food > budget_food:\n",
    "    print(f\"Warning: You overspent on Food by ${spent_food - budget_food:.2f}.\")\n",
    "else:\n",
    "    print(\"You stayed within your Food budget.\")\n",
    "\n",
    "if spent_rent > budget_rent:\n",
    "    print(f\"Warning: You overspent on Rent by ${spent_rent - budget_rent:.2f}.\")\n",
    "else:\n",
    "    print(\"You stayed within your Rent budget.\")\n",
    "\n",
    "if spent_misc > budget_misc:\n",
    "    print(f\"Warning: You overspent on Miscellaneous by ${spent_misc - budget_misc:.2f}.\")\n",
    "else:\n",
    "    print(\"You stayed within your Miscellaneous budget.\")\n",
    "\n",
    "# Overall feedback\n",
    "if total_spent <= income and all([\n",
    "    spent_food <= budget_food,\n",
    "    spent_rent <= budget_rent,\n",
    "    spent_misc <= budget_misc\n",
    "]):\n",
    "    print(\"\\nGreat work! You managed your budget effectively.\")\n",
    "else:\n",
    "    print(\"\\nConsider revisiting your spending habits for better financial health.\")\n",
    "```\n",
    "    \n",
    "</details>"
   ]
  },
  {
   "metadata": {},
   "cell_type": "code",
   "outputs": [],
   "execution_count": null,
   "source": "",
   "id": "2c85f2ed30c8d4a5"
  }
 ],
 "metadata": {
  "colab": {
   "provenance": []
  },
  "kernelspec": {
   "display_name": "Python 3 (ipykernel)",
   "language": "python",
   "name": "python3"
  },
  "language_info": {
   "codemirror_mode": {
    "name": "ipython",
    "version": 3
   },
   "file_extension": ".py",
   "mimetype": "text/x-python",
   "name": "python",
   "nbconvert_exporter": "python",
   "pygments_lexer": "ipython3",
   "version": "3.13.5"
  }
 },
 "nbformat": 4,
 "nbformat_minor": 5
}
