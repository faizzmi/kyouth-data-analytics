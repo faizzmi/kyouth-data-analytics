{
 "cells": [
  {
   "cell_type": "code",
   "execution_count": 1,
   "id": "efc2d44b-fd5a-4576-bdf0-631afb817568",
   "metadata": {},
   "outputs": [
    {
     "name": "stdout",
     "output_type": "stream",
     "text": [
      "0\n",
      "1\n",
      "2\n",
      "3\n",
      "4\n"
     ]
    }
   ],
   "source": [
    "for i in range (5):\n",
    "    print(i)"
   ]
  },
  {
   "cell_type": "code",
   "execution_count": 3,
   "id": "b6497227-6c13-498c-84ca-54f39d1421a5",
   "metadata": {},
   "outputs": [
    {
     "name": "stdout",
     "output_type": "stream",
     "text": [
      "Columns Indexes:\n",
      "Columns 0 Name\n",
      "Columns 1 Age\n",
      "Columns 2 Gender\n",
      "Columns 3 Country\n",
      "Columns 4 income\n"
     ]
    }
   ],
   "source": [
    "columns = [\"Name\", \"Age\", \"Gender\", \"Country\", \"income\"]\n",
    "\n",
    "print (\"Columns Indexes:\")\n",
    "for i in range (len(columns)):\n",
    "    print(\"Columns\", i, columns[i])"
   ]
  },
  {
   "cell_type": "code",
   "execution_count": 6,
   "id": "90c3f521-a4de-47ce-8e54-9b7fbdd8f038",
   "metadata": {},
   "outputs": [
    {
     "name": "stdout",
     "output_type": "stream",
     "text": [
      "GST price: [2.6500000000000004, 3.18, 2.915, 3.71, 3.4450000000000003]\n"
     ]
    }
   ],
   "source": [
    "# price list\n",
    "prices = [2.50,3.00,2.75, 3.50, 3.25]\n",
    "\n",
    "# empty list\n",
    "gst_price = []\n",
    "\n",
    "for price in prices:\n",
    "    updated_price = price * 1.06\n",
    "    gst_price.append(updated_price)\n",
    "\n",
    "# display\n",
    "print(\"GST price:\", gst_price)"
   ]
  },
  {
   "cell_type": "code",
   "execution_count": 9,
   "id": "646122e8-b02f-4af1-88a0-597cbbdfdb35",
   "metadata": {},
   "outputs": [
    {
     "name": "stdout",
     "output_type": "stream",
     "text": [
      "In Farenheit:  [87.8, 89.6, 86.0, 84.2, 91.4, 75.2, 87.8]\n",
      "\n",
      " Avrage:  86.0\n"
     ]
    }
   ],
   "source": [
    "celcius = [31,32,30,29,33,24,31]\n",
    "\n",
    "# create an empty list \n",
    "farenheit = []\n",
    "\n",
    "# loop\n",
    "for temp in celcius:\n",
    "    \n",
    "    # convert\n",
    "    f = temp * 9/5 + 32\n",
    "    \n",
    "    # add to new list\n",
    "    farenheit.append(f)\n",
    "    \n",
    "# calc the average\n",
    "print(\"In Farenheit: \", farenheit)\n",
    "print(\"\\n Avrage: \", sum(farenheit)/len(farenheit))"
   ]
  },
  {
   "cell_type": "code",
   "execution_count": null,
   "id": "ad651ed3-a981-4427-980c-aa1f7050f17a",
   "metadata": {},
   "outputs": [],
   "source": []
  }
 ],
 "metadata": {
  "kernelspec": {
   "display_name": "Python 3 (ipykernel)",
   "language": "python",
   "name": "python3"
  },
  "language_info": {
   "codemirror_mode": {
    "name": "ipython",
    "version": 3
   },
   "file_extension": ".py",
   "mimetype": "text/x-python",
   "name": "python",
   "nbconvert_exporter": "python",
   "pygments_lexer": "ipython3",
   "version": "3.13.5"
  }
 },
 "nbformat": 4,
 "nbformat_minor": 5
}
