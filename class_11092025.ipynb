{
 "cells": [
  {
   "cell_type": "code",
   "id": "initial_id",
   "metadata": {
    "collapsed": true,
    "ExecuteTime": {
     "end_time": "2025-09-11T08:48:10.612966Z",
     "start_time": "2025-09-11T08:48:10.605202Z"
    }
   },
   "source": [
    "from math import factorial\n",
    "\n",
    "\n",
    "# type of function,\n",
    "#  1. no arg no return\n",
    "#  2. pass arg no return\n",
    "#  1. no arg pass return\n",
    "#  1. pass arg pass return\n",
    "\n",
    "# 1\n",
    "# function ddeclaration\n",
    "def add():\n",
    "    print(23+45)\n",
    "\n",
    "# calling function\n",
    "add()"
   ],
   "outputs": [
    {
     "name": "stdout",
     "output_type": "stream",
     "text": [
      "68\n"
     ]
    }
   ],
   "execution_count": 3
  },
  {
   "metadata": {
    "ExecuteTime": {
     "end_time": "2025-09-11T08:46:57.780251Z",
     "start_time": "2025-09-11T08:46:57.640810Z"
    }
   },
   "cell_type": "code",
   "source": [
    "# 2\n",
    "def add(a, b):\n",
    "    print(a+b)\n",
    "\n",
    "# calling function\n",
    "x = 12\n",
    "y = 23\n",
    "\n",
    "add(x,y)\n",
    "# add(12,32)"
   ],
   "id": "456f0b8cdbbe9dd",
   "outputs": [
    {
     "name": "stdout",
     "output_type": "stream",
     "text": [
      "44\n"
     ]
    }
   ],
   "execution_count": 2
  },
  {
   "metadata": {
    "ExecuteTime": {
     "end_time": "2025-09-11T08:51:31.656110Z",
     "start_time": "2025-09-11T08:51:31.628534Z"
    }
   },
   "cell_type": "code",
   "source": [
    "# 3\n",
    "def add():\n",
    "    return 10+12\n",
    "\n",
    "# calling function\n",
    "add()\n",
    "# add(12,32)"
   ],
   "id": "548949d8764d217b",
   "outputs": [
    {
     "data": {
      "text/plain": [
       "22"
      ]
     },
     "execution_count": 5,
     "metadata": {},
     "output_type": "execute_result"
    }
   ],
   "execution_count": 5
  },
  {
   "metadata": {
    "ExecuteTime": {
     "end_time": "2025-09-11T08:51:59.997304Z",
     "start_time": "2025-09-11T08:51:59.971280Z"
    }
   },
   "cell_type": "code",
   "source": [
    "# 3\n",
    "def add(a,b):\n",
    "    return a+b\n",
    "\n",
    "# calling function\n",
    "x = 10\n",
    "y = 20\n",
    "add(x,y)\n",
    "# add(12,32)"
   ],
   "id": "af622aeb67bf2cc2",
   "outputs": [
    {
     "data": {
      "text/plain": [
       "30"
      ]
     },
     "execution_count": 6,
     "metadata": {},
     "output_type": "execute_result"
    }
   ],
   "execution_count": 6
  },
  {
   "metadata": {
    "ExecuteTime": {
     "end_time": "2025-09-11T08:56:40.553319Z",
     "start_time": "2025-09-11T08:56:40.545641Z"
    }
   },
   "cell_type": "code",
   "source": [
    "# factorial recursive\n",
    "def factorial_recursive(n):\n",
    "    if n == 0:\n",
    "        return 1\n",
    "    else:\n",
    "        return n*factorial_recursive(n-1)\n",
    "# code block\n",
    "# 5! = 5*(4*(3*(2*(1))))\n",
    "\n",
    "# usage\n",
    "number = 5\n",
    "result = factorial_recursive(number)\n",
    "print(f\"The factor of {number} is {result}\")"
   ],
   "id": "502a4de552b0d9a5",
   "outputs": [
    {
     "name": "stdout",
     "output_type": "stream",
     "text": [
      "The factor of 5 is 120\n"
     ]
    }
   ],
   "execution_count": 9
  },
  {
   "metadata": {
    "ExecuteTime": {
     "end_time": "2025-09-11T08:58:52.491366Z",
     "start_time": "2025-09-11T08:58:52.476578Z"
    }
   },
   "cell_type": "code",
   "source": [
    "d = lambda a,b:a+b\n",
    "# function w/o def to make tiny f(x)\n",
    "# lambda argument: expression\n",
    "\n",
    "print(d(1,2))"
   ],
   "id": "9342813e08fd73eb",
   "outputs": [
    {
     "name": "stdout",
     "output_type": "stream",
     "text": [
      "3\n"
     ]
    }
   ],
   "execution_count": 10
  },
  {
   "metadata": {
    "ExecuteTime": {
     "end_time": "2025-09-11T10:11:58.575839Z",
     "start_time": "2025-09-11T10:11:41.564198Z"
    }
   },
   "cell_type": "code",
   "source": [
    "# Group exercise\n",
    "\n",
    "# user input\n",
    "goals = int(input(\"Please enter your saving goals: \"))\n",
    "monthly = int(input(\"Please enter how much you save per month: \"))\n",
    "duration = int(input(\"Please enter duration in months: \"))\n",
    "\n",
    "current = 0\n",
    "\n",
    "# loop through each month\n",
    "for month in range(1, duration + 1):\n",
    "    current += monthly\n",
    "    print(f\"Month {month}: Saved RM{current:.2f}\")\n",
    "\n",
    "# check at the end\n",
    "if current >= goals:\n",
    "    print(\"You reached your saving goal!\")\n",
    "elif current >= goals / 2:\n",
    "    print(\"You are halfway to your goal.\")\n",
    "else:\n",
    "    print(\"Keep going, you are below halfway.\")\n",
    "\n",
    "print(f\"After {duration} months, total saved = RM{current:.2f} out of RM{goals:.2f}\")\n"
   ],
   "id": "860ca58a439a0b6e",
   "outputs": [
    {
     "name": "stdout",
     "output_type": "stream",
     "text": [
      "Month 1: Saved RM200.00\n",
      "Month 2: Saved RM400.00\n",
      "Month 3: Saved RM600.00\n",
      "Month 4: Saved RM800.00\n",
      "Month 5: Saved RM1000.00\n",
      "Month 6: Saved RM1200.00\n",
      "Month 7: Saved RM1400.00\n",
      "Month 8: Saved RM1600.00\n",
      "Month 9: Saved RM1800.00\n",
      "Month 10: Saved RM2000.00\n",
      "Month 11: Saved RM2200.00\n",
      "Month 12: Saved RM2400.00\n",
      "Month 13: Saved RM2600.00\n",
      "Month 14: Saved RM2800.00\n",
      "Month 15: Saved RM3000.00\n",
      "Month 16: Saved RM3200.00\n",
      "Month 17: Saved RM3400.00\n",
      "Month 18: Saved RM3600.00\n",
      "Month 19: Saved RM3800.00\n",
      "Month 20: Saved RM4000.00\n",
      "You reached your saving goal!\n",
      "After 20 months, total saved = RM4000.00 out of RM1000.00\n"
     ]
    }
   ],
   "execution_count": 25
  },
  {
   "metadata": {
    "ExecuteTime": {
     "end_time": "2025-09-11T09:43:15.149082Z",
     "start_time": "2025-09-11T09:43:10.935458Z"
    }
   },
   "cell_type": "code",
   "source": "user_input = int(input(\"prompt\"))",
   "id": "e9190278a3db1155",
   "outputs": [
    {
     "ename": "ValueError",
     "evalue": "invalid literal for int() with base 10: 'sada'",
     "output_type": "error",
     "traceback": [
      "\u001B[1;31m---------------------------------------------------------------------------\u001B[0m",
      "\u001B[1;31mValueError\u001B[0m                                Traceback (most recent call last)",
      "Cell \u001B[1;32mIn[23], line 1\u001B[0m\n\u001B[1;32m----> 1\u001B[0m user_input \u001B[38;5;241m=\u001B[39m \u001B[38;5;28mint\u001B[39m(\u001B[38;5;28minput\u001B[39m(\u001B[38;5;124m\"\u001B[39m\u001B[38;5;124mprompt\u001B[39m\u001B[38;5;124m\"\u001B[39m))\n",
      "\u001B[1;31mValueError\u001B[0m: invalid literal for int() with base 10: 'sada'"
     ]
    }
   ],
   "execution_count": 23
  },
  {
   "metadata": {},
   "cell_type": "code",
   "outputs": [],
   "execution_count": null,
   "source": "",
   "id": "578aee7b68bf4be"
  }
 ],
 "metadata": {
  "kernelspec": {
   "display_name": "Python 3",
   "language": "python",
   "name": "python3"
  },
  "language_info": {
   "codemirror_mode": {
    "name": "ipython",
    "version": 2
   },
   "file_extension": ".py",
   "mimetype": "text/x-python",
   "name": "python",
   "nbconvert_exporter": "python",
   "pygments_lexer": "ipython2",
   "version": "2.7.6"
  }
 },
 "nbformat": 4,
 "nbformat_minor": 5
}
