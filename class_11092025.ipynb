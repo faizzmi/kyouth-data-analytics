{
 "cells": [
  {
   "cell_type": "code",
   "id": "initial_id",
   "metadata": {
    "collapsed": true,
    "ExecuteTime": {
     "end_time": "2025-09-11T08:48:10.612966Z",
     "start_time": "2025-09-11T08:48:10.605202Z"
    }
   },
   "source": [
    "from math import factorial\n",
    "\n",
    "\n",
    "# type of function,\n",
    "#  1. no arg no return\n",
    "#  2. pass arg no return\n",
    "#  1. no arg pass return\n",
    "#  1. pass arg pass return\n",
    "\n",
    "# 1\n",
    "# function ddeclaration\n",
    "def add():\n",
    "    print(23+45)\n",
    "\n",
    "# calling function\n",
    "add()"
   ],
   "outputs": [
    {
     "name": "stdout",
     "output_type": "stream",
     "text": [
      "68\n"
     ]
    }
   ],
   "execution_count": 3
  },
  {
   "metadata": {
    "ExecuteTime": {
     "end_time": "2025-09-11T08:46:57.780251Z",
     "start_time": "2025-09-11T08:46:57.640810Z"
    }
   },
   "cell_type": "code",
   "source": [
    "# 2\n",
    "def add(a, b):\n",
    "    print(a+b)\n",
    "\n",
    "# calling function\n",
    "x = 12\n",
    "y = 23\n",
    "\n",
    "add(x,y)\n",
    "# add(12,32)"
   ],
   "id": "456f0b8cdbbe9dd",
   "outputs": [
    {
     "name": "stdout",
     "output_type": "stream",
     "text": [
      "44\n"
     ]
    }
   ],
   "execution_count": 2
  },
  {
   "metadata": {
    "ExecuteTime": {
     "end_time": "2025-09-11T08:51:31.656110Z",
     "start_time": "2025-09-11T08:51:31.628534Z"
    }
   },
   "cell_type": "code",
   "source": [
    "# 3\n",
    "def add():\n",
    "    return 10+12\n",
    "\n",
    "# calling function\n",
    "add()\n",
    "# add(12,32)"
   ],
   "id": "548949d8764d217b",
   "outputs": [
    {
     "data": {
      "text/plain": [
       "22"
      ]
     },
     "execution_count": 5,
     "metadata": {},
     "output_type": "execute_result"
    }
   ],
   "execution_count": 5
  },
  {
   "metadata": {
    "ExecuteTime": {
     "end_time": "2025-09-11T08:51:59.997304Z",
     "start_time": "2025-09-11T08:51:59.971280Z"
    }
   },
   "cell_type": "code",
   "source": [
    "# 3\n",
    "def add(a,b):\n",
    "    return a+b\n",
    "\n",
    "# calling function\n",
    "x = 10\n",
    "y = 20\n",
    "add(x,y)\n",
    "# add(12,32)"
   ],
   "id": "af622aeb67bf2cc2",
   "outputs": [
    {
     "data": {
      "text/plain": [
       "30"
      ]
     },
     "execution_count": 6,
     "metadata": {},
     "output_type": "execute_result"
    }
   ],
   "execution_count": 6
  },
  {
   "metadata": {
    "ExecuteTime": {
     "end_time": "2025-09-11T08:56:40.553319Z",
     "start_time": "2025-09-11T08:56:40.545641Z"
    }
   },
   "cell_type": "code",
   "source": [
    "# factorial recursive\n",
    "def factorial_recursive(n):\n",
    "    if n == 0:\n",
    "        return 1\n",
    "    else:\n",
    "        return n*factorial_recursive(n-1)\n",
    "# code block\n",
    "# 5! = 5*(4*(3*(2*(1))))\n",
    "\n",
    "# usage\n",
    "number = 5\n",
    "result = factorial_recursive(number)\n",
    "print(f\"The factor of {number} is {result}\")"
   ],
   "id": "502a4de552b0d9a5",
   "outputs": [
    {
     "name": "stdout",
     "output_type": "stream",
     "text": [
      "The factor of 5 is 120\n"
     ]
    }
   ],
   "execution_count": 9
  },
  {
   "metadata": {
    "ExecuteTime": {
     "end_time": "2025-09-11T08:58:52.491366Z",
     "start_time": "2025-09-11T08:58:52.476578Z"
    }
   },
   "cell_type": "code",
   "source": [
    "d = lambda a,b:a+b\n",
    "# function w/o def to make tiny f(x)\n",
    "# lambda argument: expression\n",
    "\n",
    "print(d(1,2))"
   ],
   "id": "9342813e08fd73eb",
   "outputs": [
    {
     "name": "stdout",
     "output_type": "stream",
     "text": [
      "3\n"
     ]
    }
   ],
   "execution_count": 10
  },
  {
   "metadata": {
    "ExecuteTime": {
     "end_time": "2025-09-11T09:58:45.226538Z",
     "start_time": "2025-09-11T09:58:25.384642Z"
    }
   },
   "cell_type": "code",
   "source": [
    "# Exercise\n",
    "# saving\n",
    "def user_validation(prompt):\n",
    "    while True:\n",
    "        try:\n",
    "            user_input = int(input(prompt))\n",
    "            break\n",
    "        except ValueError:\n",
    "            print(\"Please Try Again\")\n",
    "\n",
    "    return user_input\n",
    "\n",
    "# user input\n",
    "goals = user_validation(\"Please enter your saving goals:\")\n",
    "current = user_validation(\"Please enter your current saving:\")\n",
    "\n",
    "# check goals saving, current saving\n",
    "if current > goals:\n",
    "    print(\"You reached your saving goal!\")\n",
    "else:\n",
    "    print(\"You did not reach the saving goal.\")\n",
    "\n",
    "# reach target\n",
    "print(f\"You have saved RM{current:.2f}\")"
   ],
   "id": "860ca58a439a0b6e",
   "outputs": [
    {
     "name": "stdout",
     "output_type": "stream",
     "text": [
      "Please Try Again\n",
      "Please Try Again\n",
      "You did not reach the saving goal.\n",
      "You have saved RM200.00\n"
     ]
    }
   ],
   "execution_count": 24
  },
  {
   "metadata": {
    "ExecuteTime": {
     "end_time": "2025-09-11T09:43:15.149082Z",
     "start_time": "2025-09-11T09:43:10.935458Z"
    }
   },
   "cell_type": "code",
   "source": "user_input = int(input(\"prompt\"))",
   "id": "e9190278a3db1155",
   "outputs": [
    {
     "ename": "ValueError",
     "evalue": "invalid literal for int() with base 10: 'sada'",
     "output_type": "error",
     "traceback": [
      "\u001B[1;31m---------------------------------------------------------------------------\u001B[0m",
      "\u001B[1;31mValueError\u001B[0m                                Traceback (most recent call last)",
      "Cell \u001B[1;32mIn[23], line 1\u001B[0m\n\u001B[1;32m----> 1\u001B[0m user_input \u001B[38;5;241m=\u001B[39m \u001B[38;5;28mint\u001B[39m(\u001B[38;5;28minput\u001B[39m(\u001B[38;5;124m\"\u001B[39m\u001B[38;5;124mprompt\u001B[39m\u001B[38;5;124m\"\u001B[39m))\n",
      "\u001B[1;31mValueError\u001B[0m: invalid literal for int() with base 10: 'sada'"
     ]
    }
   ],
   "execution_count": 23
  },
  {
   "metadata": {},
   "cell_type": "code",
   "outputs": [],
   "execution_count": null,
   "source": "",
   "id": "578aee7b68bf4be"
  }
 ],
 "metadata": {
  "kernelspec": {
   "display_name": "Python 3",
   "language": "python",
   "name": "python3"
  },
  "language_info": {
   "codemirror_mode": {
    "name": "ipython",
    "version": 2
   },
   "file_extension": ".py",
   "mimetype": "text/x-python",
   "name": "python",
   "nbconvert_exporter": "python",
   "pygments_lexer": "ipython2",
   "version": "2.7.6"
  }
 },
 "nbformat": 4,
 "nbformat_minor": 5
}
