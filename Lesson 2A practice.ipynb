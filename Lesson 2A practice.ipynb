{
 "cells": [
  {
   "cell_type": "code",
   "execution_count": 1,
   "id": "5b415f59-da9d-41fb-a841-e81c5821f408",
   "metadata": {},
   "outputs": [
    {
     "name": "stdout",
     "output_type": "stream",
     "text": [
      "22\n",
      "<class 'int'>\n",
      "12.5\n",
      "<class 'float'>\n",
      "42\n",
      "<class 'str'>\n"
     ]
    }
   ],
   "source": [
    "x1 = 22\n",
    "print(x1)\n",
    "print(type(x1))\n",
    "\n",
    "x2 = 12.5\n",
    "print(x2)\n",
    "print(type(x2))\n",
    "\n",
    "x3 = \"42\"\n",
    "print(x3)\n",
    "print(type(x3))\n",
    "\n"
   ]
  },
  {
   "cell_type": "code",
   "execution_count": 4,
   "id": "7c05cadf-79fb-4f7e-8d29-96396ba93e92",
   "metadata": {},
   "outputs": [
    {
     "name": "stdout",
     "output_type": "stream",
     "text": [
      "6\n",
      "0\n",
      "9\n",
      "1.0\n",
      "3\n"
     ]
    }
   ],
   "source": [
    "v = 3 + 3\n",
    "print(v)\n",
    "\n",
    "w = 3 - 3\n",
    "print(w)\n",
    "\n",
    "x = 3 * 3\n",
    "print(x)\n",
    "\n",
    "y = 3 / 3\n",
    "print(y)\n",
    "\n",
    "z = 3 + 3 * (3 - 3)\n",
    "print (z)\n",
    "\n"
   ]
  },
  {
   "cell_type": "code",
   "execution_count": 5,
   "id": "915f18e0-6d08-4b6d-a2f0-a573bc9d8ce1",
   "metadata": {},
   "outputs": [
    {
     "name": "stdout",
     "output_type": "stream",
     "text": [
      "3\n",
      "1\n"
     ]
    }
   ],
   "source": [
    "print(10//3)\n",
    "print(10%3)"
   ]
  },
  {
   "cell_type": "code",
   "execution_count": 15,
   "id": "16fcf790-6398-45c7-9849-4daa500fb7cf",
   "metadata": {},
   "outputs": [
    {
     "name": "stdin",
     "output_type": "stream",
     "text": [
      "Enter : 13243\n"
     ]
    },
    {
     "name": "stdout",
     "output_type": "stream",
     "text": [
      "Test: 3267.519\n",
      "Test: 3267.52\n",
      "Test: 3267.519\n"
     ]
    }
   ],
   "source": [
    "test = input(\"Enter :\")\n",
    "total = int(test) / 12 * 3 + 2 - 45.231\n",
    "print(\"Test: \"+str(total))\n",
    "print(f\"Test: {total:.2f}\")"
   ]
  },
  {
   "cell_type": "code",
   "execution_count": 22,
   "id": "3b405fbf-d087-4161-9839-6c9c258b7465",
   "metadata": {},
   "outputs": [
    {
     "name": "stdin",
     "output_type": "stream",
     "text": [
      "Enter distance:  234\n"
     ]
    },
    {
     "name": "stdout",
     "output_type": "stream",
     "text": [
      "234.0 kilometers is equal to 145.40 miles\n"
     ]
    }
   ],
   "source": [
    "# ask for input\n",
    "kilo = input(\"Enter distance: \")\n",
    "\n",
    "# convert\n",
    "kilometers = float(kilo)\n",
    "\n",
    "# calculate\n",
    "miles = kilometers * 0.621371\n",
    "\n",
    "# display\n",
    "print(f\"{kilometers} kilometers is equal to {miles:.2f} miles\")\n"
   ]
  },
  {
   "cell_type": "code",
   "execution_count": null,
   "id": "4bb123e8-f26b-4a23-a47c-81aefb0334ee",
   "metadata": {},
   "outputs": [],
   "source": []
  }
 ],
 "metadata": {
  "kernelspec": {
   "display_name": "Python 3 (ipykernel)",
   "language": "python",
   "name": "python3"
  },
  "language_info": {
   "codemirror_mode": {
    "name": "ipython",
    "version": 3
   },
   "file_extension": ".py",
   "mimetype": "text/x-python",
   "name": "python",
   "nbconvert_exporter": "python",
   "pygments_lexer": "ipython3",
   "version": "3.13.5"
  }
 },
 "nbformat": 4,
 "nbformat_minor": 5
}
