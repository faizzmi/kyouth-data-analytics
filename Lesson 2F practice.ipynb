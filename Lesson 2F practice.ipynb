{
 "cells": [
  {
   "cell_type": "code",
   "execution_count": 5,
   "id": "f67a3f67-4bda-4a4c-9fb6-ba69e1e54f9d",
   "metadata": {},
   "outputs": [
    {
     "name": "stdout",
     "output_type": "stream",
     "text": [
      "3.5\n",
      "6.0\n",
      "7.0\n"
     ]
    }
   ],
   "source": [
    "def meanNumber(x):\n",
    "    return sum(x) / len(x)\n",
    "\n",
    "number1 = [1,2,3,4,5,6]\n",
    "number2 = [9,8,7,5,4,3]\n",
    "number3 = [2,4,6,8,10,12]\n",
    "\n",
    "\n",
    "print(meanNumber(number1))\n",
    "print(meanNumber(number2))\n",
    "print(meanNumber(number3))\n"
   ]
  },
  {
   "cell_type": "code",
   "execution_count": 8,
   "id": "a4b1e364-3e6e-43f2-8c3a-3093dae8e9af",
   "metadata": {},
   "outputs": [
    {
     "name": "stdout",
     "output_type": "stream",
     "text": [
      "Alice\n",
      "Bob\n",
      "Charlie\n"
     ]
    }
   ],
   "source": [
    "def cleanDataName(name):\n",
    "    return name.strip().title()\n",
    "\n",
    "print(cleanDataName(\"  Alice  \"))\n",
    "print(cleanDataName(\"BOB  \"))\n",
    "print(cleanDataName(\"    ChaRlie\"))"
   ]
  },
  {
   "cell_type": "code",
   "execution_count": 10,
   "id": "182d5c16-62f8-4c57-ab17-1f524e71ee66",
   "metadata": {},
   "outputs": [
    {
     "name": "stdin",
     "output_type": "stream",
     "text": [
      "Enter a number: 12\n"
     ]
    },
    {
     "name": "stdout",
     "output_type": "stream",
     "text": [
      "The square number is : 144\n"
     ]
    }
   ],
   "source": [
    "def squareNumber(number):\n",
    "    return number * number\n",
    "\n",
    "user_input = int(input(\"Enter a number:\"))\n",
    "print(\"The square number is :\", squareNumber(12))"
   ]
  },
  {
   "cell_type": "code",
   "execution_count": 11,
   "id": "4934be17-0a59-408c-8ded-94469aa807b2",
   "metadata": {},
   "outputs": [
    {
     "name": "stdout",
     "output_type": "stream",
     "text": [
      "True\n",
      "False\n",
      "False\n"
     ]
    }
   ],
   "source": [
    "def is_valid_score(score):\n",
    "    return score >= 0 and score <= 100\n",
    "\n",
    "print(is_valid_score(12))\n",
    "print(is_valid_score(102))\n",
    "print(is_valid_score(-12))"
   ]
  },
  {
   "cell_type": "code",
   "execution_count": null,
   "id": "85cb9509-5042-42cd-b76a-fd2065b15750",
   "metadata": {},
   "outputs": [],
   "source": []
  }
 ],
 "metadata": {
  "kernelspec": {
   "display_name": "Python 3 (ipykernel)",
   "language": "python",
   "name": "python3"
  },
  "language_info": {
   "codemirror_mode": {
    "name": "ipython",
    "version": 3
   },
   "file_extension": ".py",
   "mimetype": "text/x-python",
   "name": "python",
   "nbconvert_exporter": "python",
   "pygments_lexer": "ipython3",
   "version": "3.13.5"
  }
 },
 "nbformat": 4,
 "nbformat_minor": 5
}
