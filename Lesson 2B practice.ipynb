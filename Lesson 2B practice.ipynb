{
 "cells": [
  {
   "cell_type": "code",
   "execution_count": 8,
   "id": "8c1733da-a0cb-4e2e-b79a-ec493bf98dcb",
   "metadata": {},
   "outputs": [
    {
     "name": "stdout",
     "output_type": "stream",
     "text": [
      "Welcome\n"
     ]
    },
    {
     "name": "stdin",
     "output_type": "stream",
     "text": [
      "Weight (kg): 78.2\n",
      "Height (m): 1.73\n"
     ]
    },
    {
     "name": "stdout",
     "output_type": "stream",
     "text": [
      "26.128504126432556\n",
      "Overwweight\n"
     ]
    }
   ],
   "source": [
    "### greet the use and ask height and weight\n",
    "print(\"Welcome\")\n",
    "w = float(input(\"Weight (kg):\"))\n",
    "h = float(input(\"Height (m):\"))\n",
    "\n",
    "# calc bmi\n",
    "bmi = w / (h*h)\n",
    "\n",
    "# determin class based on bmi\n",
    "print(str(bmi))\n",
    "if bmi < 18.5:\n",
    "    print(\"Underweight\")\n",
    "elif bmi <= 24.9:\n",
    "    print(\"Normal\")\n",
    "elif bmi < 30:\n",
    "    print(\"Overwweight\")\n",
    "else: \n",
    "    print(\"Obese\")"
   ]
  },
  {
   "cell_type": "code",
   "execution_count": null,
   "id": "6e9f6f2d-697f-49fe-8ff6-aac2aa1c6c94",
   "metadata": {},
   "outputs": [],
   "source": []
  }
 ],
 "metadata": {
  "kernelspec": {
   "display_name": "Python 3 (ipykernel)",
   "language": "python",
   "name": "python3"
  },
  "language_info": {
   "codemirror_mode": {
    "name": "ipython",
    "version": 3
   },
   "file_extension": ".py",
   "mimetype": "text/x-python",
   "name": "python",
   "nbconvert_exporter": "python",
   "pygments_lexer": "ipython3",
   "version": "3.13.5"
  }
 },
 "nbformat": 4,
 "nbformat_minor": 5
}
