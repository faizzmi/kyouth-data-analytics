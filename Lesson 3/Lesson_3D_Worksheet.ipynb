{
 "cells": [
  {
   "cell_type": "markdown",
   "id": "97bfba64",
   "metadata": {
    "id": "97bfba64"
   },
   "source": [
    "# Lesson 3D: Data Transformation"
   ]
  },
  {
   "cell_type": "markdown",
   "id": "88081793",
   "metadata": {
    "id": "88081793"
   },
   "source": [
    "## Learning Objectives:\n",
    "1.  Converting data types within a column.\n",
    "2.  Ensure consistent formatting of datetime and categorical values.\n",
    "3.  Setting up range-checks in a column."
   ]
  },
  {
   "cell_type": "markdown",
   "id": "95a8d242",
   "metadata": {
    "id": "95a8d242"
   },
   "source": [
    "\n",
    "\n",
    "## ▶️: Load & Explore the Dataset  \n",
    "We will get started by loading pandas and the restaurant_transaction_processed_01.csv file (from lesson 3C).\n",
    "\n",
    "\n"
   ]
  },
  {
   "metadata": {
    "ExecuteTime": {
     "end_time": "2025-09-17T08:36:53.857581Z",
     "start_time": "2025-09-17T08:36:53.714013Z"
    }
   },
   "cell_type": "code",
   "source": [
    "import pandas as pd\n",
    "df = pd.read_csv(\"restaurant_transaction_processed_01.csv\")\n",
    "df.info()"
   ],
   "id": "e2fd6065a2300604",
   "outputs": [
    {
     "name": "stdout",
     "output_type": "stream",
     "text": [
      "<class 'pandas.core.frame.DataFrame'>\n",
      "RangeIndex: 989 entries, 0 to 988\n",
      "Data columns (total 15 columns):\n",
      " #   Column            Non-Null Count  Dtype  \n",
      "---  ------            --------------  -----  \n",
      " 0   Customer_ID       989 non-null    int64  \n",
      " 1   Food_Item         989 non-null    object \n",
      " 2   Category          989 non-null    object \n",
      " 3   Date_of_Visit     989 non-null    object \n",
      " 4   Time              989 non-null    object \n",
      " 5   Weather           989 non-null    object \n",
      " 6   Price             989 non-null    float64\n",
      " 7   Weekend           989 non-null    object \n",
      " 8   Public_Holiday    989 non-null    object \n",
      " 9   Year              989 non-null    int64  \n",
      " 10  Month             989 non-null    int64  \n",
      " 11  Day               989 non-null    int64  \n",
      " 12  Day_of_Week       989 non-null    object \n",
      " 13  Discounted_Price  989 non-null    float64\n",
      " 14  Category_Encoded  989 non-null    int64  \n",
      "dtypes: float64(2), int64(5), object(8)\n",
      "memory usage: 116.0+ KB\n"
     ]
    }
   ],
   "execution_count": 2
  },
  {
   "metadata": {},
   "cell_type": "markdown",
   "source": [
    "##  1️⃣: Converting data types\n",
    "Let's check all the data types of the columns in this table.\n"
   ],
   "id": "91bf74d8c64a0abc"
  },
  {
   "metadata": {
    "ExecuteTime": {
     "end_time": "2025-09-17T09:12:36.473389Z",
     "start_time": "2025-09-17T09:12:36.456696Z"
    }
   },
   "cell_type": "code",
   "source": "df.info()",
   "id": "826a35015b677a77",
   "outputs": [
    {
     "name": "stdout",
     "output_type": "stream",
     "text": [
      "<class 'pandas.core.frame.DataFrame'>\n",
      "RangeIndex: 989 entries, 0 to 988\n",
      "Data columns (total 15 columns):\n",
      " #   Column            Non-Null Count  Dtype  \n",
      "---  ------            --------------  -----  \n",
      " 0   Customer_ID       989 non-null    int64  \n",
      " 1   Food_Item         989 non-null    object \n",
      " 2   Category          989 non-null    object \n",
      " 3   Date_of_Visit     989 non-null    object \n",
      " 4   Time              989 non-null    object \n",
      " 5   Weather           989 non-null    object \n",
      " 6   Price             989 non-null    float64\n",
      " 7   Weekend           989 non-null    object \n",
      " 8   Public_Holiday    989 non-null    object \n",
      " 9   Year              989 non-null    int64  \n",
      " 10  Month             989 non-null    int64  \n",
      " 11  Day               989 non-null    int64  \n",
      " 12  Day_of_Week       989 non-null    object \n",
      " 13  Discounted_Price  989 non-null    float64\n",
      " 14  Category_Encoded  989 non-null    int64  \n",
      "dtypes: float64(2), int64(5), object(8)\n",
      "memory usage: 116.0+ KB\n"
     ]
    }
   ],
   "execution_count": 10
  },
  {
   "metadata": {},
   "cell_type": "markdown",
   "source": [
    "We can convert between data types using the 'astype()' function.\n",
    "- astype(int) - converts to integer\n",
    "- astype(float) - converts to float\n",
    "- astype(str) - converts to string\n",
    "\n",
    "The best practice in converting data types is to establish a new column while doing so.\n",
    "\n",
    "Let's try to convert 'Price' into an integer."
   ],
   "id": "3ec805bdd9e8487d"
  },
  {
   "metadata": {
    "ExecuteTime": {
     "end_time": "2025-09-17T09:12:39.928630Z",
     "start_time": "2025-09-17T09:12:39.914095Z"
    }
   },
   "cell_type": "code",
   "source": [
    "df['Price'].astype(int)\n",
    "df['Price'].head()"
   ],
   "id": "5f45371286e4a9e3",
   "outputs": [
    {
     "data": {
      "text/plain": [
       "0    14.88\n",
       "1     6.72\n",
       "2    14.27\n",
       "3    14.69\n",
       "4     8.84\n",
       "Name: Price, dtype: float64"
      ]
     },
     "execution_count": 11,
     "metadata": {},
     "output_type": "execute_result"
    }
   ],
   "execution_count": 11
  },
  {
   "metadata": {},
   "cell_type": "markdown",
   "source": "Let's check with 'df.info() to verify the data types.",
   "id": "a046a8b6b825b5e0"
  },
  {
   "metadata": {
    "ExecuteTime": {
     "end_time": "2025-09-17T08:41:08.392469Z",
     "start_time": "2025-09-17T08:41:08.379764Z"
    }
   },
   "cell_type": "code",
   "source": "df['Price'].info()",
   "id": "df3e6903ad3c51f0",
   "outputs": [
    {
     "name": "stdout",
     "output_type": "stream",
     "text": [
      "<class 'pandas.core.series.Series'>\n",
      "RangeIndex: 989 entries, 0 to 988\n",
      "Series name: Price\n",
      "Non-Null Count  Dtype  \n",
      "--------------  -----  \n",
      "989 non-null    float64\n",
      "dtypes: float64(1)\n",
      "memory usage: 7.9 KB\n"
     ]
    }
   ],
   "execution_count": 8
  },
  {
   "metadata": {},
   "cell_type": "markdown",
   "source": [
    "## 2️⃣ Clean and Format Dates\n",
    "In lesson 3C, you have learned how to use datetime and extracted the data into new columns. Here, you will also learn how to sync up the way date is displayed.\n",
    "\n",
    "Note: dayfirst=True makes Python read dates as DD-MM-YYYY instead of the default MM-DD-YYYY.\n",
    "\n",
    "\n",
    "\n",
    "\n",
    "\n",
    "\n",
    "\n"
   ],
   "id": "e3c18300970a57e7"
  },
  {
   "metadata": {
    "ExecuteTime": {
     "end_time": "2025-09-17T09:25:11.101920Z",
     "start_time": "2025-09-17T09:25:10.885521Z"
    }
   },
   "cell_type": "code",
   "source": [
    "# df['Default_Date'] = pd.to_datetime(df['Date_of_Visit'], errors ='coerce',dayfirst=False).dt.strftime('%m-%d-%Y')\n",
    "# dayfirst=True means we let panda know the format in iso is DD-MM-YYYY for iso format DD-MM-YYYY @ MM-DD-YYYY\n",
    "# but if date is in YYYY-MM-DD pandas already year is in front so no need date\n",
    "# so in this case no need dayfirst=True\n",
    "\n",
    "df['Default_Date'] = pd.to_datetime(df['Date_of_Visit'], errors ='coerce').dt.strftime('%m-%d-%Y')\n",
    "df['Date_of_Visit'].head()\n"
   ],
   "id": "fa12aa5b100cd80d",
   "outputs": [
    {
     "data": {
      "text/plain": [
       "0    2023-03-24\n",
       "1    2023-03-19\n",
       "2    2023-03-24\n",
       "3    2023-03-05\n",
       "4    2023-03-29\n",
       "Name: Date_of_Visit, dtype: object"
      ]
     },
     "execution_count": 19,
     "metadata": {},
     "output_type": "execute_result"
    }
   ],
   "execution_count": 19
  },
  {
   "cell_type": "markdown",
   "id": "408cdd71",
   "metadata": {
    "id": "408cdd71"
   },
   "source": [
    "## 3️⃣Formatting Categorical Values\n",
    "\n",
    "Inconsistent text values in categorical columns can cause errors in data analysis.\n",
    "\n",
    "For example, \"Sunny\", \"sunny\", and \"SUNNY\" should be transformed to look consistent across the dataset.\n"
   ]
  },
  {
   "metadata": {
    "ExecuteTime": {
     "end_time": "2025-09-17T09:28:33.932820Z",
     "start_time": "2025-09-17T09:28:33.905964Z"
    }
   },
   "cell_type": "code",
   "source": [
    "df['Weather'] = df['Weather'].str.lower().str.strip()\n",
    "df['Weather'].head()"
   ],
   "id": "241761ee386adeba",
   "outputs": [
    {
     "data": {
      "text/plain": [
       "0      sunny\n",
       "1    raining\n",
       "2      sunny\n",
       "3      sunny\n",
       "4      sunny\n",
       "Name: Weather, dtype: object"
      ]
     },
     "execution_count": 20,
     "metadata": {},
     "output_type": "execute_result"
    }
   ],
   "execution_count": 20
  },
  {
   "metadata": {},
   "cell_type": "markdown",
   "source": "Here is another example where we shorten the names of the days into the first 3 letters (ie: 'Friday into 'Fri').",
   "id": "cf06aeafb2e9d317"
  },
  {
   "metadata": {
    "ExecuteTime": {
     "end_time": "2025-09-17T09:37:19.968169Z",
     "start_time": "2025-09-17T09:37:19.954771Z"
    }
   },
   "cell_type": "code",
   "source": [
    "df['Day_of_Week'] = df['Day_of_Week'].str.title().str.strip().str[:3]\n",
    "df['Day_of_Week'].unique"
   ],
   "id": "f1a48b025a2a735a",
   "outputs": [
    {
     "data": {
      "text/plain": [
       "<bound method Series.unique of 0      Fri\n",
       "1      Sun\n",
       "2      Fri\n",
       "3      Sun\n",
       "4      Wed\n",
       "      ... \n",
       "984    Thu\n",
       "985    Thu\n",
       "986    Sun\n",
       "987    Sun\n",
       "988    Mon\n",
       "Name: Day_of_Week, Length: 989, dtype: object>"
      ]
     },
     "execution_count": 28,
     "metadata": {},
     "output_type": "execute_result"
    }
   ],
   "execution_count": 28
  },
  {
   "metadata": {},
   "cell_type": "markdown",
   "source": [
    "## 4️⃣Validating data ranges\n",
    "\n",
    "There are times where we want to ensure the values are within a certain range.\n",
    "\n",
    "For example, we want to ensure the values in 'Price' should not be missing or a negative value. If the values are out of range, we want to replace it with the median price.  \n"
   ],
   "id": "58f86b5b9620ad9e"
  },
  {
   "metadata": {
    "ExecuteTime": {
     "end_time": "2025-09-17T09:40:54.837749Z",
     "start_time": "2025-09-17T09:40:54.818998Z"
    }
   },
   "cell_type": "code",
   "source": [
    "df['Price'] = df['Price'].apply(lambda x: x if pd.notnull(x) and x > 0 else df['Price'].median())\n",
    "df[df['Price'] <= 0]\n",
    "df['Price'].head()"
   ],
   "id": "7c09aa14723aa414",
   "outputs": [
    {
     "data": {
      "text/plain": [
       "0    14.88\n",
       "1     6.72\n",
       "2    14.27\n",
       "3    14.69\n",
       "4     8.84\n",
       "Name: Price, dtype: float64"
      ]
     },
     "execution_count": 40,
     "metadata": {},
     "output_type": "execute_result"
    }
   ],
   "execution_count": 40
  },
  {
   "cell_type": "markdown",
   "id": "985a9b19",
   "metadata": {
    "id": "985a9b19"
   },
   "source": [
    "## 5️⃣: Export the Cleaned Dataset  \n",
    "\n",
    "After applying the transformations, we save the cleaned dataset for further analysis.  \n"
   ]
  },
  {
   "metadata": {
    "ExecuteTime": {
     "end_time": "2025-09-17T09:41:33.672869Z",
     "start_time": "2025-09-17T09:41:33.643908Z"
    }
   },
   "cell_type": "code",
   "source": "df.to_csv(\"restaurant_transaction_processed_02.csv\")",
   "id": "a94d44dea5a93ef2",
   "outputs": [],
   "execution_count": 42
  },
  {
   "metadata": {},
   "cell_type": "markdown",
   "source": [
    "## 🎯 Summary  \n",
    "\n",
    "In this guided practice, we:  \n",
    "✔ **Validated data types** to ensure correct formats for numerical and date columns  \n",
    "✔ **Performed range checks** to identify and correct invalid values  \n",
    "✔ **Standardized and cleaned data** by fixing categorical inconsistencies and handling missing values  \n",
    "\n",
    "---  \n",
    "\n"
   ],
   "id": "c9831835b1dbb3eb"
  },
  {
   "metadata": {},
   "cell_type": "code",
   "outputs": [],
   "execution_count": null,
   "source": "",
   "id": "1d3c577232b30352"
  }
 ],
 "metadata": {
  "colab": {
   "provenance": []
  },
  "kernelspec": {
   "display_name": "Python [conda env:base] *",
   "language": "python",
   "name": "conda-base-py"
  },
  "language_info": {
   "codemirror_mode": {
    "name": "ipython",
    "version": 3
   },
   "file_extension": ".py",
   "mimetype": "text/x-python",
   "name": "python",
   "nbconvert_exporter": "python",
   "pygments_lexer": "ipython3",
   "version": "3.12.7"
  }
 },
 "nbformat": 4,
 "nbformat_minor": 5
}
