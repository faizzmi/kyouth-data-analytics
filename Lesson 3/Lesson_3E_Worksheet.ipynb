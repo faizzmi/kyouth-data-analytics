{
 "cells": [
  {
   "cell_type": "markdown",
   "id": "97bfba64",
   "metadata": {
    "id": "97bfba64"
   },
   "source": [
    "# Lesson 3E: Data Joining"
   ]
  },
  {
   "cell_type": "markdown",
   "id": "88081793",
   "metadata": {
    "id": "88081793"
   },
   "source": [
    "## Learning Objectives:\n",
    "1. Understand and apply different types of joins (inner, left, right, outer) to merge customer demographics with transaction data.\n",
    "\n",
    "2. Understand how to use groupby() in Pandas to aggregate and analyze customer transactions based on attributes like gender and price.\n",
    "\n"
   ]
  },
  {
   "cell_type": "markdown",
   "id": "f7dbf3d4",
   "metadata": {
    "id": "f7dbf3d4"
   },
   "source": [
    "### Now le'ts examine the Restaurant Transaction Data and Customer Demographics Data"
   ]
  },
  {
   "cell_type": "code",
   "id": "1a106057",
   "metadata": {
    "executionInfo": {
     "elapsed": 93,
     "status": "ok",
     "timestamp": 1747119860733,
     "user": {
      "displayName": "Natalie Lazaroo",
      "userId": "05619457634600211708"
     },
     "user_tz": -480
    },
    "id": "1a106057",
    "ExecuteTime": {
     "end_time": "2025-09-20T02:40:22.426813Z",
     "start_time": "2025-09-20T02:40:22.421914Z"
    }
   },
   "source": "import pandas as pd",
   "outputs": [],
   "execution_count": 2
  },
  {
   "cell_type": "code",
   "id": "5ac105f0-3cd5-4167-bebb-26b1b957ac9d",
   "metadata": {
    "executionInfo": {
     "elapsed": 2,
     "status": "ok",
     "timestamp": 1747119860749,
     "user": {
      "displayName": "Natalie Lazaroo",
      "userId": "05619457634600211708"
     },
     "user_tz": -480
    },
    "id": "5ac105f0-3cd5-4167-bebb-26b1b957ac9d",
    "ExecuteTime": {
     "end_time": "2025-09-20T02:40:23.677461Z",
     "start_time": "2025-09-20T02:40:23.609858Z"
    }
   },
   "source": [
    "restaurant = pd.read_csv(\"restaurant_transaction_processed_02.csv\")\n",
    "demographics = pd.read_csv(\"customer_demographics.csv\")"
   ],
   "outputs": [],
   "execution_count": 3
  },
  {
   "metadata": {
    "executionInfo": {
     "elapsed": 19,
     "status": "ok",
     "timestamp": 1747119860770,
     "user": {
      "displayName": "Natalie Lazaroo",
      "userId": "05619457634600211708"
     },
     "user_tz": -480
    },
    "id": "33584c52-d55b-46ec-a281-fa9584045844",
    "ExecuteTime": {
     "end_time": "2025-09-20T02:40:24.240003Z",
     "start_time": "2025-09-20T02:40:24.188844Z"
    }
   },
   "cell_type": "code",
   "source": "restaurant.head()",
   "id": "33584c52-d55b-46ec-a281-fa9584045844",
   "outputs": [
    {
     "data": {
      "text/plain": [
       "   Unnamed: 0  Customer_ID  Food_Item Category Date_of_Visit   Time  Weather  \\\n",
       "0           0         1075   Smoothie     Cold    2023-03-24  12:30    sunny   \n",
       "1           1         1030       Soup      Hot    2023-03-19  14:30  raining   \n",
       "2           2         1055  Ice Cream     Cold    2023-03-24  10:30    sunny   \n",
       "3           3         1058  Ice Cream     Cold    2023-03-05  22:00    sunny   \n",
       "4           4         1084   Smoothie     Cold    2023-03-29  16:30    sunny   \n",
       "\n",
       "   Price Weekend Public_Holiday  Year  Month  Day Day_of_Week  \\\n",
       "0  14.88      No             No  2023      3   24         Fri   \n",
       "1   6.72     Yes             No  2023      3   19         Sun   \n",
       "2  14.27      No             No  2023      3   24         Fri   \n",
       "3  14.69     Yes             No  2023      3    5         Sun   \n",
       "4   8.84      No            Yes  2023      3   29         Wed   \n",
       "\n",
       "   Discounted_Price  Category_Encoded Default_Date  \n",
       "0             13.39                 0   03-24-2023  \n",
       "1              6.05                 1   03-19-2023  \n",
       "2             12.84                 0   03-24-2023  \n",
       "3             13.22                 0   03-05-2023  \n",
       "4              7.96                 0   03-29-2023  "
      ],
      "text/html": [
       "<div>\n",
       "<style scoped>\n",
       "    .dataframe tbody tr th:only-of-type {\n",
       "        vertical-align: middle;\n",
       "    }\n",
       "\n",
       "    .dataframe tbody tr th {\n",
       "        vertical-align: top;\n",
       "    }\n",
       "\n",
       "    .dataframe thead th {\n",
       "        text-align: right;\n",
       "    }\n",
       "</style>\n",
       "<table border=\"1\" class=\"dataframe\">\n",
       "  <thead>\n",
       "    <tr style=\"text-align: right;\">\n",
       "      <th></th>\n",
       "      <th>Unnamed: 0</th>\n",
       "      <th>Customer_ID</th>\n",
       "      <th>Food_Item</th>\n",
       "      <th>Category</th>\n",
       "      <th>Date_of_Visit</th>\n",
       "      <th>Time</th>\n",
       "      <th>Weather</th>\n",
       "      <th>Price</th>\n",
       "      <th>Weekend</th>\n",
       "      <th>Public_Holiday</th>\n",
       "      <th>Year</th>\n",
       "      <th>Month</th>\n",
       "      <th>Day</th>\n",
       "      <th>Day_of_Week</th>\n",
       "      <th>Discounted_Price</th>\n",
       "      <th>Category_Encoded</th>\n",
       "      <th>Default_Date</th>\n",
       "    </tr>\n",
       "  </thead>\n",
       "  <tbody>\n",
       "    <tr>\n",
       "      <th>0</th>\n",
       "      <td>0</td>\n",
       "      <td>1075</td>\n",
       "      <td>Smoothie</td>\n",
       "      <td>Cold</td>\n",
       "      <td>2023-03-24</td>\n",
       "      <td>12:30</td>\n",
       "      <td>sunny</td>\n",
       "      <td>14.88</td>\n",
       "      <td>No</td>\n",
       "      <td>No</td>\n",
       "      <td>2023</td>\n",
       "      <td>3</td>\n",
       "      <td>24</td>\n",
       "      <td>Fri</td>\n",
       "      <td>13.39</td>\n",
       "      <td>0</td>\n",
       "      <td>03-24-2023</td>\n",
       "    </tr>\n",
       "    <tr>\n",
       "      <th>1</th>\n",
       "      <td>1</td>\n",
       "      <td>1030</td>\n",
       "      <td>Soup</td>\n",
       "      <td>Hot</td>\n",
       "      <td>2023-03-19</td>\n",
       "      <td>14:30</td>\n",
       "      <td>raining</td>\n",
       "      <td>6.72</td>\n",
       "      <td>Yes</td>\n",
       "      <td>No</td>\n",
       "      <td>2023</td>\n",
       "      <td>3</td>\n",
       "      <td>19</td>\n",
       "      <td>Sun</td>\n",
       "      <td>6.05</td>\n",
       "      <td>1</td>\n",
       "      <td>03-19-2023</td>\n",
       "    </tr>\n",
       "    <tr>\n",
       "      <th>2</th>\n",
       "      <td>2</td>\n",
       "      <td>1055</td>\n",
       "      <td>Ice Cream</td>\n",
       "      <td>Cold</td>\n",
       "      <td>2023-03-24</td>\n",
       "      <td>10:30</td>\n",
       "      <td>sunny</td>\n",
       "      <td>14.27</td>\n",
       "      <td>No</td>\n",
       "      <td>No</td>\n",
       "      <td>2023</td>\n",
       "      <td>3</td>\n",
       "      <td>24</td>\n",
       "      <td>Fri</td>\n",
       "      <td>12.84</td>\n",
       "      <td>0</td>\n",
       "      <td>03-24-2023</td>\n",
       "    </tr>\n",
       "    <tr>\n",
       "      <th>3</th>\n",
       "      <td>3</td>\n",
       "      <td>1058</td>\n",
       "      <td>Ice Cream</td>\n",
       "      <td>Cold</td>\n",
       "      <td>2023-03-05</td>\n",
       "      <td>22:00</td>\n",
       "      <td>sunny</td>\n",
       "      <td>14.69</td>\n",
       "      <td>Yes</td>\n",
       "      <td>No</td>\n",
       "      <td>2023</td>\n",
       "      <td>3</td>\n",
       "      <td>5</td>\n",
       "      <td>Sun</td>\n",
       "      <td>13.22</td>\n",
       "      <td>0</td>\n",
       "      <td>03-05-2023</td>\n",
       "    </tr>\n",
       "    <tr>\n",
       "      <th>4</th>\n",
       "      <td>4</td>\n",
       "      <td>1084</td>\n",
       "      <td>Smoothie</td>\n",
       "      <td>Cold</td>\n",
       "      <td>2023-03-29</td>\n",
       "      <td>16:30</td>\n",
       "      <td>sunny</td>\n",
       "      <td>8.84</td>\n",
       "      <td>No</td>\n",
       "      <td>Yes</td>\n",
       "      <td>2023</td>\n",
       "      <td>3</td>\n",
       "      <td>29</td>\n",
       "      <td>Wed</td>\n",
       "      <td>7.96</td>\n",
       "      <td>0</td>\n",
       "      <td>03-29-2023</td>\n",
       "    </tr>\n",
       "  </tbody>\n",
       "</table>\n",
       "</div>"
      ]
     },
     "execution_count": 4,
     "metadata": {},
     "output_type": "execute_result"
    }
   ],
   "execution_count": 4
  },
  {
   "metadata": {
    "executionInfo": {
     "elapsed": 2,
     "status": "ok",
     "timestamp": 1747119860780,
     "user": {
      "displayName": "Natalie Lazaroo",
      "userId": "05619457634600211708"
     },
     "user_tz": -480
    },
    "id": "cba4b179-3595-40e5-a14f-5d5c1cc1e7d9",
    "ExecuteTime": {
     "end_time": "2025-09-20T02:40:25.469722Z",
     "start_time": "2025-09-20T02:40:25.446351Z"
    }
   },
   "cell_type": "code",
   "source": "restaurant.info()",
   "id": "cba4b179-3595-40e5-a14f-5d5c1cc1e7d9",
   "outputs": [
    {
     "name": "stdout",
     "output_type": "stream",
     "text": [
      "<class 'pandas.core.frame.DataFrame'>\n",
      "RangeIndex: 989 entries, 0 to 988\n",
      "Data columns (total 17 columns):\n",
      " #   Column            Non-Null Count  Dtype  \n",
      "---  ------            --------------  -----  \n",
      " 0   Unnamed: 0        989 non-null    int64  \n",
      " 1   Customer_ID       989 non-null    int64  \n",
      " 2   Food_Item         989 non-null    object \n",
      " 3   Category          989 non-null    object \n",
      " 4   Date_of_Visit     989 non-null    object \n",
      " 5   Time              989 non-null    object \n",
      " 6   Weather           989 non-null    object \n",
      " 7   Price             989 non-null    float64\n",
      " 8   Weekend           989 non-null    object \n",
      " 9   Public_Holiday    989 non-null    object \n",
      " 10  Year              989 non-null    int64  \n",
      " 11  Month             989 non-null    int64  \n",
      " 12  Day               989 non-null    int64  \n",
      " 13  Day_of_Week       989 non-null    object \n",
      " 14  Discounted_Price  989 non-null    float64\n",
      " 15  Category_Encoded  989 non-null    int64  \n",
      " 16  Default_Date      989 non-null    object \n",
      "dtypes: float64(2), int64(6), object(9)\n",
      "memory usage: 131.5+ KB\n"
     ]
    }
   ],
   "execution_count": 5
  },
  {
   "metadata": {
    "ExecuteTime": {
     "end_time": "2025-09-20T02:40:26.650624Z",
     "start_time": "2025-09-20T02:40:26.618993Z"
    }
   },
   "cell_type": "code",
   "source": "demographics.head()",
   "id": "759c2eb8891f351b",
   "outputs": [
    {
     "data": {
      "text/plain": [
       "   Customer_ID  Gender   Age   Occupation Marital_Status\n",
       "0         1000    Male  36.0  Blue Collar         Single\n",
       "1         1001  Female  33.0  Blue Collar         Single\n",
       "2         1002  Female   NaN      Student         Single\n",
       "3         1003    Male  62.0    Executive        Married\n",
       "4         1004  Female  52.0      Manager        Married"
      ],
      "text/html": [
       "<div>\n",
       "<style scoped>\n",
       "    .dataframe tbody tr th:only-of-type {\n",
       "        vertical-align: middle;\n",
       "    }\n",
       "\n",
       "    .dataframe tbody tr th {\n",
       "        vertical-align: top;\n",
       "    }\n",
       "\n",
       "    .dataframe thead th {\n",
       "        text-align: right;\n",
       "    }\n",
       "</style>\n",
       "<table border=\"1\" class=\"dataframe\">\n",
       "  <thead>\n",
       "    <tr style=\"text-align: right;\">\n",
       "      <th></th>\n",
       "      <th>Customer_ID</th>\n",
       "      <th>Gender</th>\n",
       "      <th>Age</th>\n",
       "      <th>Occupation</th>\n",
       "      <th>Marital_Status</th>\n",
       "    </tr>\n",
       "  </thead>\n",
       "  <tbody>\n",
       "    <tr>\n",
       "      <th>0</th>\n",
       "      <td>1000</td>\n",
       "      <td>Male</td>\n",
       "      <td>36.0</td>\n",
       "      <td>Blue Collar</td>\n",
       "      <td>Single</td>\n",
       "    </tr>\n",
       "    <tr>\n",
       "      <th>1</th>\n",
       "      <td>1001</td>\n",
       "      <td>Female</td>\n",
       "      <td>33.0</td>\n",
       "      <td>Blue Collar</td>\n",
       "      <td>Single</td>\n",
       "    </tr>\n",
       "    <tr>\n",
       "      <th>2</th>\n",
       "      <td>1002</td>\n",
       "      <td>Female</td>\n",
       "      <td>NaN</td>\n",
       "      <td>Student</td>\n",
       "      <td>Single</td>\n",
       "    </tr>\n",
       "    <tr>\n",
       "      <th>3</th>\n",
       "      <td>1003</td>\n",
       "      <td>Male</td>\n",
       "      <td>62.0</td>\n",
       "      <td>Executive</td>\n",
       "      <td>Married</td>\n",
       "    </tr>\n",
       "    <tr>\n",
       "      <th>4</th>\n",
       "      <td>1004</td>\n",
       "      <td>Female</td>\n",
       "      <td>52.0</td>\n",
       "      <td>Manager</td>\n",
       "      <td>Married</td>\n",
       "    </tr>\n",
       "  </tbody>\n",
       "</table>\n",
       "</div>"
      ]
     },
     "execution_count": 6,
     "metadata": {},
     "output_type": "execute_result"
    }
   ],
   "execution_count": 6
  },
  {
   "metadata": {
    "ExecuteTime": {
     "end_time": "2025-09-20T02:40:27.392392Z",
     "start_time": "2025-09-20T02:40:27.380788Z"
    }
   },
   "cell_type": "code",
   "source": "demographics.info()\n",
   "id": "95a50d753c12cff7",
   "outputs": [
    {
     "name": "stdout",
     "output_type": "stream",
     "text": [
      "<class 'pandas.core.frame.DataFrame'>\n",
      "RangeIndex: 99 entries, 0 to 98\n",
      "Data columns (total 5 columns):\n",
      " #   Column          Non-Null Count  Dtype  \n",
      "---  ------          --------------  -----  \n",
      " 0   Customer_ID     99 non-null     int64  \n",
      " 1   Gender          99 non-null     object \n",
      " 2   Age             98 non-null     float64\n",
      " 3   Occupation      99 non-null     object \n",
      " 4   Marital_Status  99 non-null     object \n",
      "dtypes: float64(1), int64(1), object(3)\n",
      "memory usage: 4.0+ KB\n"
     ]
    }
   ],
   "execution_count": 7
  },
  {
   "cell_type": "code",
   "id": "35e9da70-a2af-484f-8fad-caf69a739f2f",
   "metadata": {
    "executionInfo": {
     "elapsed": 13,
     "status": "ok",
     "timestamp": 1747119860793,
     "user": {
      "displayName": "Natalie Lazaroo",
      "userId": "05619457634600211708"
     },
     "user_tz": -480
    },
    "id": "35e9da70-a2af-484f-8fad-caf69a739f2f",
    "ExecuteTime": {
     "end_time": "2025-09-20T02:40:28.460934Z",
     "start_time": "2025-09-20T02:40:28.454857Z"
    }
   },
   "source": "print(f\"Data shape for restaurant:{restaurant.shape} \\nData shape for customer demographics:{demographics.shape}\")",
   "outputs": [
    {
     "name": "stdout",
     "output_type": "stream",
     "text": [
      "Data shape for restaurant:(989, 17) \n",
      "Data shape for customer demographics:(99, 5)\n"
     ]
    }
   ],
   "execution_count": 8
  },
  {
   "cell_type": "markdown",
   "id": "d6155984",
   "metadata": {
    "id": "d6155984"
   },
   "source": [
    "### ✅ 1. Merge Function"
   ]
  },
  {
   "cell_type": "code",
   "id": "9ca9cdad-448f-4c59-b35b-413051f374c0",
   "metadata": {
    "executionInfo": {
     "elapsed": 8,
     "status": "ok",
     "timestamp": 1747119860811,
     "user": {
      "displayName": "Natalie Lazaroo",
      "userId": "05619457634600211708"
     },
     "user_tz": -480
    },
    "id": "9ca9cdad-448f-4c59-b35b-413051f374c0",
    "ExecuteTime": {
     "end_time": "2025-09-20T02:40:30.907782Z",
     "start_time": "2025-09-20T02:40:30.873965Z"
    }
   },
   "source": [
    "merged_df = demographics.merge(restaurant, on=\"Customer_ID\", how=\"left\")\n",
    "# more in notes\n",
    "merged_df.isnull().sum()"
   ],
   "outputs": [
    {
     "data": {
      "text/plain": [
       "Customer_ID          0\n",
       "Gender               0\n",
       "Age                 13\n",
       "Occupation           0\n",
       "Marital_Status       0\n",
       "Unnamed: 0           0\n",
       "Food_Item            0\n",
       "Category             0\n",
       "Date_of_Visit        0\n",
       "Time                 0\n",
       "Weather              0\n",
       "Price                0\n",
       "Weekend              0\n",
       "Public_Holiday       0\n",
       "Year                 0\n",
       "Month                0\n",
       "Day                  0\n",
       "Day_of_Week          0\n",
       "Discounted_Price     0\n",
       "Category_Encoded     0\n",
       "Default_Date         0\n",
       "dtype: int64"
      ]
     },
     "execution_count": 9,
     "metadata": {},
     "output_type": "execute_result"
    }
   ],
   "execution_count": 9
  },
  {
   "cell_type": "markdown",
   "id": "c9a35f5d",
   "metadata": {
    "id": "c9a35f5d"
   },
   "source": [
    " ### ✅ 2. GroupBy Function\n"
   ]
  },
  {
   "cell_type": "markdown",
   "id": "43cac676",
   "metadata": {
    "id": "43cac676"
   },
   "source": [
    "### Average spending by gender"
   ]
  },
  {
   "cell_type": "markdown",
   "id": "7645cd78",
   "metadata": {
    "id": "7645cd78"
   },
   "source": [
    "### Now the \"Gender\" column and \"Price\" column are together in the merged_dataset"
   ]
  },
  {
   "cell_type": "code",
   "id": "9141c143-4b95-41eb-a6dd-a4a20c1da503",
   "metadata": {
    "executionInfo": {
     "elapsed": 31,
     "status": "ok",
     "timestamp": 1747119860844,
     "user": {
      "displayName": "Natalie Lazaroo",
      "userId": "05619457634600211708"
     },
     "user_tz": -480
    },
    "id": "9141c143-4b95-41eb-a6dd-a4a20c1da503",
    "ExecuteTime": {
     "end_time": "2025-09-17T08:21:27.182001Z",
     "start_time": "2025-09-17T08:21:27.164251Z"
    }
   },
   "source": [
    "avg_spending_by_gender = merged_df.groupby(\"Gender\")[\"Price\"].mean().reset_index()\n",
    "avg_spending_by_gender"
   ],
   "outputs": [
    {
     "data": {
      "text/plain": [
       "   Gender      Price\n",
       "0  Female  12.806818\n",
       "1    Male  12.650735"
      ],
      "text/html": [
       "<div>\n",
       "<style scoped>\n",
       "    .dataframe tbody tr th:only-of-type {\n",
       "        vertical-align: middle;\n",
       "    }\n",
       "\n",
       "    .dataframe tbody tr th {\n",
       "        vertical-align: top;\n",
       "    }\n",
       "\n",
       "    .dataframe thead th {\n",
       "        text-align: right;\n",
       "    }\n",
       "</style>\n",
       "<table border=\"1\" class=\"dataframe\">\n",
       "  <thead>\n",
       "    <tr style=\"text-align: right;\">\n",
       "      <th></th>\n",
       "      <th>Gender</th>\n",
       "      <th>Price</th>\n",
       "    </tr>\n",
       "  </thead>\n",
       "  <tbody>\n",
       "    <tr>\n",
       "      <th>0</th>\n",
       "      <td>Female</td>\n",
       "      <td>12.806818</td>\n",
       "    </tr>\n",
       "    <tr>\n",
       "      <th>1</th>\n",
       "      <td>Male</td>\n",
       "      <td>12.650735</td>\n",
       "    </tr>\n",
       "  </tbody>\n",
       "</table>\n",
       "</div>"
      ]
     },
     "execution_count": 33,
     "metadata": {},
     "output_type": "execute_result"
    }
   ],
   "execution_count": 33
  },
  {
   "cell_type": "markdown",
   "id": "Z_KpEGuKdNld",
   "metadata": {
    "id": "Z_KpEGuKdNld"
   },
   "source": [
    "# ✅ 3. GroupBy Function - For Categorical Variable"
   ]
  },
  {
   "cell_type": "code",
   "id": "a58OONymdNJd",
   "metadata": {
    "executionInfo": {
     "elapsed": 1,
     "status": "ok",
     "timestamp": 1747119860939,
     "user": {
      "displayName": "Natalie Lazaroo",
      "userId": "05619457634600211708"
     },
     "user_tz": -480
    },
    "id": "a58OONymdNJd",
    "ExecuteTime": {
     "end_time": "2025-09-17T08:22:36.035510Z",
     "start_time": "2025-09-17T08:22:35.965037Z"
    }
   },
   "source": [
    "popular_food_by_occupation = merged_df.groupby([\"Occupation\",\"Food_Item\"]).size().reset_index(name=\"Count\")\n",
    "popular_food_by_occupation"
   ],
   "outputs": [
    {
     "data": {
      "text/plain": [
       "      Occupation  Food_Item  Count\n",
       "0    Blue Collar     Coffee     24\n",
       "1    Blue Collar  Ice Cream     78\n",
       "2    Blue Collar   Smoothie     80\n",
       "3    Blue Collar       Soup     26\n",
       "4    Blue Collar        Tea     23\n",
       "5      Executive     Coffee     20\n",
       "6      Executive  Ice Cream     45\n",
       "7      Executive   Smoothie     56\n",
       "8      Executive       Soup     21\n",
       "9      Executive        Tea     15\n",
       "10       Manager     Coffee     26\n",
       "11       Manager  Ice Cream    109\n",
       "12       Manager   Smoothie     94\n",
       "13       Manager       Soup     35\n",
       "14       Manager        Tea     31\n",
       "15       Student     Coffee     12\n",
       "16       Student  Ice Cream     64\n",
       "17       Student   Smoothie     77\n",
       "18       Student       Soup     17\n",
       "19       Student        Tea     14\n",
       "20  White Collar     Coffee     13\n",
       "21  White Collar  Ice Cream     40\n",
       "22  White Collar   Smoothie     39\n",
       "23  White Collar       Soup     13\n",
       "24  White Collar        Tea     12"
      ],
      "text/html": [
       "<div>\n",
       "<style scoped>\n",
       "    .dataframe tbody tr th:only-of-type {\n",
       "        vertical-align: middle;\n",
       "    }\n",
       "\n",
       "    .dataframe tbody tr th {\n",
       "        vertical-align: top;\n",
       "    }\n",
       "\n",
       "    .dataframe thead th {\n",
       "        text-align: right;\n",
       "    }\n",
       "</style>\n",
       "<table border=\"1\" class=\"dataframe\">\n",
       "  <thead>\n",
       "    <tr style=\"text-align: right;\">\n",
       "      <th></th>\n",
       "      <th>Occupation</th>\n",
       "      <th>Food_Item</th>\n",
       "      <th>Count</th>\n",
       "    </tr>\n",
       "  </thead>\n",
       "  <tbody>\n",
       "    <tr>\n",
       "      <th>0</th>\n",
       "      <td>Blue Collar</td>\n",
       "      <td>Coffee</td>\n",
       "      <td>24</td>\n",
       "    </tr>\n",
       "    <tr>\n",
       "      <th>1</th>\n",
       "      <td>Blue Collar</td>\n",
       "      <td>Ice Cream</td>\n",
       "      <td>78</td>\n",
       "    </tr>\n",
       "    <tr>\n",
       "      <th>2</th>\n",
       "      <td>Blue Collar</td>\n",
       "      <td>Smoothie</td>\n",
       "      <td>80</td>\n",
       "    </tr>\n",
       "    <tr>\n",
       "      <th>3</th>\n",
       "      <td>Blue Collar</td>\n",
       "      <td>Soup</td>\n",
       "      <td>26</td>\n",
       "    </tr>\n",
       "    <tr>\n",
       "      <th>4</th>\n",
       "      <td>Blue Collar</td>\n",
       "      <td>Tea</td>\n",
       "      <td>23</td>\n",
       "    </tr>\n",
       "    <tr>\n",
       "      <th>5</th>\n",
       "      <td>Executive</td>\n",
       "      <td>Coffee</td>\n",
       "      <td>20</td>\n",
       "    </tr>\n",
       "    <tr>\n",
       "      <th>6</th>\n",
       "      <td>Executive</td>\n",
       "      <td>Ice Cream</td>\n",
       "      <td>45</td>\n",
       "    </tr>\n",
       "    <tr>\n",
       "      <th>7</th>\n",
       "      <td>Executive</td>\n",
       "      <td>Smoothie</td>\n",
       "      <td>56</td>\n",
       "    </tr>\n",
       "    <tr>\n",
       "      <th>8</th>\n",
       "      <td>Executive</td>\n",
       "      <td>Soup</td>\n",
       "      <td>21</td>\n",
       "    </tr>\n",
       "    <tr>\n",
       "      <th>9</th>\n",
       "      <td>Executive</td>\n",
       "      <td>Tea</td>\n",
       "      <td>15</td>\n",
       "    </tr>\n",
       "    <tr>\n",
       "      <th>10</th>\n",
       "      <td>Manager</td>\n",
       "      <td>Coffee</td>\n",
       "      <td>26</td>\n",
       "    </tr>\n",
       "    <tr>\n",
       "      <th>11</th>\n",
       "      <td>Manager</td>\n",
       "      <td>Ice Cream</td>\n",
       "      <td>109</td>\n",
       "    </tr>\n",
       "    <tr>\n",
       "      <th>12</th>\n",
       "      <td>Manager</td>\n",
       "      <td>Smoothie</td>\n",
       "      <td>94</td>\n",
       "    </tr>\n",
       "    <tr>\n",
       "      <th>13</th>\n",
       "      <td>Manager</td>\n",
       "      <td>Soup</td>\n",
       "      <td>35</td>\n",
       "    </tr>\n",
       "    <tr>\n",
       "      <th>14</th>\n",
       "      <td>Manager</td>\n",
       "      <td>Tea</td>\n",
       "      <td>31</td>\n",
       "    </tr>\n",
       "    <tr>\n",
       "      <th>15</th>\n",
       "      <td>Student</td>\n",
       "      <td>Coffee</td>\n",
       "      <td>12</td>\n",
       "    </tr>\n",
       "    <tr>\n",
       "      <th>16</th>\n",
       "      <td>Student</td>\n",
       "      <td>Ice Cream</td>\n",
       "      <td>64</td>\n",
       "    </tr>\n",
       "    <tr>\n",
       "      <th>17</th>\n",
       "      <td>Student</td>\n",
       "      <td>Smoothie</td>\n",
       "      <td>77</td>\n",
       "    </tr>\n",
       "    <tr>\n",
       "      <th>18</th>\n",
       "      <td>Student</td>\n",
       "      <td>Soup</td>\n",
       "      <td>17</td>\n",
       "    </tr>\n",
       "    <tr>\n",
       "      <th>19</th>\n",
       "      <td>Student</td>\n",
       "      <td>Tea</td>\n",
       "      <td>14</td>\n",
       "    </tr>\n",
       "    <tr>\n",
       "      <th>20</th>\n",
       "      <td>White Collar</td>\n",
       "      <td>Coffee</td>\n",
       "      <td>13</td>\n",
       "    </tr>\n",
       "    <tr>\n",
       "      <th>21</th>\n",
       "      <td>White Collar</td>\n",
       "      <td>Ice Cream</td>\n",
       "      <td>40</td>\n",
       "    </tr>\n",
       "    <tr>\n",
       "      <th>22</th>\n",
       "      <td>White Collar</td>\n",
       "      <td>Smoothie</td>\n",
       "      <td>39</td>\n",
       "    </tr>\n",
       "    <tr>\n",
       "      <th>23</th>\n",
       "      <td>White Collar</td>\n",
       "      <td>Soup</td>\n",
       "      <td>13</td>\n",
       "    </tr>\n",
       "    <tr>\n",
       "      <th>24</th>\n",
       "      <td>White Collar</td>\n",
       "      <td>Tea</td>\n",
       "      <td>12</td>\n",
       "    </tr>\n",
       "  </tbody>\n",
       "</table>\n",
       "</div>"
      ]
     },
     "execution_count": 35,
     "metadata": {},
     "output_type": "execute_result"
    }
   ],
   "execution_count": 35
  },
  {
   "cell_type": "markdown",
   "id": "3b570448-b032-4cc0-be75-dacd7cfabc89",
   "metadata": {},
   "source": [
    "# ✅ 4: Export the Cleaned Dataset After applying the transformations, we save the cleaned dataset for further analysis in lesson 4B."
   ]
  },
  {
   "cell_type": "code",
   "id": "1c2f2210-2073-4009-9a97-f10edfde1211",
   "metadata": {
    "ExecuteTime": {
     "end_time": "2025-09-17T08:25:38.907597Z",
     "start_time": "2025-09-17T08:25:38.832444Z"
    }
   },
   "source": "merged_df.to_csv(\"merged_data.csv\", index=False)",
   "outputs": [],
   "execution_count": 36
  },
  {
   "metadata": {},
   "cell_type": "code",
   "outputs": [],
   "execution_count": null,
   "source": "",
   "id": "32b39b3abba1571"
  }
 ],
 "metadata": {
  "colab": {
   "provenance": []
  },
  "kernelspec": {
   "display_name": "Python [conda env:base] *",
   "language": "python",
   "name": "conda-base-py"
  },
  "language_info": {
   "codemirror_mode": {
    "name": "ipython",
    "version": 3
   },
   "file_extension": ".py",
   "mimetype": "text/x-python",
   "name": "python",
   "nbconvert_exporter": "python",
   "pygments_lexer": "ipython3",
   "version": "3.12.7"
  }
 },
 "nbformat": 4,
 "nbformat_minor": 5
}
